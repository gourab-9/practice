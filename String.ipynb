{
 "cells": [
  {
   "cell_type": "code",
   "execution_count": 1,
   "id": "55a7335d",
   "metadata": {},
   "outputs": [
    {
     "name": "stdout",
     "output_type": "stream",
     "text": [
      "Hello world\n"
     ]
    }
   ],
   "source": [
    "print('Hello world')"
   ]
  },
  {
   "cell_type": "code",
   "execution_count": 2,
   "id": "674db08b",
   "metadata": {},
   "outputs": [
    {
     "name": "stdout",
     "output_type": "stream",
     "text": [
      "Gourab singh\n"
     ]
    }
   ],
   "source": [
    "print('Gourab singh')"
   ]
  },
  {
   "cell_type": "code",
   "execution_count": 3,
   "id": "706058f9",
   "metadata": {},
   "outputs": [
    {
     "ename": "SyntaxError",
     "evalue": "invalid syntax (3346190109.py, line 1)",
     "output_type": "error",
     "traceback": [
      "\u001b[1;36m  Input \u001b[1;32mIn [3]\u001b[1;36m\u001b[0m\n\u001b[1;33m    print(Gourab Kumar)\u001b[0m\n\u001b[1;37m                 ^\u001b[0m\n\u001b[1;31mSyntaxError\u001b[0m\u001b[1;31m:\u001b[0m invalid syntax\n"
     ]
    }
   ],
   "source": [
    "print(Gourab Kumar)"
   ]
  },
  {
   "cell_type": "code",
   "execution_count": 5,
   "id": "b69b1494",
   "metadata": {},
   "outputs": [
    {
     "name": "stdout",
     "output_type": "stream",
     "text": [
      "9\n"
     ]
    }
   ],
   "source": [
    "print(9)"
   ]
  },
  {
   "cell_type": "code",
   "execution_count": 6,
   "id": "1af8f114",
   "metadata": {},
   "outputs": [
    {
     "name": "stdout",
     "output_type": "stream",
     "text": [
      "9.9\n"
     ]
    }
   ],
   "source": [
    "print(9.9)"
   ]
  },
  {
   "cell_type": "code",
   "execution_count": 7,
   "id": "87f1ef03",
   "metadata": {},
   "outputs": [
    {
     "name": "stdout",
     "output_type": "stream",
     "text": [
      "True\n"
     ]
    }
   ],
   "source": [
    "print(True)"
   ]
  },
  {
   "cell_type": "code",
   "execution_count": 8,
   "id": "f931a503",
   "metadata": {},
   "outputs": [
    {
     "name": "stdout",
     "output_type": "stream",
     "text": [
      "Hello 1 4.5 True\n"
     ]
    }
   ],
   "source": [
    "print('Hello',1,4.5,True)"
   ]
  },
  {
   "cell_type": "code",
   "execution_count": 9,
   "id": "6ff8889c",
   "metadata": {},
   "outputs": [
    {
     "name": "stdout",
     "output_type": "stream",
     "text": [
      "Hello/1/4.5/True\n"
     ]
    }
   ],
   "source": [
    "print('Hello',1,4.5,True,sep = '/')"
   ]
  },
  {
   "cell_type": "code",
   "execution_count": 10,
   "id": "0bb71f3b",
   "metadata": {},
   "outputs": [
    {
     "name": "stdout",
     "output_type": "stream",
     "text": [
      "Hello_World\n"
     ]
    }
   ],
   "source": [
    "print(\"Hello\",end='_')\n",
    "print(\"World\")"
   ]
  },
  {
   "cell_type": "code",
   "execution_count": 11,
   "id": "97d0536e",
   "metadata": {},
   "outputs": [
    {
     "name": "stdout",
     "output_type": "stream",
     "text": [
      "8\n",
      "1e+308\n"
     ]
    }
   ],
   "source": [
    "print(8)\n",
    "print(1e308) # not handle 1e309"
   ]
  },
  {
   "cell_type": "code",
   "execution_count": 12,
   "id": "eacaeeea",
   "metadata": {},
   "outputs": [
    {
     "name": "stdout",
     "output_type": "stream",
     "text": [
      "9.99\n",
      "1.7e+308\n"
     ]
    }
   ],
   "source": [
    "print(9.99)\n",
    "print(1.7e308)"
   ]
  },
  {
   "cell_type": "code",
   "execution_count": 13,
   "id": "b930d9d6",
   "metadata": {},
   "outputs": [
    {
     "name": "stdout",
     "output_type": "stream",
     "text": [
      "True\n",
      "False\n"
     ]
    }
   ],
   "source": [
    "print(True)\n",
    "print(False)"
   ]
  },
  {
   "cell_type": "code",
   "execution_count": 14,
   "id": "6ba1d6cb",
   "metadata": {},
   "outputs": [
    {
     "name": "stdout",
     "output_type": "stream",
     "text": [
      "Hello World\n"
     ]
    }
   ],
   "source": [
    "print('Hello World')"
   ]
  },
  {
   "cell_type": "code",
   "execution_count": 15,
   "id": "cfacbfec",
   "metadata": {},
   "outputs": [
    {
     "name": "stdout",
     "output_type": "stream",
     "text": [
      "(5+6j)\n"
     ]
    }
   ],
   "source": [
    "print(5+6j)"
   ]
  },
  {
   "cell_type": "code",
   "execution_count": 16,
   "id": "25088479",
   "metadata": {},
   "outputs": [
    {
     "name": "stdout",
     "output_type": "stream",
     "text": [
      "[1, 2, 3, 4, 5, 6, 7, 8, 9]\n"
     ]
    }
   ],
   "source": [
    "print([1,2,3,4,5,6,7,8,9])"
   ]
  },
  {
   "cell_type": "code",
   "execution_count": 17,
   "id": "697b48eb",
   "metadata": {},
   "outputs": [
    {
     "name": "stdout",
     "output_type": "stream",
     "text": [
      "(1, 2, 3, 4, 5, 6, 7, 8, 9)\n"
     ]
    }
   ],
   "source": [
    "print((1,2,3,4,5,6,7,8,9))"
   ]
  },
  {
   "cell_type": "code",
   "execution_count": 18,
   "id": "54648a3a",
   "metadata": {},
   "outputs": [
    {
     "name": "stdout",
     "output_type": "stream",
     "text": [
      "{1, 2, 3, 4, 5, 6, 7, 8, 9}\n"
     ]
    }
   ],
   "source": [
    "print({1,2,3,4,5,6,7,8,9})"
   ]
  },
  {
   "cell_type": "code",
   "execution_count": 19,
   "id": "31bfcaae",
   "metadata": {},
   "outputs": [
    {
     "name": "stdout",
     "output_type": "stream",
     "text": [
      "{1: 1, 2: 2, 3: 3, 4: 4, 5: 5, 6: 6, 7: 7, 8: 8, 9: 9}\n"
     ]
    }
   ],
   "source": [
    "print({1:1,2:2,3:3,4:4,5:5,6:6,7:7,8:8,9:9})"
   ]
  },
  {
   "cell_type": "code",
   "execution_count": 20,
   "id": "c93cf979",
   "metadata": {},
   "outputs": [
    {
     "data": {
      "text/plain": [
       "int"
      ]
     },
     "execution_count": 20,
     "metadata": {},
     "output_type": "execute_result"
    }
   ],
   "source": [
    "type(6+7)"
   ]
  },
  {
   "cell_type": "code",
   "execution_count": 21,
   "id": "dcb97e12",
   "metadata": {},
   "outputs": [
    {
     "data": {
      "text/plain": [
       "str"
      ]
     },
     "execution_count": 21,
     "metadata": {},
     "output_type": "execute_result"
    }
   ],
   "source": [
    "type(\"hello\")"
   ]
  },
  {
   "cell_type": "code",
   "execution_count": 22,
   "id": "d92c23c1",
   "metadata": {},
   "outputs": [
    {
     "name": "stdout",
     "output_type": "stream",
     "text": [
      "Gourab singh\n"
     ]
    }
   ],
   "source": [
    "name = 'Gourab singh'\n",
    "print(name)"
   ]
  },
  {
   "cell_type": "code",
   "execution_count": 23,
   "id": "e95077ef",
   "metadata": {},
   "outputs": [
    {
     "name": "stdout",
     "output_type": "stream",
     "text": [
      "11\n"
     ]
    }
   ],
   "source": [
    "a = 5\n",
    "b = 6\n",
    "print(a+b)"
   ]
  },
  {
   "cell_type": "code",
   "execution_count": 24,
   "id": "b32c51ab",
   "metadata": {},
   "outputs": [],
   "source": [
    "#Dynamic typing \n",
    "a = 5\n",
    "#Static Typing\n",
    "#int a = 5"
   ]
  },
  {
   "cell_type": "code",
   "execution_count": 25,
   "id": "574ba12c",
   "metadata": {},
   "outputs": [
    {
     "name": "stdout",
     "output_type": "stream",
     "text": [
      "9\n",
      "Gourab Kumar\n"
     ]
    }
   ],
   "source": [
    "#Dynamic Binding\n",
    "a = 9\n",
    "print(a)\n",
    "a = \"Gourab Kumar\"\n",
    "print(a)"
   ]
  },
  {
   "cell_type": "code",
   "execution_count": 26,
   "id": "6ffd0c01",
   "metadata": {},
   "outputs": [
    {
     "name": "stdout",
     "output_type": "stream",
     "text": [
      "1 2 3\n"
     ]
    }
   ],
   "source": [
    "a,b,c = 1,2,3\n",
    "print(a,b,c)"
   ]
  },
  {
   "cell_type": "code",
   "execution_count": 27,
   "id": "9445c028",
   "metadata": {},
   "outputs": [
    {
     "name": "stdout",
     "output_type": "stream",
     "text": [
      "a :-> 9 b :-> 9 c :-> 9\n"
     ]
    }
   ],
   "source": [
    "a= b= c= 9\n",
    "print(\"a :->\", a ,\"b :->\", b,\"c :->\", c)"
   ]
  },
  {
   "cell_type": "code",
   "execution_count": 28,
   "id": "7d69138a",
   "metadata": {},
   "outputs": [
    {
     "name": "stdout",
     "output_type": "stream",
     "text": [
      "Gourab Kumar\n"
     ]
    }
   ],
   "source": [
    "# You can't start with a digit\n",
    "# You can use only spl. character (_) \n",
    "name_1 = \"Gourab Kumar\"\n",
    "print(name_1)"
   ]
  },
  {
   "cell_type": "code",
   "execution_count": 29,
   "id": "07d42320",
   "metadata": {},
   "outputs": [
    {
     "name": "stdout",
     "output_type": "stream",
     "text": [
      "Gourab\n"
     ]
    },
    {
     "data": {
      "text/plain": [
       "'Gourab'"
      ]
     },
     "execution_count": 29,
     "metadata": {},
     "output_type": "execute_result"
    }
   ],
   "source": [
    "input()"
   ]
  },
  {
   "cell_type": "code",
   "execution_count": 30,
   "id": "67fc2331",
   "metadata": {},
   "outputs": [
    {
     "name": "stdout",
     "output_type": "stream",
     "text": [
      "Enter your name gourab\n"
     ]
    },
    {
     "data": {
      "text/plain": [
       "'gourab'"
      ]
     },
     "execution_count": 30,
     "metadata": {},
     "output_type": "execute_result"
    }
   ],
   "source": [
    "input(\"Enter your name \")"
   ]
  },
  {
   "cell_type": "code",
   "execution_count": 31,
   "id": "d05b8aa1",
   "metadata": {},
   "outputs": [
    {
     "name": "stdout",
     "output_type": "stream",
     "text": [
      "Enter email gourabsingh09@gmail.com\n"
     ]
    },
    {
     "data": {
      "text/plain": [
       "'gourabsingh09@gmail.com'"
      ]
     },
     "execution_count": 31,
     "metadata": {},
     "output_type": "execute_result"
    }
   ],
   "source": [
    "input(\"Enter email \")"
   ]
  },
  {
   "cell_type": "code",
   "execution_count": 33,
   "id": "cf003131",
   "metadata": {},
   "outputs": [
    {
     "name": "stdout",
     "output_type": "stream",
     "text": [
      "enter your first number 567\n",
      "Enter your last number 234\n",
      "801\n",
      "<class 'int'> <class 'int'>\n",
      "<class 'int'>\n"
     ]
    }
   ],
   "source": [
    "# Take input from users and store them in a variable\n",
    "fnum = int(input(\"enter your first number \"))\n",
    "sname = int(input(\"Enter your last number \"))\n",
    "result = fnum + sname\n",
    "print(result)\n",
    "# Add  the two Variable\n",
    "# Print the result\n",
    "print(type(fnum),type(sname))\n",
    "print(type(fnum))"
   ]
  },
  {
   "cell_type": "code",
   "execution_count": 34,
   "id": "979dcf8b",
   "metadata": {},
   "outputs": [
    {
     "name": "stdout",
     "output_type": "stream",
     "text": [
      "<class 'tuple'>\n"
     ]
    }
   ],
   "source": [
    "a = (1,)\n",
    "print(type(a))"
   ]
  },
  {
   "cell_type": "code",
   "execution_count": 35,
   "id": "1e39c493",
   "metadata": {},
   "outputs": [
    {
     "name": "stdout",
     "output_type": "stream",
     "text": [
      "10.6\n",
      "<class 'int'> <class 'float'>\n"
     ]
    }
   ],
   "source": [
    "print(5+5.6)\n",
    "print(type(5),type(5.6))"
   ]
  },
  {
   "cell_type": "code",
   "execution_count": 36,
   "id": "8f083fc9",
   "metadata": {},
   "outputs": [
    {
     "ename": "TypeError",
     "evalue": "unsupported operand type(s) for +: 'int' and 'str'",
     "output_type": "error",
     "traceback": [
      "\u001b[1;31m---------------------------------------------------------------------------\u001b[0m",
      "\u001b[1;31mTypeError\u001b[0m                                 Traceback (most recent call last)",
      "Input \u001b[1;32mIn [36]\u001b[0m, in \u001b[0;36m<cell line: 1>\u001b[1;34m()\u001b[0m\n\u001b[1;32m----> 1\u001b[0m \u001b[38;5;28mprint\u001b[39m(\u001b[38;5;28mint\u001b[39m(\u001b[38;5;241;43m4\u001b[39;49m\u001b[38;5;241;43m+\u001b[39;49m\u001b[38;5;124;43m'\u001b[39;49m\u001b[38;5;124;43m4\u001b[39;49m\u001b[38;5;124;43m'\u001b[39;49m))\n",
      "\u001b[1;31mTypeError\u001b[0m: unsupported operand type(s) for +: 'int' and 'str'"
     ]
    }
   ],
   "source": [
    "print(int(4+'4'))"
   ]
  },
  {
   "cell_type": "code",
   "execution_count": 37,
   "id": "bb47cb76",
   "metadata": {},
   "outputs": [
    {
     "ename": "TypeError",
     "evalue": "can't convert complex to int",
     "output_type": "error",
     "traceback": [
      "\u001b[1;31m---------------------------------------------------------------------------\u001b[0m",
      "\u001b[1;31mTypeError\u001b[0m                                 Traceback (most recent call last)",
      "Input \u001b[1;32mIn [37]\u001b[0m, in \u001b[0;36m<cell line: 1>\u001b[1;34m()\u001b[0m\n\u001b[1;32m----> 1\u001b[0m \u001b[38;5;28;43mint\u001b[39;49m\u001b[43m(\u001b[49m\u001b[38;5;241;43m4\u001b[39;49m\u001b[38;5;241;43m+\u001b[39;49m\u001b[38;5;241;43m5\u001b[39;49m\u001b[43mj\u001b[49m\u001b[43m)\u001b[49m\n",
      "\u001b[1;31mTypeError\u001b[0m: can't convert complex to int"
     ]
    }
   ],
   "source": [
    "int(4+5j)"
   ]
  },
  {
   "cell_type": "code",
   "execution_count": 38,
   "id": "c819f73f",
   "metadata": {},
   "outputs": [
    {
     "name": "stdout",
     "output_type": "stream",
     "text": [
      "5\n"
     ]
    }
   ],
   "source": [
    "print(str(5))"
   ]
  },
  {
   "cell_type": "code",
   "execution_count": 39,
   "id": "bc6e94d7",
   "metadata": {},
   "outputs": [
    {
     "data": {
      "text/plain": [
       "21"
      ]
     },
     "execution_count": 39,
     "metadata": {},
     "output_type": "execute_result"
    }
   ],
   "source": [
    "a = 0b10101 # 0b10101\n",
    "a           # Binary conversion"
   ]
  },
  {
   "cell_type": "code",
   "execution_count": 40,
   "id": "bd9cfaa7",
   "metadata": {},
   "outputs": [
    {
     "data": {
      "text/plain": [
       "15200.0"
      ]
     },
     "execution_count": 40,
     "metadata": {},
     "output_type": "execute_result"
    }
   ],
   "source": [
    "b = 15.2e3\n",
    "b"
   ]
  },
  {
   "cell_type": "code",
   "execution_count": 41,
   "id": "9f416a94",
   "metadata": {},
   "outputs": [
    {
     "name": "stdout",
     "output_type": "stream",
     "text": [
      "0.0 5.15\n"
     ]
    }
   ],
   "source": [
    "x = 5.15j\n",
    "print(x.real, x.imag)"
   ]
  },
  {
   "cell_type": "code",
   "execution_count": 42,
   "id": "b5499ed2",
   "metadata": {},
   "outputs": [
    {
     "name": "stdout",
     "output_type": "stream",
     "text": [
      "I am 'Gourab kumar singh' \n"
     ]
    }
   ],
   "source": [
    "strings = \"I am 'Gourab kumar singh' \"\n",
    "print(strings)"
   ]
  },
  {
   "cell_type": "code",
   "execution_count": 43,
   "id": "b78304f3",
   "metadata": {},
   "outputs": [
    {
     "name": "stdout",
     "output_type": "stream",
     "text": [
      "😀😆🤣\n"
     ]
    }
   ],
   "source": [
    "unicode = u\"\\U0001f600\\U0001F606\\U0001F923\"\n",
    "print(unicode)"
   ]
  },
  {
   "cell_type": "code",
   "execution_count": 44,
   "id": "89426fe6",
   "metadata": {},
   "outputs": [
    {
     "name": "stdout",
     "output_type": "stream",
     "text": [
      "9\n",
      "9\n"
     ]
    }
   ],
   "source": [
    "a = True+8\n",
    "b = False + 9\n",
    "print(a,b,sep='\\n')"
   ]
  },
  {
   "cell_type": "code",
   "execution_count": 45,
   "id": "a113e373",
   "metadata": {},
   "outputs": [
    {
     "name": "stdout",
     "output_type": "stream",
     "text": [
      "Nothing\n"
     ]
    }
   ],
   "source": [
    "k = None\n",
    "b = 5 \n",
    "c = 6\n",
    "print(\"Nothing\")"
   ]
  },
  {
   "cell_type": "code",
   "execution_count": 46,
   "id": "bd7a3292",
   "metadata": {},
   "outputs": [
    {
     "name": "stdout",
     "output_type": "stream",
     "text": [
      "9\n",
      "1\n",
      "9\n",
      "9.0\n",
      "9\n",
      "1\n",
      "9\n"
     ]
    }
   ],
   "source": [
    "print(5+4)\n",
    "print(5-4)\n",
    "print(3*3)\n",
    "print(18/2)\n",
    "print(18//2)\n",
    "print(9%2)\n",
    "print(3**2)"
   ]
  },
  {
   "cell_type": "code",
   "execution_count": 47,
   "id": "08dd9550",
   "metadata": {},
   "outputs": [
    {
     "name": "stdout",
     "output_type": "stream",
     "text": [
      "False\n"
     ]
    }
   ],
   "source": [
    "print(9<3)"
   ]
  },
  {
   "cell_type": "code",
   "execution_count": 48,
   "id": "ffdf2f39",
   "metadata": {},
   "outputs": [
    {
     "name": "stdout",
     "output_type": "stream",
     "text": [
      "True\n"
     ]
    }
   ],
   "source": [
    "print(9>3)"
   ]
  },
  {
   "cell_type": "code",
   "execution_count": 49,
   "id": "6b2cede7",
   "metadata": {},
   "outputs": [
    {
     "name": "stdout",
     "output_type": "stream",
     "text": [
      "True\n"
     ]
    }
   ],
   "source": [
    "print(4==4)"
   ]
  },
  {
   "cell_type": "code",
   "execution_count": 50,
   "id": "684b4786",
   "metadata": {},
   "outputs": [
    {
     "name": "stdout",
     "output_type": "stream",
     "text": [
      "True\n"
     ]
    }
   ],
   "source": [
    "print(9!=3)"
   ]
  },
  {
   "cell_type": "code",
   "execution_count": 51,
   "id": "170cbfc8",
   "metadata": {},
   "outputs": [
    {
     "name": "stdout",
     "output_type": "stream",
     "text": [
      "0\n"
     ]
    }
   ],
   "source": [
    "print(1 and 0)"
   ]
  },
  {
   "cell_type": "code",
   "execution_count": 52,
   "id": "2699ddf6",
   "metadata": {},
   "outputs": [
    {
     "name": "stdout",
     "output_type": "stream",
     "text": [
      "1\n"
     ]
    }
   ],
   "source": [
    "print(1 and 1)"
   ]
  },
  {
   "cell_type": "code",
   "execution_count": 53,
   "id": "8c50d803",
   "metadata": {},
   "outputs": [
    {
     "name": "stdout",
     "output_type": "stream",
     "text": [
      "0\n"
     ]
    }
   ],
   "source": [
    "print(0 and 1)"
   ]
  },
  {
   "cell_type": "code",
   "execution_count": 54,
   "id": "95996421",
   "metadata": {},
   "outputs": [
    {
     "name": "stdout",
     "output_type": "stream",
     "text": [
      "1\n"
     ]
    }
   ],
   "source": [
    "print(1 or 1)"
   ]
  },
  {
   "cell_type": "code",
   "execution_count": 55,
   "id": "71a7e064",
   "metadata": {},
   "outputs": [
    {
     "name": "stdout",
     "output_type": "stream",
     "text": [
      "0\n"
     ]
    }
   ],
   "source": [
    "print(0 or 0)"
   ]
  },
  {
   "cell_type": "code",
   "execution_count": 56,
   "id": "15b0a095",
   "metadata": {},
   "outputs": [
    {
     "name": "stdout",
     "output_type": "stream",
     "text": [
      "2\n",
      "3\n"
     ]
    }
   ],
   "source": [
    "print(2&3)\n",
    "print(2|3)"
   ]
  },
  {
   "cell_type": "code",
   "execution_count": 57,
   "id": "9a9d8478",
   "metadata": {},
   "outputs": [
    {
     "name": "stdout",
     "output_type": "stream",
     "text": [
      "-4\n"
     ]
    }
   ],
   "source": [
    "print(~3)"
   ]
  },
  {
   "cell_type": "code",
   "execution_count": 58,
   "id": "de197c83",
   "metadata": {},
   "outputs": [
    {
     "name": "stdout",
     "output_type": "stream",
     "text": [
      "4\n",
      "9\n"
     ]
    }
   ],
   "source": [
    "a = 2\n",
    "b = a+2\n",
    "print(b)\n",
    "a += 7\n",
    "print(a)"
   ]
  },
  {
   "cell_type": "code",
   "execution_count": 59,
   "id": "76ae8f50",
   "metadata": {},
   "outputs": [
    {
     "name": "stdout",
     "output_type": "stream",
     "text": [
      "True\n"
     ]
    }
   ],
   "source": [
    "print(\"SINGH\" in \"GOURAB KUMAR SINGH RAJPUT\")"
   ]
  },
  {
   "cell_type": "code",
   "execution_count": 60,
   "id": "fe33e341",
   "metadata": {},
   "outputs": [
    {
     "name": "stdout",
     "output_type": "stream",
     "text": [
      "True\n"
     ]
    }
   ],
   "source": [
    "print(9 in [1,2,3,4,5,6,7,8,9])"
   ]
  },
  {
   "cell_type": "code",
   "execution_count": 61,
   "id": "4d3adfc1",
   "metadata": {},
   "outputs": [
    {
     "name": "stdout",
     "output_type": "stream",
     "text": [
      "Enter a three digit number345\n",
      "345\n"
     ]
    }
   ],
   "source": [
    "number = int(input('Enter a three digit number'))\n",
    "print(number)"
   ]
  },
  {
   "cell_type": "code",
   "execution_count": 62,
   "id": "2fff2adb",
   "metadata": {},
   "outputs": [
    {
     "name": "stdout",
     "output_type": "stream",
     "text": [
      "Enter a three digit number999\n",
      "27\n"
     ]
    }
   ],
   "source": [
    "number = int(input('Enter a three digit number'))\n",
    "a = number%10\n",
    "number = number//10\n",
    "\n",
    "b = number%10\n",
    "number = number//10\n",
    "\n",
    "c = number%10\n",
    "number = number//10\n",
    "\n",
    "print(a+b+c)"
   ]
  },
  {
   "cell_type": "code",
   "execution_count": 63,
   "id": "e9c9725b",
   "metadata": {},
   "outputs": [
    {
     "name": "stdout",
     "output_type": "stream",
     "text": [
      "Enter your email -->>gourabsingh09@gmail.com\n",
      "Enter your password -->>99998\n",
      "Your password is not correct\n",
      "Enter your password -->99999\n",
      "Finally you did it \n"
     ]
    }
   ],
   "source": [
    "# email = gourabsingh09@gmail.com\n",
    "# pass = 99999\n",
    "\n",
    "email = input(\"Enter your email -->>\")\n",
    "password = input(\"Enter your password -->>\")\n",
    "\n",
    "if email == 'gourabsingh09@gmail.com' and password == '99999':\n",
    "    print(\"welcome\")\n",
    "elif email != 'gourabsingh09@gmail.com' and password == '99999':\n",
    "    print (\"Your email is not correct\")\n",
    "elif email == 'gourabsingh09@gmail.com' and password != '99999':\n",
    "    print(\"Your password is not correct\")\n",
    "    password = input(\"Enter your password -->\")\n",
    "    if password == '99999':\n",
    "        print(\"Finally you did it \")\n",
    "    else:\n",
    "        print(\"Tu rahne de bhai\")\n",
    "else:\n",
    "    print(\"Your email and password both are not correct\")"
   ]
  },
  {
   "cell_type": "code",
   "execution_count": 64,
   "id": "9769d197",
   "metadata": {},
   "outputs": [
    {
     "name": "stdout",
     "output_type": "stream",
     "text": [
      "Enter your number234\n",
      "Enter your number5678\n",
      "Enter your number2334\n",
      "a is smallest  234\n"
     ]
    }
   ],
   "source": [
    "a = int(input(\"Enter your number\"))\n",
    "b = int(input(\"Enter your number\"))\n",
    "c = int(input(\"Enter your number\"))\n",
    "if a<b and a<c:\n",
    "    print('a is smallest ',a)\n",
    "elif b<a and b<c:\n",
    "    print('b is smallest ',b)\n",
    "elif c<a and c<b:\n",
    "    print('c is smallest ',c)\n",
    "else:\n",
    "    print ('all are equal')"
   ]
  },
  {
   "cell_type": "code",
   "execution_count": 66,
   "id": "da76ead7",
   "metadata": {},
   "outputs": [
    {
     "name": "stdout",
     "output_type": "stream",
     "text": [
      "enter your first number 99\n",
      "enter your second number 99\n",
      "What operation do you want to do **\n",
      "9801\n"
     ]
    }
   ],
   "source": [
    "fnum = int(input(\"enter your first number \"))\n",
    "snum = int(input(\"enter your second number \"))\n",
    "\n",
    "operation = input(\"What operation do you want to do \")\n",
    "\n",
    "if \"+\" in operation:     # if operation == +:\n",
    "    print(fnum+snum)\n",
    "elif \"-\" in operation:\n",
    "    print(fnum-snum)\n",
    "elif \"*\" in operation:\n",
    "    print(fnum * snum )\n",
    "elif '/' in operation:\n",
    "    print(fnum/snum)\n",
    "elif '//' in operation:\n",
    "    print(fnum//snum)\n",
    "elif '%' in operation:\n",
    "    print(fnum%snum)\n",
    "elif \"**\" in operation:\n",
    "    print(fnum**snum)"
   ]
  },
  {
   "cell_type": "code",
   "execution_count": 67,
   "id": "f5a38798",
   "metadata": {},
   "outputs": [
    {
     "data": {
      "text/plain": [
       "362880"
      ]
     },
     "execution_count": 67,
     "metadata": {},
     "output_type": "execute_result"
    }
   ],
   "source": [
    "import math\n",
    "math.factorial(9)"
   ]
  },
  {
   "cell_type": "code",
   "execution_count": 68,
   "id": "7b1bc25e",
   "metadata": {},
   "outputs": [
    {
     "data": {
      "text/plain": [
       "9"
      ]
     },
     "execution_count": 68,
     "metadata": {},
     "output_type": "execute_result"
    }
   ],
   "source": [
    "math.floor(9.78)"
   ]
  },
  {
   "cell_type": "code",
   "execution_count": 69,
   "id": "eafee846",
   "metadata": {},
   "outputs": [
    {
     "data": {
      "text/plain": [
       "13.0"
      ]
     },
     "execution_count": 69,
     "metadata": {},
     "output_type": "execute_result"
    }
   ],
   "source": [
    "math.sqrt(169)"
   ]
  },
  {
   "cell_type": "code",
   "execution_count": 70,
   "id": "cd6e1626",
   "metadata": {},
   "outputs": [
    {
     "name": "stdout",
     "output_type": "stream",
     "text": [
      "36\n"
     ]
    }
   ],
   "source": [
    "import keyword\n",
    "print(len(keyword.kwlist))"
   ]
  },
  {
   "cell_type": "code",
   "execution_count": 71,
   "id": "465282a9",
   "metadata": {},
   "outputs": [
    {
     "name": "stdout",
     "output_type": "stream",
     "text": [
      "28\n"
     ]
    }
   ],
   "source": [
    "import random\n",
    "print(random.randint(1,100))"
   ]
  },
  {
   "cell_type": "code",
   "execution_count": 72,
   "id": "1f0368cc",
   "metadata": {},
   "outputs": [
    {
     "name": "stdout",
     "output_type": "stream",
     "text": [
      "2023-02-13 11:42:36.119666\n"
     ]
    }
   ],
   "source": [
    "import datetime\n",
    "print(datetime.datetime.now())"
   ]
  },
  {
   "cell_type": "code",
   "execution_count": 73,
   "id": "a2b1f8d8",
   "metadata": {},
   "outputs": [],
   "source": [
    "import warnings\n",
    "warnings.filterwarnings('ignore')\n",
    "#help('modules')"
   ]
  },
  {
   "cell_type": "code",
   "execution_count": 74,
   "id": "e9e4b92e",
   "metadata": {},
   "outputs": [],
   "source": [
    "#help('modules')"
   ]
  },
  {
   "cell_type": "code",
   "execution_count": 76,
   "id": "21cda2ad",
   "metadata": {},
   "outputs": [
    {
     "name": "stdout",
     "output_type": "stream",
     "text": [
      "Enter your number19\n",
      "19\n",
      "38\n",
      "57\n",
      "76\n",
      "95\n",
      "114\n",
      "133\n",
      "152\n",
      "171\n",
      "190\n",
      "limit crossed\n"
     ]
    }
   ],
   "source": [
    "number = int(input(\"Enter your number\"))\n",
    "i = 1\n",
    "while i<11:\n",
    "    print(number * i)\n",
    "    i += 1\n",
    "    \n",
    "else:\n",
    "    print(\"limit crossed\")"
   ]
  },
  {
   "cell_type": "code",
   "execution_count": 79,
   "id": "19302741",
   "metadata": {},
   "outputs": [
    {
     "name": "stdout",
     "output_type": "stream",
     "text": [
      "guess the number5\n",
      "guess more\n",
      "Guess karo2\n",
      "guess more\n",
      "Guess karo1\n",
      "guess more\n",
      "Guess karo2\n",
      "guess more\n",
      "Guess karo0\n",
      "guess more\n",
      "Guess karo9\n",
      "guess more\n",
      "Guess karo40\n",
      "guess less\n",
      "Guess karo30\n",
      "guess more\n",
      "Guess karo35\n",
      "guess more\n",
      "Guess karo38\n",
      "guess more\n",
      "Guess karo39\n",
      " Finally You Guess correct\n",
      "Count --> 11\n"
     ]
    }
   ],
   "source": [
    "import random\n",
    "jackpot = random.randint(1,100)\n",
    "guess = int(input(\"guess the number\"))\n",
    "\n",
    "count = 1\n",
    "while guess != jackpot:\n",
    "    if guess<jackpot:\n",
    "        print('guess more')\n",
    "    else:\n",
    "        print('guess less')\n",
    "        \n",
    "    guess = int(input('Guess karo'))\n",
    "    count += 1 \n",
    "    \n",
    "    if guess == jackpot:\n",
    "        print(' Finally You Guess correct')\n",
    "        print('Count -->', count)"
   ]
  },
  {
   "cell_type": "code",
   "execution_count": 80,
   "id": "01f1d3a5",
   "metadata": {},
   "outputs": [
    {
     "name": "stdout",
     "output_type": "stream",
     "text": [
      "1\n",
      "2\n",
      "3\n",
      "4\n",
      "5\n",
      "6\n",
      "7\n",
      "8\n",
      "9\n",
      "10\n"
     ]
    }
   ],
   "source": [
    "for i in range(1,11):\n",
    "    print(i)"
   ]
  },
  {
   "cell_type": "code",
   "execution_count": 81,
   "id": "81040029",
   "metadata": {},
   "outputs": [
    {
     "name": "stdout",
     "output_type": "stream",
     "text": [
      "0\n",
      "5\n",
      "10\n",
      "15\n",
      "20\n",
      "25\n",
      "30\n",
      "35\n",
      "40\n",
      "45\n"
     ]
    }
   ],
   "source": [
    "for i in range(0,50,5):\n",
    "    print(i)"
   ]
  },
  {
   "cell_type": "code",
   "execution_count": 82,
   "id": "d7347260",
   "metadata": {},
   "outputs": [
    {
     "name": "stdout",
     "output_type": "stream",
     "text": [
      "10\n",
      "9\n",
      "8\n",
      "7\n",
      "6\n",
      "5\n",
      "4\n",
      "3\n",
      "2\n",
      "1\n"
     ]
    }
   ],
   "source": [
    "for i in range(10,0,-1):\n",
    "    print(i)"
   ]
  },
  {
   "cell_type": "code",
   "execution_count": 83,
   "id": "0ad04e74",
   "metadata": {},
   "outputs": [
    {
     "name": "stdout",
     "output_type": "stream",
     "text": [
      "G\n",
      "O\n",
      "U\n",
      "R\n",
      "A\n",
      "B\n",
      " \n",
      "S\n",
      "I\n",
      "N\n",
      "G\n",
      "H\n",
      " \n",
      "R\n",
      "A\n",
      "J\n",
      "P\n",
      "U\n",
      "T\n"
     ]
    }
   ],
   "source": [
    "for i in \"GOURAB SINGH RAJPUT\":\n",
    "    print(i)"
   ]
  },
  {
   "cell_type": "code",
   "execution_count": 84,
   "id": "fe882949",
   "metadata": {},
   "outputs": [
    {
     "name": "stdout",
     "output_type": "stream",
     "text": [
      "10 10000\n",
      "9 9090\n",
      "8 8263\n",
      "7 7511\n",
      "6 6828\n",
      "5 6207\n",
      "4 5642\n",
      "3 5129\n",
      "2 4662\n",
      "1 4238\n"
     ]
    }
   ],
   "source": [
    "current_population = 10000\n",
    "for i in range(10,0,-1):\n",
    "    print(i, current_population)\n",
    "    current_population = int(current_population / 1.1)"
   ]
  },
  {
   "cell_type": "code",
   "execution_count": 85,
   "id": "63ffa539",
   "metadata": {},
   "outputs": [
    {
     "name": "stdout",
     "output_type": "stream",
     "text": [
      "Enter n677\n",
      "2.7182818284590455\n"
     ]
    }
   ],
   "source": [
    "n = int(input('Enter n'))\n",
    "\n",
    "result = 0\n",
    "fact = 1\n",
    "for i in range (1,n+1):\n",
    "    fact = fact * i\n",
    "    result = result + i/fact\n",
    "    \n",
    "print(result)"
   ]
  },
  {
   "cell_type": "code",
   "execution_count": 86,
   "id": "ba9c7644",
   "metadata": {},
   "outputs": [
    {
     "name": "stdout",
     "output_type": "stream",
     "text": [
      "1 1\n",
      "1 2\n",
      "1 3\n",
      "1 4\n",
      "2 1\n",
      "2 2\n",
      "2 3\n",
      "2 4\n",
      "3 1\n",
      "3 2\n",
      "3 3\n",
      "3 4\n",
      "4 1\n",
      "4 2\n",
      "4 3\n",
      "4 4\n"
     ]
    }
   ],
   "source": [
    "for i in range (1,5):\n",
    "    for j in range (1,5):\n",
    "        print(i,j)"
   ]
  },
  {
   "cell_type": "code",
   "execution_count": 87,
   "id": "88480362",
   "metadata": {},
   "outputs": [
    {
     "name": "stdout",
     "output_type": "stream",
     "text": [
      "Enter your row 9\n",
      "💖 \n",
      "💖 💖 \n",
      "💖 💖 💖 \n",
      "💖 💖 💖 💖 \n",
      "💖 💖 💖 💖 💖 \n",
      "💖 💖 💖 💖 💖 💖 \n",
      "💖 💖 💖 💖 💖 💖 💖 \n",
      "💖 💖 💖 💖 💖 💖 💖 💖 \n",
      "💖 💖 💖 💖 💖 💖 💖 💖 💖 \n"
     ]
    }
   ],
   "source": [
    "row = int(input(\"Enter your row \"))\n",
    "for i in range(1,row+1):\n",
    "    for j in range (1,i+1):\n",
    "        print('💖',end = ' ')\n",
    "    print()"
   ]
  },
  {
   "cell_type": "code",
   "execution_count": 89,
   "id": "35c036d6",
   "metadata": {},
   "outputs": [
    {
     "name": "stdout",
     "output_type": "stream",
     "text": [
      "Enter your number 9\n",
      "1 \n",
      "1 2 1 \n",
      "1 2 3 2 1 \n",
      "1 2 3 4 3 2 1 \n",
      "1 2 3 4 5 4 3 2 1 \n",
      "1 2 3 4 5 6 5 4 3 2 1 \n",
      "1 2 3 4 5 6 7 6 5 4 3 2 1 \n",
      "1 2 3 4 5 6 7 8 7 6 5 4 3 2 1 \n",
      "1 2 3 4 5 6 7 8 9 8 7 6 5 4 3 2 1 \n"
     ]
    }
   ],
   "source": [
    "num = int(input('Enter your number '))\n",
    "for i in range (1,num+1):\n",
    "    for j in range(1,i+1):\n",
    "        print(j, end = ' ')\n",
    "    for k in range (i-1,0,-1):\n",
    "        print(k,end = ' ')\n",
    "    print()"
   ]
  },
  {
   "cell_type": "code",
   "execution_count": null,
   "id": "9f180ba3",
   "metadata": {},
   "outputs": [],
   "source": []
  },
  {
   "cell_type": "code",
   "execution_count": null,
   "id": "e976c05e",
   "metadata": {},
   "outputs": [],
   "source": []
  },
  {
   "cell_type": "code",
   "execution_count": null,
   "id": "32617ee9",
   "metadata": {},
   "outputs": [],
   "source": []
  },
  {
   "cell_type": "code",
   "execution_count": null,
   "id": "3e11099b",
   "metadata": {},
   "outputs": [],
   "source": []
  },
  {
   "cell_type": "code",
   "execution_count": 91,
   "id": "1ee78405",
   "metadata": {},
   "outputs": [
    {
     "name": "stdout",
     "output_type": "stream",
     "text": [
      "enter your number7\n",
      "1 \n",
      "1 2 1 \n",
      "1 2 3 2 1 \n",
      "1 2 3 4 3 2 1 \n",
      "1 2 3 4 5 4 3 2 1 \n",
      "1 2 3 4 5 6 5 4 3 2 1 \n",
      "1 2 3 4 5 6 7 6 5 4 3 2 1 \n"
     ]
    }
   ],
   "source": [
    "num = int(input(\"enter your number\"))\n",
    "for i in range(1,num+1):\n",
    "    for j in range(1,i+1):\n",
    "        print(j, end = ' ')\n",
    "    for k in range(i-1,0,-1):\n",
    "        print(k, end = ' ')\n",
    "    print()"
   ]
  },
  {
   "cell_type": "code",
   "execution_count": 92,
   "id": "9ab5b396",
   "metadata": {},
   "outputs": [
    {
     "name": "stdout",
     "output_type": "stream",
     "text": [
      "1\n",
      "2\n",
      "3\n",
      "4\n"
     ]
    }
   ],
   "source": [
    "for i in range(1,10):\n",
    "    if i ==5:\n",
    "        break\n",
    "    print(i)"
   ]
  },
  {
   "cell_type": "code",
   "execution_count": 93,
   "id": "649953a8",
   "metadata": {},
   "outputs": [
    {
     "name": "stdout",
     "output_type": "stream",
     "text": [
      "enter lower range 56\n",
      "enter upper range 67\n",
      "59\n",
      "61\n",
      "67\n"
     ]
    }
   ],
   "source": [
    "lower = int(input('enter lower range '))\n",
    "upper = int(input('enter upper range '))\n",
    "\n",
    "for i in range(lower,upper+1):\n",
    "    for j in range(2,i):\n",
    "        if i % j == 0:\n",
    "            break\n",
    "    else:\n",
    "        print(i)"
   ]
  },
  {
   "cell_type": "code",
   "execution_count": 94,
   "id": "0a191fe3",
   "metadata": {},
   "outputs": [
    {
     "name": "stdout",
     "output_type": "stream",
     "text": [
      "1\n",
      "2\n",
      "3\n",
      "4\n",
      "6\n",
      "7\n",
      "8\n",
      "9\n"
     ]
    }
   ],
   "source": [
    "for i in range(1,10):\n",
    "    if i ==5:\n",
    "        continue\n",
    "    print(i)"
   ]
  },
  {
   "cell_type": "code",
   "execution_count": 95,
   "id": "12c01186",
   "metadata": {},
   "outputs": [],
   "source": [
    "for i in range(1,10):\n",
    "    pass"
   ]
  },
  {
   "cell_type": "code",
   "execution_count": 96,
   "id": "4ac87cd6",
   "metadata": {},
   "outputs": [
    {
     "name": "stdout",
     "output_type": "stream",
     "text": [
      "G\n"
     ]
    },
    {
     "data": {
      "text/plain": [
       "'a'"
      ]
     },
     "execution_count": 96,
     "metadata": {},
     "output_type": "execute_result"
    }
   ],
   "source": [
    "g = \"hello Gourab\"\n",
    "print(g[6])\n",
    "g[8]\n",
    "g[-2]"
   ]
  },
  {
   "cell_type": "code",
   "execution_count": 97,
   "id": "f870cff9",
   "metadata": {},
   "outputs": [
    {
     "data": {
      "text/plain": [
       "'l'"
      ]
     },
     "execution_count": 97,
     "metadata": {},
     "output_type": "execute_result"
    }
   ],
   "source": [
    "g[2]"
   ]
  },
  {
   "cell_type": "code",
   "execution_count": 98,
   "id": "af62f453",
   "metadata": {},
   "outputs": [
    {
     "name": "stdout",
     "output_type": "stream",
     "text": [
      "baruoG olle\n"
     ]
    }
   ],
   "source": [
    "print(g[13:0:-1])"
   ]
  },
  {
   "cell_type": "code",
   "execution_count": 99,
   "id": "2f89ddec",
   "metadata": {},
   "outputs": [
    {
     "name": "stdout",
     "output_type": "stream",
     "text": [
      "baruoG olleh\n"
     ]
    }
   ],
   "source": [
    "print(g[13::-1])"
   ]
  },
  {
   "cell_type": "code",
   "execution_count": 100,
   "id": "ede24845",
   "metadata": {},
   "outputs": [
    {
     "data": {
      "text/plain": [
       "'baruoG olleh'"
      ]
     },
     "execution_count": 100,
     "metadata": {},
     "output_type": "execute_result"
    }
   ],
   "source": [
    "g[::-1]"
   ]
  },
  {
   "cell_type": "code",
   "execution_count": 101,
   "id": "7515025d",
   "metadata": {},
   "outputs": [
    {
     "data": {
      "text/plain": [
       "'Hello Gourab'"
      ]
     },
     "execution_count": 101,
     "metadata": {},
     "output_type": "execute_result"
    }
   ],
   "source": [
    "g.title()"
   ]
  },
  {
   "cell_type": "code",
   "execution_count": 102,
   "id": "ce7f2137",
   "metadata": {},
   "outputs": [],
   "source": [
    "gs = 'gourab'"
   ]
  },
  {
   "cell_type": "code",
   "execution_count": 103,
   "id": "51484871",
   "metadata": {},
   "outputs": [
    {
     "data": {
      "text/plain": [
       "'Gourab'"
      ]
     },
     "execution_count": 103,
     "metadata": {},
     "output_type": "execute_result"
    }
   ],
   "source": [
    "gs.title()"
   ]
  },
  {
   "cell_type": "code",
   "execution_count": 104,
   "id": "9253eb91",
   "metadata": {},
   "outputs": [],
   "source": [
    "del(gs)"
   ]
  },
  {
   "cell_type": "code",
   "execution_count": 105,
   "id": "fc0cf23a",
   "metadata": {},
   "outputs": [
    {
     "ename": "NameError",
     "evalue": "name 'gs' is not defined",
     "output_type": "error",
     "traceback": [
      "\u001b[1;31m---------------------------------------------------------------------------\u001b[0m",
      "\u001b[1;31mNameError\u001b[0m                                 Traceback (most recent call last)",
      "Input \u001b[1;32mIn [105]\u001b[0m, in \u001b[0;36m<cell line: 1>\u001b[1;34m()\u001b[0m\n\u001b[1;32m----> 1\u001b[0m \u001b[38;5;28mprint\u001b[39m(\u001b[43mgs\u001b[49m)\n",
      "\u001b[1;31mNameError\u001b[0m: name 'gs' is not defined"
     ]
    }
   ],
   "source": [
    "print(gs)"
   ]
  },
  {
   "cell_type": "code",
   "execution_count": 106,
   "id": "584b4408",
   "metadata": {},
   "outputs": [
    {
     "ename": "TypeError",
     "evalue": "'str' object does not support item deletion",
     "output_type": "error",
     "traceback": [
      "\u001b[1;31m---------------------------------------------------------------------------\u001b[0m",
      "\u001b[1;31mTypeError\u001b[0m                                 Traceback (most recent call last)",
      "Input \u001b[1;32mIn [106]\u001b[0m, in \u001b[0;36m<cell line: 2>\u001b[1;34m()\u001b[0m\n\u001b[0;32m      1\u001b[0m s \u001b[38;5;241m=\u001b[39m \u001b[38;5;124m'\u001b[39m\u001b[38;5;124mhello world\u001b[39m\u001b[38;5;124m'\u001b[39m\n\u001b[1;32m----> 2\u001b[0m \u001b[38;5;28;01mdel\u001b[39;00m s[\u001b[38;5;241m-\u001b[39m\u001b[38;5;241m1\u001b[39m:\u001b[38;5;241m-\u001b[39m\u001b[38;5;241m5\u001b[39m:\u001b[38;5;241m2\u001b[39m]\n\u001b[0;32m      3\u001b[0m \u001b[38;5;28mprint\u001b[39m(s)\n",
      "\u001b[1;31mTypeError\u001b[0m: 'str' object does not support item deletion"
     ]
    }
   ],
   "source": [
    "s = 'hello world'\n",
    "del s[-1:-5:2]\n",
    "print(s)"
   ]
  },
  {
   "cell_type": "code",
   "execution_count": 107,
   "id": "038ec6cc",
   "metadata": {},
   "outputs": [
    {
     "name": "stdout",
     "output_type": "stream",
     "text": [
      "Delhi Mumbai\n"
     ]
    }
   ],
   "source": [
    "print (\"Delhi\" + \" Mumbai\")"
   ]
  },
  {
   "cell_type": "code",
   "execution_count": 108,
   "id": "543f542f",
   "metadata": {},
   "outputs": [
    {
     "name": "stdout",
     "output_type": "stream",
     "text": [
      "Gourab Gourab Gourab Gourab Gourab Gourab Gourab Gourab Gourab \n"
     ]
    }
   ],
   "source": [
    "print(\"Gourab \" * 9)"
   ]
  },
  {
   "cell_type": "code",
   "execution_count": 109,
   "id": "e126f1ef",
   "metadata": {},
   "outputs": [
    {
     "name": "stdout",
     "output_type": "stream",
     "text": [
      "False\n"
     ]
    }
   ],
   "source": [
    "print(\"delhi\" == 'mumbai')"
   ]
  },
  {
   "cell_type": "code",
   "execution_count": 110,
   "id": "76306519",
   "metadata": {},
   "outputs": [
    {
     "data": {
      "text/plain": [
       "False"
      ]
     },
     "execution_count": 110,
     "metadata": {},
     "output_type": "execute_result"
    }
   ],
   "source": [
    "'mumbai'> 'pune'"
   ]
  },
  {
   "cell_type": "code",
   "execution_count": 111,
   "id": "b9ff4116",
   "metadata": {},
   "outputs": [
    {
     "data": {
      "text/plain": [
       "False"
      ]
     },
     "execution_count": 111,
     "metadata": {},
     "output_type": "execute_result"
    }
   ],
   "source": [
    "'Pune' > 'pune'"
   ]
  },
  {
   "cell_type": "code",
   "execution_count": 112,
   "id": "55b9737a",
   "metadata": {},
   "outputs": [
    {
     "data": {
      "text/plain": [
       "True"
      ]
     },
     "execution_count": 112,
     "metadata": {},
     "output_type": "execute_result"
    }
   ],
   "source": [
    "'pune' > 'Pune'"
   ]
  },
  {
   "cell_type": "code",
   "execution_count": 113,
   "id": "3a662cc2",
   "metadata": {},
   "outputs": [
    {
     "data": {
      "text/plain": [
       "'Gourab'"
      ]
     },
     "execution_count": 113,
     "metadata": {},
     "output_type": "execute_result"
    }
   ],
   "source": [
    "'hello' and 'Gourab' "
   ]
  },
  {
   "cell_type": "code",
   "execution_count": 114,
   "id": "d2ad180d",
   "metadata": {},
   "outputs": [
    {
     "data": {
      "text/plain": [
       "'hello'"
      ]
     },
     "execution_count": 114,
     "metadata": {},
     "output_type": "execute_result"
    }
   ],
   "source": [
    "'hello' or 'Gourab'"
   ]
  },
  {
   "cell_type": "code",
   "execution_count": 115,
   "id": "5ad3b45d",
   "metadata": {},
   "outputs": [
    {
     "data": {
      "text/plain": [
       "''"
      ]
     },
     "execution_count": 115,
     "metadata": {},
     "output_type": "execute_result"
    }
   ],
   "source": [
    "'' and 'world'"
   ]
  },
  {
   "cell_type": "code",
   "execution_count": 116,
   "id": "27154526",
   "metadata": {},
   "outputs": [
    {
     "data": {
      "text/plain": [
       "'world'"
      ]
     },
     "execution_count": 116,
     "metadata": {},
     "output_type": "execute_result"
    }
   ],
   "source": [
    "'' or 'world'"
   ]
  },
  {
   "cell_type": "code",
   "execution_count": 117,
   "id": "643d1a38",
   "metadata": {},
   "outputs": [
    {
     "data": {
      "text/plain": [
       "True"
      ]
     },
     "execution_count": 117,
     "metadata": {},
     "output_type": "execute_result"
    }
   ],
   "source": [
    "not ''"
   ]
  },
  {
   "cell_type": "code",
   "execution_count": 118,
   "id": "03e08c4c",
   "metadata": {},
   "outputs": [
    {
     "data": {
      "text/plain": [
       "False"
      ]
     },
     "execution_count": 118,
     "metadata": {},
     "output_type": "execute_result"
    }
   ],
   "source": [
    "not 'Hello'"
   ]
  },
  {
   "cell_type": "code",
   "execution_count": 119,
   "id": "72b7f1ce",
   "metadata": {},
   "outputs": [
    {
     "name": "stdout",
     "output_type": "stream",
     "text": [
      "G\n",
      "o\n",
      "u\n",
      "r\n",
      "a\n",
      "b\n",
      " \n",
      "K\n",
      "u\n",
      "m\n",
      "a\n",
      "r\n"
     ]
    }
   ],
   "source": [
    "for i in 'Gourab Kumar':\n",
    "    print(i)"
   ]
  },
  {
   "cell_type": "code",
   "execution_count": 120,
   "id": "b2b2b1d3",
   "metadata": {},
   "outputs": [
    {
     "name": "stdout",
     "output_type": "stream",
     "text": [
      "pune\n",
      "pune\n",
      "pune\n",
      "pune\n",
      "pune\n"
     ]
    }
   ],
   "source": [
    "for i in 'delhi':\n",
    "    print('pune')"
   ]
  },
  {
   "cell_type": "code",
   "execution_count": 121,
   "id": "cdb52377",
   "metadata": {},
   "outputs": [
    {
     "data": {
      "text/plain": [
       "True"
      ]
     },
     "execution_count": 121,
     "metadata": {},
     "output_type": "execute_result"
    }
   ],
   "source": [
    "\"G\" in 'Gourab'"
   ]
  },
  {
   "cell_type": "code",
   "execution_count": 122,
   "id": "2bc170a6",
   "metadata": {},
   "outputs": [
    {
     "data": {
      "text/plain": [
       "6"
      ]
     },
     "execution_count": 122,
     "metadata": {},
     "output_type": "execute_result"
    }
   ],
   "source": [
    "len('Gourab')"
   ]
  },
  {
   "cell_type": "code",
   "execution_count": 123,
   "id": "3c7ff996",
   "metadata": {},
   "outputs": [
    {
     "data": {
      "text/plain": [
       "'G'"
      ]
     },
     "execution_count": 123,
     "metadata": {},
     "output_type": "execute_result"
    }
   ],
   "source": [
    "min('Gourab')"
   ]
  },
  {
   "cell_type": "code",
   "execution_count": 124,
   "id": "757d71ac",
   "metadata": {},
   "outputs": [
    {
     "data": {
      "text/plain": [
       "'u'"
      ]
     },
     "execution_count": 124,
     "metadata": {},
     "output_type": "execute_result"
    }
   ],
   "source": [
    "max('Gourab')"
   ]
  },
  {
   "cell_type": "code",
   "execution_count": 125,
   "id": "23f4db1b",
   "metadata": {},
   "outputs": [
    {
     "data": {
      "text/plain": [
       "['G', 'a', 'b', 'o', 'r', 'u']"
      ]
     },
     "execution_count": 125,
     "metadata": {},
     "output_type": "execute_result"
    }
   ],
   "source": [
    "sorted('Gourab')"
   ]
  },
  {
   "cell_type": "code",
   "execution_count": 126,
   "id": "eaa10791",
   "metadata": {},
   "outputs": [
    {
     "data": {
      "text/plain": [
       "['u', 'r', 'o', 'b', 'a', 'G']"
      ]
     },
     "execution_count": 126,
     "metadata": {},
     "output_type": "execute_result"
    }
   ],
   "source": [
    "sorted('Gourab', reverse = True)"
   ]
  },
  {
   "cell_type": "code",
   "execution_count": 127,
   "id": "db3483ab",
   "metadata": {},
   "outputs": [],
   "source": [
    "gs = 'gourab singh'"
   ]
  },
  {
   "cell_type": "code",
   "execution_count": 128,
   "id": "546258eb",
   "metadata": {},
   "outputs": [
    {
     "data": {
      "text/plain": [
       "'Gourab singh'"
      ]
     },
     "execution_count": 128,
     "metadata": {},
     "output_type": "execute_result"
    }
   ],
   "source": [
    "gs.capitalize()"
   ]
  },
  {
   "cell_type": "code",
   "execution_count": 129,
   "id": "6fb42415",
   "metadata": {},
   "outputs": [
    {
     "data": {
      "text/plain": [
       "'Gourab Singh'"
      ]
     },
     "execution_count": 129,
     "metadata": {},
     "output_type": "execute_result"
    }
   ],
   "source": [
    "gs.title()"
   ]
  },
  {
   "cell_type": "code",
   "execution_count": 130,
   "id": "2fbf094c",
   "metadata": {},
   "outputs": [
    {
     "data": {
      "text/plain": [
       "'gourab singh'"
      ]
     },
     "execution_count": 130,
     "metadata": {},
     "output_type": "execute_result"
    }
   ],
   "source": [
    "gs.lower()"
   ]
  },
  {
   "cell_type": "code",
   "execution_count": 131,
   "id": "7e78c776",
   "metadata": {},
   "outputs": [
    {
     "data": {
      "text/plain": [
       "'GOURAB SINGH'"
      ]
     },
     "execution_count": 131,
     "metadata": {},
     "output_type": "execute_result"
    }
   ],
   "source": [
    "gs.swapcase()"
   ]
  },
  {
   "cell_type": "code",
   "execution_count": 132,
   "id": "c84c6bdf",
   "metadata": {},
   "outputs": [
    {
     "data": {
      "text/plain": [
       "2"
      ]
     },
     "execution_count": 132,
     "metadata": {},
     "output_type": "execute_result"
    }
   ],
   "source": [
    "'Gourab Kumar Singh '.count('a')"
   ]
  },
  {
   "cell_type": "code",
   "execution_count": 133,
   "id": "82ec15e9",
   "metadata": {},
   "outputs": [
    {
     "data": {
      "text/plain": [
       "4"
      ]
     },
     "execution_count": 133,
     "metadata": {},
     "output_type": "execute_result"
    }
   ],
   "source": [
    "'Gourab Kumar Singh '.find('a')"
   ]
  },
  {
   "cell_type": "code",
   "execution_count": 134,
   "id": "1ae44d7d",
   "metadata": {},
   "outputs": [
    {
     "ename": "ValueError",
     "evalue": "substring not found",
     "output_type": "error",
     "traceback": [
      "\u001b[1;31m---------------------------------------------------------------------------\u001b[0m",
      "\u001b[1;31mValueError\u001b[0m                                Traceback (most recent call last)",
      "Input \u001b[1;32mIn [134]\u001b[0m, in \u001b[0;36m<cell line: 1>\u001b[1;34m()\u001b[0m\n\u001b[1;32m----> 1\u001b[0m \u001b[38;5;124;43m'\u001b[39;49m\u001b[38;5;124;43mGourab Kumar Singh \u001b[39;49m\u001b[38;5;124;43m'\u001b[39;49m\u001b[38;5;241;43m.\u001b[39;49m\u001b[43mindex\u001b[49m\u001b[43m(\u001b[49m\u001b[38;5;124;43m'\u001b[39;49m\u001b[38;5;124;43mz\u001b[39;49m\u001b[38;5;124;43m'\u001b[39;49m\u001b[43m)\u001b[49m\n",
      "\u001b[1;31mValueError\u001b[0m: substring not found"
     ]
    }
   ],
   "source": [
    "'Gourab Kumar Singh '.index('z')"
   ]
  },
  {
   "cell_type": "code",
   "execution_count": 135,
   "id": "975118b4",
   "metadata": {},
   "outputs": [
    {
     "data": {
      "text/plain": [
       "True"
      ]
     },
     "execution_count": 135,
     "metadata": {},
     "output_type": "execute_result"
    }
   ],
   "source": [
    "'Gourab Kumar Singh '.endswith('gh ')"
   ]
  },
  {
   "cell_type": "code",
   "execution_count": 136,
   "id": "481fcd17",
   "metadata": {},
   "outputs": [
    {
     "data": {
      "text/plain": [
       "True"
      ]
     },
     "execution_count": 136,
     "metadata": {},
     "output_type": "execute_result"
    }
   ],
   "source": [
    "'Gourab Kumar Singh '.startswith('Go')"
   ]
  },
  {
   "cell_type": "code",
   "execution_count": 137,
   "id": "24547c46",
   "metadata": {},
   "outputs": [
    {
     "data": {
      "text/plain": [
       "'Hi my name is Gourab and I am a Male'"
      ]
     },
     "execution_count": 137,
     "metadata": {},
     "output_type": "execute_result"
    }
   ],
   "source": [
    "name = \"Gourab\"\n",
    "gender = \"Male\"\n",
    "\"Hi my name is {} and I am a {}\".format(name,gender)"
   ]
  },
  {
   "cell_type": "code",
   "execution_count": 138,
   "id": "6e0e7fef",
   "metadata": {},
   "outputs": [
    {
     "data": {
      "text/plain": [
       "True"
      ]
     },
     "execution_count": 138,
     "metadata": {},
     "output_type": "execute_result"
    }
   ],
   "source": [
    "\"gourabsingh09\".isalnum()"
   ]
  },
  {
   "cell_type": "code",
   "execution_count": 139,
   "id": "a347b5ac",
   "metadata": {},
   "outputs": [
    {
     "data": {
      "text/plain": [
       "True"
      ]
     },
     "execution_count": 139,
     "metadata": {},
     "output_type": "execute_result"
    }
   ],
   "source": [
    "\"gourab\".isalpha()"
   ]
  },
  {
   "cell_type": "code",
   "execution_count": 140,
   "id": "5bc27678",
   "metadata": {},
   "outputs": [
    {
     "data": {
      "text/plain": [
       "False"
      ]
     },
     "execution_count": 140,
     "metadata": {},
     "output_type": "execute_result"
    }
   ],
   "source": [
    "\"1234abc\".isdigit()"
   ]
  },
  {
   "cell_type": "code",
   "execution_count": 141,
   "id": "917d22ed",
   "metadata": {},
   "outputs": [
    {
     "data": {
      "text/plain": [
       "True"
      ]
     },
     "execution_count": 141,
     "metadata": {},
     "output_type": "execute_result"
    }
   ],
   "source": [
    "\"gourab_kumar\".isidentifier()"
   ]
  },
  {
   "cell_type": "code",
   "execution_count": 142,
   "id": "823e23f8",
   "metadata": {},
   "outputs": [
    {
     "data": {
      "text/plain": [
       "['Hi i ', 'm Gour', 'b ']"
      ]
     },
     "execution_count": 142,
     "metadata": {},
     "output_type": "execute_result"
    }
   ],
   "source": [
    "\"Hi i am Gourab \".split(\"a\")"
   ]
  },
  {
   "cell_type": "code",
   "execution_count": 143,
   "id": "7c2e3808",
   "metadata": {},
   "outputs": [
    {
     "data": {
      "text/plain": [
       "'Hi i -m Gour-b '"
      ]
     },
     "execution_count": 143,
     "metadata": {},
     "output_type": "execute_result"
    }
   ],
   "source": [
    "\"-\".join(['Hi i ', 'm Gour', 'b '])"
   ]
  },
  {
   "cell_type": "code",
   "execution_count": 144,
   "id": "aa23623e",
   "metadata": {},
   "outputs": [
    {
     "data": {
      "text/plain": [
       "'Hi my name is SINGH'"
      ]
     },
     "execution_count": 144,
     "metadata": {},
     "output_type": "execute_result"
    }
   ],
   "source": [
    "\"Hi my name is GOURAB\".replace('GOURAB', 'SINGH')"
   ]
  },
  {
   "cell_type": "code",
   "execution_count": 145,
   "id": "db1db1ff",
   "metadata": {},
   "outputs": [
    {
     "data": {
      "text/plain": [
       "'Gourab SINGH'"
      ]
     },
     "execution_count": 145,
     "metadata": {},
     "output_type": "execute_result"
    }
   ],
   "source": [
    "\"   Gourab SINGH       \".strip()"
   ]
  },
  {
   "cell_type": "code",
   "execution_count": 146,
   "id": "61f6e394",
   "metadata": {},
   "outputs": [
    {
     "name": "stdout",
     "output_type": "stream",
     "text": [
      "Enter your name gourab kumar\n",
      "The length of name is  12\n"
     ]
    }
   ],
   "source": [
    "name = input(\"Enter your name \")\n",
    "\n",
    "count = 0\n",
    "\n",
    "for i in name:\n",
    "    count += 1\n",
    "print(\"The length of name is \", count)"
   ]
  },
  {
   "cell_type": "code",
   "execution_count": 147,
   "id": "d1da967f",
   "metadata": {},
   "outputs": [
    {
     "name": "stdout",
     "output_type": "stream",
     "text": [
      "Enter your email gourabsingh09@gmail.com \n",
      "Your user name is -->>  gourabsingh09\n"
     ]
    }
   ],
   "source": [
    "email = input(\"Enter your email \")\n",
    "pos = email.index(\"@\")\n",
    "\n",
    "u_name= email[0:pos]\n",
    "print(\"Your user name is -->> \",u_name )"
   ]
  },
  {
   "cell_type": "code",
   "execution_count": 148,
   "id": "6ef1f0f2",
   "metadata": {},
   "outputs": [
    {
     "name": "stdout",
     "output_type": "stream",
     "text": [
      "Enter your input -->67\n",
      "Enter your input what you want to find -->6\n",
      "Frequency of find is --> 1\n"
     ]
    }
   ],
   "source": [
    "sent = input (\"Enter your input -->\")\n",
    "find = input (\"Enter your input what you want to find -->\")\n",
    "\n",
    "count = 0\n",
    "for i in sent:\n",
    "    if i in find:\n",
    "        count += 1\n",
    "print(\"Frequency of find is -->\" , count)"
   ]
  },
  {
   "cell_type": "code",
   "execution_count": 149,
   "id": "b5b42385",
   "metadata": {},
   "outputs": [
    {
     "name": "stdout",
     "output_type": "stream",
     "text": [
      "Enter your input -->gourab\n",
      "Enter your input what you want to remove -->g\n",
      "o\n",
      "u\n",
      "r\n",
      "a\n",
      "b\n"
     ]
    }
   ],
   "source": [
    "sent = input (\"Enter your input -->\")\n",
    "remove = input (\"Enter your input what you want to remove -->\")\n",
    "#sent1 = []\n",
    "for i in sent:\n",
    "    if remove == i:\n",
    "        continue\n",
    "    #sent1 = sent1.append(i)\n",
    "    print(i)"
   ]
  },
  {
   "cell_type": "code",
   "execution_count": 150,
   "id": "0c278fe9",
   "metadata": {},
   "outputs": [
    {
     "name": "stdout",
     "output_type": "stream",
     "text": [
      "enter your name gourab \n",
      "Not a Palindrome\n"
     ]
    }
   ],
   "source": [
    "# Palindrome \n",
    "name = input(\"enter your name \")\n",
    "flag = True\n",
    "for i in range (0, len(name)//2):\n",
    "    if name[i] != name[len(name)-i-1]:\n",
    "        flag = False\n",
    "        print(\"Not a Palindrome\")\n",
    "        break\n",
    "if flag:\n",
    "    print(\"Palindrome\")"
   ]
  },
  {
   "cell_type": "code",
   "execution_count": 151,
   "id": "0252164d",
   "metadata": {},
   "outputs": [
    {
     "name": "stdout",
     "output_type": "stream",
     "text": [
      "Enter your name--> gourab kumar\n",
      "[' gourab', ' kumar']\n"
     ]
    }
   ],
   "source": [
    "name = input(\"Enter your name--> \")\n",
    "name1 = []\n",
    "temp = ' '\n",
    "for i in name:\n",
    "    \n",
    "    if i != ' ':\n",
    "        temp = temp+i\n",
    "        \n",
    "    else:\n",
    "        name1.append(temp)\n",
    "        temp = ' '\n",
    "name1.append(temp)\n",
    "print(name1)"
   ]
  },
  {
   "cell_type": "code",
   "execution_count": 152,
   "id": "fbcf9442",
   "metadata": {},
   "outputs": [
    {
     "name": "stdout",
     "output_type": "stream",
     "text": [
      "Enter your name include space after completed the sentence--> singh \n",
      "[' singh']\n"
     ]
    }
   ],
   "source": [
    "name = input(\"Enter your name include space after completed the sentence--> \")\n",
    "name1 = []\n",
    "temp = ' '\n",
    "for i in name:\n",
    "    \n",
    "    if i != ' ':\n",
    "        temp = temp+i\n",
    "        \n",
    "    else:\n",
    "        name1.append(temp)\n",
    "        temp = ' '\n",
    "\n",
    "print(name1)"
   ]
  },
  {
   "cell_type": "code",
   "execution_count": 153,
   "id": "98b8eefc",
   "metadata": {},
   "outputs": [
    {
     "name": "stdout",
     "output_type": "stream",
     "text": [
      "Enter your name--> ghgfh\n",
      "['Ghgfh']\n",
      "Ghgfh\n"
     ]
    }
   ],
   "source": [
    "name = input(\"Enter your name--> \")\n",
    "l = []\n",
    "for i in name.split():\n",
    "    l.append(i[0].upper() + i[1:].lower())\n",
    "    \n",
    "print(l)\n",
    "print(' '.join(l))"
   ]
  },
  {
   "cell_type": "code",
   "execution_count": 154,
   "id": "b869214c",
   "metadata": {},
   "outputs": [
    {
     "name": "stdout",
     "output_type": "stream",
     "text": [
      "Enter your number 789\n",
      "789\n",
      "<class 'str'>\n"
     ]
    }
   ],
   "source": [
    "num = int(input(\"Enter your number \"))\n",
    "num2 = str(num)\n",
    "print(num2)\n",
    "print(type(num2))"
   ]
  },
  {
   "cell_type": "code",
   "execution_count": 155,
   "id": "4a7d5586",
   "metadata": {},
   "outputs": [
    {
     "name": "stdout",
     "output_type": "stream",
     "text": [
      "Enter the number 6786\n",
      "6786\n",
      "<class 'str'>\n"
     ]
    }
   ],
   "source": [
    "number = int(input('Enter the number '))\n",
    "\n",
    "digits = '0123456789'\n",
    "\n",
    "result = ''\n",
    "while number != 0:\n",
    "    result = digits[number % 10 ] + result\n",
    "    number = number //10\n",
    "    \n",
    "print(result)\n",
    "print(type(result))"
   ]
  },
  {
   "cell_type": "code",
   "execution_count": null,
   "id": "05541809",
   "metadata": {},
   "outputs": [],
   "source": []
  }
 ],
 "metadata": {
  "kernelspec": {
   "display_name": "Python 3 (ipykernel)",
   "language": "python",
   "name": "python3"
  },
  "language_info": {
   "codemirror_mode": {
    "name": "ipython",
    "version": 3
   },
   "file_extension": ".py",
   "mimetype": "text/x-python",
   "name": "python",
   "nbconvert_exporter": "python",
   "pygments_lexer": "ipython3",
   "version": "3.9.12"
  }
 },
 "nbformat": 4,
 "nbformat_minor": 5
}
