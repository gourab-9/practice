{
 "cells": [
  {
   "cell_type": "markdown",
   "id": "3fe88622",
   "metadata": {},
   "source": [
    "# Python Output"
   ]
  },
  {
   "cell_type": "code",
   "execution_count": 1,
   "id": "55a7335d",
   "metadata": {},
   "outputs": [
    {
     "name": "stdout",
     "output_type": "stream",
     "text": [
      "Hello world\n"
     ]
    }
   ],
   "source": [
    "# Python is a case sensitive language\n",
    "\n",
    "print('Hello world')"
   ]
  },
  {
   "cell_type": "code",
   "execution_count": 2,
   "id": "674db08b",
   "metadata": {},
   "outputs": [
    {
     "name": "stdout",
     "output_type": "stream",
     "text": [
      "Gourab singh\n"
     ]
    }
   ],
   "source": [
    "print('Gourab singh')"
   ]
  },
  {
   "cell_type": "code",
   "execution_count": 3,
   "id": "706058f9",
   "metadata": {},
   "outputs": [
    {
     "ename": "SyntaxError",
     "evalue": "invalid syntax (3346190109.py, line 1)",
     "output_type": "error",
     "traceback": [
      "\u001b[1;36m  Input \u001b[1;32mIn [3]\u001b[1;36m\u001b[0m\n\u001b[1;33m    print(Gourab Kumar)\u001b[0m\n\u001b[1;37m                 ^\u001b[0m\n\u001b[1;31mSyntaxError\u001b[0m\u001b[1;31m:\u001b[0m invalid syntax\n"
     ]
    }
   ],
   "source": [
    "print(Gourab Kumar)"
   ]
  },
  {
   "cell_type": "code",
   "execution_count": 5,
   "id": "b69b1494",
   "metadata": {},
   "outputs": [
    {
     "name": "stdout",
     "output_type": "stream",
     "text": [
      "9\n"
     ]
    }
   ],
   "source": [
    "print(9)"
   ]
  },
  {
   "cell_type": "code",
   "execution_count": 6,
   "id": "1af8f114",
   "metadata": {},
   "outputs": [
    {
     "name": "stdout",
     "output_type": "stream",
     "text": [
      "9.9\n"
     ]
    }
   ],
   "source": [
    "print(9.9)"
   ]
  },
  {
   "cell_type": "code",
   "execution_count": 7,
   "id": "87f1ef03",
   "metadata": {},
   "outputs": [
    {
     "name": "stdout",
     "output_type": "stream",
     "text": [
      "True\n"
     ]
    }
   ],
   "source": [
    "print(True)"
   ]
  },
  {
   "cell_type": "code",
   "execution_count": 8,
   "id": "f931a503",
   "metadata": {},
   "outputs": [
    {
     "name": "stdout",
     "output_type": "stream",
     "text": [
      "Hello 1 4.5 True\n"
     ]
    }
   ],
   "source": [
    "print('Hello',1,4.5,True)"
   ]
  },
  {
   "cell_type": "code",
   "execution_count": 9,
   "id": "6ff8889c",
   "metadata": {},
   "outputs": [
    {
     "name": "stdout",
     "output_type": "stream",
     "text": [
      "Hello/1/4.5/True\n"
     ]
    }
   ],
   "source": [
    "print('Hello',1,4.5,True,sep = '/')"
   ]
  },
  {
   "cell_type": "code",
   "execution_count": 10,
   "id": "0bb71f3b",
   "metadata": {},
   "outputs": [
    {
     "name": "stdout",
     "output_type": "stream",
     "text": [
      "Hello_World\n"
     ]
    }
   ],
   "source": [
    "print(\"Hello\",end='_')\n",
    "print(\"World\")"
   ]
  },
  {
   "cell_type": "markdown",
   "id": "d8f22ccf",
   "metadata": {},
   "source": [
    "# Data Types"
   ]
  },
  {
   "cell_type": "code",
   "execution_count": 11,
   "id": "97d0536e",
   "metadata": {},
   "outputs": [
    {
     "name": "stdout",
     "output_type": "stream",
     "text": [
      "8\n",
      "1e+308\n"
     ]
    }
   ],
   "source": [
    "# Integer\n",
    "\n",
    "print(8)\n",
    "\n",
    "# 1*10^308\n",
    "print(1e308) # not handle 1e309"
   ]
  },
  {
   "cell_type": "code",
   "execution_count": 12,
   "id": "eacaeeea",
   "metadata": {},
   "outputs": [
    {
     "name": "stdout",
     "output_type": "stream",
     "text": [
      "9.99\n",
      "1.7e+308\n"
     ]
    }
   ],
   "source": [
    "# Decimal/Float\n",
    "\n",
    "print(9.99)\n",
    "print(1.7e308)"
   ]
  },
  {
   "cell_type": "code",
   "execution_count": 13,
   "id": "b930d9d6",
   "metadata": {},
   "outputs": [
    {
     "name": "stdout",
     "output_type": "stream",
     "text": [
      "True\n",
      "False\n"
     ]
    }
   ],
   "source": [
    "# Boolean\n",
    "\n",
    "print(True)\n",
    "print(False)"
   ]
  },
  {
   "cell_type": "code",
   "execution_count": 14,
   "id": "6ba1d6cb",
   "metadata": {},
   "outputs": [
    {
     "name": "stdout",
     "output_type": "stream",
     "text": [
      "Hello World\n"
     ]
    }
   ],
   "source": [
    "# Text/String\n",
    "\n",
    "print('Hello World')"
   ]
  },
  {
   "cell_type": "code",
   "execution_count": 15,
   "id": "cfacbfec",
   "metadata": {},
   "outputs": [
    {
     "name": "stdout",
     "output_type": "stream",
     "text": [
      "(5+6j)\n"
     ]
    }
   ],
   "source": [
    "# complex\n",
    "\n",
    "print(5+6j)"
   ]
  },
  {
   "cell_type": "code",
   "execution_count": 16,
   "id": "25088479",
   "metadata": {},
   "outputs": [
    {
     "name": "stdout",
     "output_type": "stream",
     "text": [
      "[1, 2, 3, 4, 5, 6, 7, 8, 9]\n"
     ]
    }
   ],
   "source": [
    "# List-> C-> Array\n",
    "\n",
    "print([1,2,3,4,5,6,7,8,9])"
   ]
  },
  {
   "cell_type": "code",
   "execution_count": 17,
   "id": "697b48eb",
   "metadata": {},
   "outputs": [
    {
     "name": "stdout",
     "output_type": "stream",
     "text": [
      "(1, 2, 3, 4, 5, 6, 7, 8, 9)\n"
     ]
    }
   ],
   "source": [
    "# Tuple\n",
    "\n",
    "print((1,2,3,4,5,6,7,8,9))"
   ]
  },
  {
   "cell_type": "code",
   "execution_count": 18,
   "id": "54648a3a",
   "metadata": {},
   "outputs": [
    {
     "name": "stdout",
     "output_type": "stream",
     "text": [
      "{1, 2, 3, 4, 5, 6, 7, 8, 9}\n"
     ]
    }
   ],
   "source": [
    "# Sets\n",
    "\n",
    "print({1,2,3,4,5,6,7,8,9})"
   ]
  },
  {
   "cell_type": "code",
   "execution_count": 19,
   "id": "31bfcaae",
   "metadata": {},
   "outputs": [
    {
     "name": "stdout",
     "output_type": "stream",
     "text": [
      "{1: 1, 2: 2, 3: 3, 4: 4, 5: 5, 6: 6, 7: 7, 8: 8, 9: 9}\n"
     ]
    }
   ],
   "source": [
    "# Dictionary\n",
    "\n",
    "print({1:1,2:2,3:3,4:4,5:5,6:6,7:7,8:8,9:9})"
   ]
  },
  {
   "cell_type": "code",
   "execution_count": 20,
   "id": "c93cf979",
   "metadata": {},
   "outputs": [
    {
     "data": {
      "text/plain": [
       "int"
      ]
     },
     "execution_count": 20,
     "metadata": {},
     "output_type": "execute_result"
    }
   ],
   "source": [
    "# type\n",
    "\n",
    "type(6+7)"
   ]
  },
  {
   "cell_type": "code",
   "execution_count": 21,
   "id": "dcb97e12",
   "metadata": {},
   "outputs": [
    {
     "data": {
      "text/plain": [
       "str"
      ]
     },
     "execution_count": 21,
     "metadata": {},
     "output_type": "execute_result"
    }
   ],
   "source": [
    "type(\"hello\")"
   ]
  },
  {
   "cell_type": "markdown",
   "id": "15167a0a",
   "metadata": {},
   "source": [
    "# Variables"
   ]
  },
  {
   "cell_type": "code",
   "execution_count": 22,
   "id": "d92c23c1",
   "metadata": {},
   "outputs": [
    {
     "name": "stdout",
     "output_type": "stream",
     "text": [
      "Gourab singh\n"
     ]
    }
   ],
   "source": [
    "name = 'Gourab singh'\n",
    "print(name)"
   ]
  },
  {
   "cell_type": "code",
   "execution_count": 23,
   "id": "e95077ef",
   "metadata": {},
   "outputs": [
    {
     "name": "stdout",
     "output_type": "stream",
     "text": [
      "11\n"
     ]
    }
   ],
   "source": [
    "a = 5\n",
    "b = 6\n",
    "print(a+b)"
   ]
  },
  {
   "cell_type": "code",
   "execution_count": 24,
   "id": "b32c51ab",
   "metadata": {},
   "outputs": [],
   "source": [
    "#Dynamic typing \n",
    "a = 5\n",
    "#Static Typing\n",
    "#int a = 5"
   ]
  },
  {
   "cell_type": "code",
   "execution_count": 25,
   "id": "574ba12c",
   "metadata": {},
   "outputs": [
    {
     "name": "stdout",
     "output_type": "stream",
     "text": [
      "9\n",
      "Gourab Kumar\n"
     ]
    }
   ],
   "source": [
    "#Dynamic Binding\n",
    "a = 9\n",
    "print(a)\n",
    "a = \"Gourab Kumar\"\n",
    "print(a)"
   ]
  },
  {
   "cell_type": "code",
   "execution_count": 26,
   "id": "6ffd0c01",
   "metadata": {},
   "outputs": [
    {
     "name": "stdout",
     "output_type": "stream",
     "text": [
      "1 2 3\n"
     ]
    }
   ],
   "source": [
    "a,b,c = 1,2,3\n",
    "print(a,b,c)"
   ]
  },
  {
   "cell_type": "code",
   "execution_count": 27,
   "id": "9445c028",
   "metadata": {},
   "outputs": [
    {
     "name": "stdout",
     "output_type": "stream",
     "text": [
      "a :-> 9 b :-> 9 c :-> 9\n"
     ]
    }
   ],
   "source": [
    "a= b= c= 9\n",
    "print(\"a :->\", a ,\"b :->\", b,\"c :->\", c)"
   ]
  },
  {
   "cell_type": "markdown",
   "id": "bd5c4fd4",
   "metadata": {},
   "source": [
    "# Identifiers"
   ]
  },
  {
   "cell_type": "code",
   "execution_count": 28,
   "id": "7d69138a",
   "metadata": {},
   "outputs": [
    {
     "name": "stdout",
     "output_type": "stream",
     "text": [
      "Gourab Kumar\n"
     ]
    }
   ],
   "source": [
    "# You can't start with a digit\n",
    "# You can use only spl. character (_) \n",
    "name_1 = \"Gourab Kumar\"\n",
    "print(name_1)\n",
    "# identiers can not be keyword"
   ]
  },
  {
   "cell_type": "markdown",
   "id": "5ac56814",
   "metadata": {},
   "source": [
    "# User Input"
   ]
  },
  {
   "cell_type": "code",
   "execution_count": 29,
   "id": "07d42320",
   "metadata": {},
   "outputs": [
    {
     "name": "stdout",
     "output_type": "stream",
     "text": [
      "Gourab\n"
     ]
    },
    {
     "data": {
      "text/plain": [
       "'Gourab'"
      ]
     },
     "execution_count": 29,
     "metadata": {},
     "output_type": "execute_result"
    }
   ],
   "source": [
    "# Static Vs Dynamic\n",
    "\n",
    "input()"
   ]
  },
  {
   "cell_type": "code",
   "execution_count": 30,
   "id": "67fc2331",
   "metadata": {},
   "outputs": [
    {
     "name": "stdout",
     "output_type": "stream",
     "text": [
      "Enter your name gourab\n"
     ]
    },
    {
     "data": {
      "text/plain": [
       "'gourab'"
      ]
     },
     "execution_count": 30,
     "metadata": {},
     "output_type": "execute_result"
    }
   ],
   "source": [
    "input(\"Enter your name \")"
   ]
  },
  {
   "cell_type": "code",
   "execution_count": 31,
   "id": "d05b8aa1",
   "metadata": {},
   "outputs": [
    {
     "name": "stdout",
     "output_type": "stream",
     "text": [
      "Enter email gourabsingh09@gmail.com\n"
     ]
    },
    {
     "data": {
      "text/plain": [
       "'gourabsingh09@gmail.com'"
      ]
     },
     "execution_count": 31,
     "metadata": {},
     "output_type": "execute_result"
    }
   ],
   "source": [
    "input(\"Enter email \")"
   ]
  },
  {
   "cell_type": "code",
   "execution_count": 1,
   "id": "cf003131",
   "metadata": {},
   "outputs": [
    {
     "name": "stdout",
     "output_type": "stream",
     "text": [
      "enter your first number 12\n",
      "Enter your last number 13\n",
      "25\n",
      "<class 'int'> <class 'int'>\n",
      "<class 'int'>\n"
     ]
    }
   ],
   "source": [
    "# Take input from users and store them in a variable\n",
    "fnum = int(input(\"enter your first number \"))\n",
    "sname = int(input(\"Enter your last number \"))\n",
    "\n",
    "# Add  the two Variable\n",
    "result = fnum + sname\n",
    "print(result)\n",
    "\n",
    "# Print the result\n",
    "print(type(fnum),type(sname))\n",
    "print(type(fnum))"
   ]
  },
  {
   "cell_type": "code",
   "execution_count": 34,
   "id": "979dcf8b",
   "metadata": {},
   "outputs": [
    {
     "name": "stdout",
     "output_type": "stream",
     "text": [
      "<class 'tuple'>\n"
     ]
    }
   ],
   "source": [
    "a = (1,)\n",
    "print(type(a))"
   ]
  },
  {
   "cell_type": "markdown",
   "id": "8f3858a0",
   "metadata": {},
   "source": [
    "# Type Conversion"
   ]
  },
  {
   "cell_type": "code",
   "execution_count": 35,
   "id": "1e39c493",
   "metadata": {},
   "outputs": [
    {
     "name": "stdout",
     "output_type": "stream",
     "text": [
      "10.6\n",
      "<class 'int'> <class 'float'>\n"
     ]
    }
   ],
   "source": [
    "# Implicit Vs Explicit\n",
    "\n",
    "print(5+5.6)\n",
    "print(type(5),type(5.6))"
   ]
  },
  {
   "cell_type": "code",
   "execution_count": 36,
   "id": "8f083fc9",
   "metadata": {},
   "outputs": [
    {
     "ename": "TypeError",
     "evalue": "unsupported operand type(s) for +: 'int' and 'str'",
     "output_type": "error",
     "traceback": [
      "\u001b[1;31m---------------------------------------------------------------------------\u001b[0m",
      "\u001b[1;31mTypeError\u001b[0m                                 Traceback (most recent call last)",
      "Input \u001b[1;32mIn [36]\u001b[0m, in \u001b[0;36m<cell line: 1>\u001b[1;34m()\u001b[0m\n\u001b[1;32m----> 1\u001b[0m \u001b[38;5;28mprint\u001b[39m(\u001b[38;5;28mint\u001b[39m(\u001b[38;5;241;43m4\u001b[39;49m\u001b[38;5;241;43m+\u001b[39;49m\u001b[38;5;124;43m'\u001b[39;49m\u001b[38;5;124;43m4\u001b[39;49m\u001b[38;5;124;43m'\u001b[39;49m))\n",
      "\u001b[1;31mTypeError\u001b[0m: unsupported operand type(s) for +: 'int' and 'str'"
     ]
    }
   ],
   "source": [
    "print(int(4+'4'))"
   ]
  },
  {
   "cell_type": "code",
   "execution_count": 37,
   "id": "bb47cb76",
   "metadata": {},
   "outputs": [
    {
     "ename": "TypeError",
     "evalue": "can't convert complex to int",
     "output_type": "error",
     "traceback": [
      "\u001b[1;31m---------------------------------------------------------------------------\u001b[0m",
      "\u001b[1;31mTypeError\u001b[0m                                 Traceback (most recent call last)",
      "Input \u001b[1;32mIn [37]\u001b[0m, in \u001b[0;36m<cell line: 1>\u001b[1;34m()\u001b[0m\n\u001b[1;32m----> 1\u001b[0m \u001b[38;5;28;43mint\u001b[39;49m\u001b[43m(\u001b[49m\u001b[38;5;241;43m4\u001b[39;49m\u001b[38;5;241;43m+\u001b[39;49m\u001b[38;5;241;43m5\u001b[39;49m\u001b[43mj\u001b[49m\u001b[43m)\u001b[49m\n",
      "\u001b[1;31mTypeError\u001b[0m: can't convert complex to int"
     ]
    }
   ],
   "source": [
    "# Explicit\n",
    "# str -> int\n",
    "\n",
    "int(4+5j)"
   ]
  },
  {
   "cell_type": "code",
   "execution_count": 38,
   "id": "c819f73f",
   "metadata": {},
   "outputs": [
    {
     "name": "stdout",
     "output_type": "stream",
     "text": [
      "5\n"
     ]
    }
   ],
   "source": [
    "# int to str\n",
    "\n",
    "print(str(5))"
   ]
  },
  {
   "cell_type": "markdown",
   "id": "15e6d942",
   "metadata": {},
   "source": [
    "# Literals"
   ]
  },
  {
   "cell_type": "code",
   "execution_count": 39,
   "id": "bc6e94d7",
   "metadata": {},
   "outputs": [
    {
     "data": {
      "text/plain": [
       "21"
      ]
     },
     "execution_count": 39,
     "metadata": {},
     "output_type": "execute_result"
    }
   ],
   "source": [
    "a = 0b10101 # 0b10101\n",
    "a           # Binary conversion"
   ]
  },
  {
   "cell_type": "code",
   "execution_count": 2,
   "id": "38546986",
   "metadata": {},
   "outputs": [],
   "source": [
    "b = 100 #Decimal Literal \n",
    "c = 0o310 #Octal Literal\n",
    "d = 0x12c #Hexadecimal Literal"
   ]
  },
  {
   "cell_type": "code",
   "execution_count": 40,
   "id": "bd9cfaa7",
   "metadata": {},
   "outputs": [
    {
     "data": {
      "text/plain": [
       "15200.0"
      ]
     },
     "execution_count": 40,
     "metadata": {},
     "output_type": "execute_result"
    }
   ],
   "source": [
    "#Float Literal\n",
    "\n",
    "b = 15.2e3\n",
    "b"
   ]
  },
  {
   "cell_type": "code",
   "execution_count": 41,
   "id": "9f416a94",
   "metadata": {},
   "outputs": [
    {
     "name": "stdout",
     "output_type": "stream",
     "text": [
      "0.0 5.15\n"
     ]
    }
   ],
   "source": [
    "#Complex Literal \n",
    "\n",
    "x = 5.15j\n",
    "print(x.real, x.imag)"
   ]
  },
  {
   "cell_type": "code",
   "execution_count": 42,
   "id": "b5499ed2",
   "metadata": {},
   "outputs": [
    {
     "name": "stdout",
     "output_type": "stream",
     "text": [
      "I am 'Gourab kumar singh' \n"
     ]
    }
   ],
   "source": [
    "strings = \"I am 'Gourab kumar singh' \"\n",
    "print(strings)"
   ]
  },
  {
   "cell_type": "code",
   "execution_count": 43,
   "id": "b78304f3",
   "metadata": {},
   "outputs": [
    {
     "name": "stdout",
     "output_type": "stream",
     "text": [
      "😀😆🤣\n"
     ]
    }
   ],
   "source": [
    "unicode = u\"\\U0001f600\\U0001F606\\U0001F923\"\n",
    "print(unicode)"
   ]
  },
  {
   "cell_type": "code",
   "execution_count": 44,
   "id": "89426fe6",
   "metadata": {},
   "outputs": [
    {
     "name": "stdout",
     "output_type": "stream",
     "text": [
      "9\n",
      "9\n"
     ]
    }
   ],
   "source": [
    "a = True+8\n",
    "b = False + 9\n",
    "print(a,b,sep='\\n')"
   ]
  },
  {
   "cell_type": "code",
   "execution_count": 45,
   "id": "a113e373",
   "metadata": {},
   "outputs": [
    {
     "name": "stdout",
     "output_type": "stream",
     "text": [
      "Nothing\n"
     ]
    }
   ],
   "source": [
    "k = None\n",
    "b = 5 \n",
    "c = 6\n",
    "print(\"Nothing\")"
   ]
  },
  {
   "cell_type": "markdown",
   "id": "365f273a",
   "metadata": {},
   "source": [
    "# TASK 1"
   ]
  },
  {
   "cell_type": "markdown",
   "id": "7f93383c",
   "metadata": {},
   "source": [
    "### Q1 :- Print the given strings as per stated format.\n",
    "\n",
    "**Given strings**:\n",
    "```\n",
    "\"Data\" \"Science\" \"Mentorship\" \"Program\"\n",
    "\"By\" \"CampusX\"\n",
    "```\n",
    "**Output**:\n",
    "```\n",
    "Data-Science-Mentorship-Program-started-By-CampusX\n",
    "```\n",
    "\n",
    "Concept- [Seperator and End]"
   ]
  },
  {
   "cell_type": "code",
   "execution_count": 1,
   "id": "052a17ca",
   "metadata": {},
   "outputs": [
    {
     "name": "stdout",
     "output_type": "stream",
     "text": [
      "Data-Science-Mentorship-Program-started-By-CampusX\n"
     ]
    }
   ],
   "source": [
    "# Write your code here\n",
    "print(\"Data\",\"Science\",\"Mentorship\",\"Program\",sep='-',end='-started-')\n",
    "print(\"By\",\"CampusX\",sep='-')"
   ]
  },
  {
   "cell_type": "markdown",
   "id": "456f0d06",
   "metadata": {},
   "source": [
    "### Q2:- Write a program that will convert celsius value to fahrenheit."
   ]
  },
  {
   "cell_type": "code",
   "execution_count": 8,
   "id": "d5b27959",
   "metadata": {},
   "outputs": [
    {
     "name": "stdout",
     "output_type": "stream",
     "text": [
      "enter the temp in celcius 43\n",
      "109.4 F\n"
     ]
    }
   ],
   "source": [
    "# Write your code here\n",
    "celcius = float(input('enter the temp in celcius '))\n",
    "\n",
    "faren = celcius * (9/5) + 32\n",
    "\n",
    "print(faren,'F')"
   ]
  },
  {
   "cell_type": "markdown",
   "id": "2d68cf2f",
   "metadata": {},
   "source": [
    "### Q3:- Take 2 numbers as input from the user.Write a program to swap the numbers without using any special python syntax."
   ]
  },
  {
   "cell_type": "code",
   "execution_count": 4,
   "id": "8ea1f647",
   "metadata": {},
   "outputs": [
    {
     "name": "stdout",
     "output_type": "stream",
     "text": [
      "5\n",
      "3\n"
     ]
    }
   ],
   "source": [
    "# Write your code here\n",
    "\n",
    "a = 3\n",
    "b = 5\n",
    "\n",
    "temp = a\n",
    "a = b\n",
    "b = temp\n",
    "\n",
    "print(a)\n",
    "print(b)"
   ]
  },
  {
   "cell_type": "markdown",
   "id": "20267a54",
   "metadata": {},
   "source": [
    "### Q4:- Write a program to find the euclidean distance between two coordinates.Take both the coordinates from the user as input."
   ]
  },
  {
   "cell_type": "code",
   "execution_count": 5,
   "id": "557ab008",
   "metadata": {},
   "outputs": [
    {
     "name": "stdout",
     "output_type": "stream",
     "text": [
      "enter x cood of 1st point0\n",
      "enter y cood of 1st point4\n",
      "enter x cood of 2nd point2\n",
      "enter y cood of 2nd point4\n",
      "2.0\n"
     ]
    }
   ],
   "source": [
    "# Write your code here\n",
    "p1x = int(input('enter x cood of 1st point '))\n",
    "p1y = int(input('enter y cood of 1st point '))\n",
    "p2x = int(input('enter x cood of 2nd point '))\n",
    "p2y = int(input('enter y cood of 2nd point '))\n",
    "\n",
    "distance = ((p2x - p1x)**2 + (p2y - p1y)**2)**0.5\n",
    "\n",
    "print(round(distance,2))"
   ]
  },
  {
   "cell_type": "markdown",
   "id": "59d612af",
   "metadata": {},
   "source": [
    "### Q5:- Write a program to find the simple interest when the value of principle,rate of interest and time period is provided by the user.\n",
    "\n",
    "- Hint - si = (p * t * r)/100\n"
   ]
  },
  {
   "cell_type": "code",
   "execution_count": 9,
   "id": "51304c22",
   "metadata": {},
   "outputs": [
    {
     "name": "stdout",
     "output_type": "stream",
     "text": [
      "Enter amount 10000\n",
      "Enter time period 2\n",
      "Enter rate 5\n",
      "the interest is 1000.0\n"
     ]
    }
   ],
   "source": [
    "# Write your code here\n",
    "p = int(input('Enter amount '))\n",
    "t = int(input('Enter time period '))\n",
    "r = float(input('Enter rate '))\n",
    "\n",
    "interest = (p*t*r)/100\n",
    "\n",
    "print('the interest is ',interest)"
   ]
  },
  {
   "cell_type": "markdown",
   "id": "63a51b0d",
   "metadata": {},
   "source": [
    "### Q6:- Write a program that will tell the number of dogs and chicken are there when the user will provide the value of total heads and legs.\n",
    "\n",
    "For example:\n",
    "Input:\n",
    "heads -> 4\n",
    "legs -> 12\n",
    "<br>\n",
    "Output:\n",
    "dogs -> 2\n",
    "chicken -> 2"
   ]
  },
  {
   "cell_type": "code",
   "execution_count": null,
   "id": "95900b31",
   "metadata": {},
   "outputs": [],
   "source": [
    "# Write your code here\n",
    "\n"
   ]
  },
  {
   "cell_type": "markdown",
   "id": "4f3cdcfd",
   "metadata": {},
   "source": [
    "### Q7:- Write a program to find the sum of squares of first n natural numbers where n will be provided by the user.\n",
    "\n",
    "Hint - Thus, the sum of the squares of first n natural numbers =  n(n+1)(2n+1)/6"
   ]
  },
  {
   "cell_type": "code",
   "execution_count": 10,
   "id": "182b7946",
   "metadata": {},
   "outputs": [
    {
     "name": "stdout",
     "output_type": "stream",
     "text": [
      "enter the number5\n",
      "55.0\n"
     ]
    }
   ],
   "source": [
    "# Write your code here\n",
    "n = int(input('enter the number '))\n",
    "\n",
    "result = (n*(n+1)*(2*n + 1))/6\n",
    "print(result)"
   ]
  },
  {
   "cell_type": "markdown",
   "id": "dde7a735",
   "metadata": {},
   "source": [
    "### Q8:- Given the first 2 terms of an Arithmetic Series.Find the Nth term of the series. Assume all inputs are provided by the user.\n",
    "\n",
    "- Hint - an = a + (n – 1)d"
   ]
  },
  {
   "cell_type": "code",
   "execution_count": 11,
   "id": "26c3260d",
   "metadata": {},
   "outputs": [
    {
     "name": "stdout",
     "output_type": "stream",
     "text": [
      "enter 1st term3\n",
      "enter 2nd term6\n",
      "enter the value of n5\n",
      "15\n"
     ]
    }
   ],
   "source": [
    "# Write your code here\n",
    "first_term = int(input('enter 1st term '))\n",
    "second_term = int(input('enter 2nd term '))\n",
    "n = int(input('enter the value of n '))\n",
    "\n",
    "d = second_term - first_term\n",
    "\n",
    "an = first_term + (n-1)*d\n",
    "\n",
    "print(an)"
   ]
  },
  {
   "cell_type": "markdown",
   "id": "a08a0459",
   "metadata": {},
   "source": [
    "### Q9:- Given 2 fractions, find the sum of those 2 fractions.Take the numerator and denominator values of the fractions from the user."
   ]
  },
  {
   "cell_type": "code",
   "execution_count": 13,
   "id": "4beb6cb1",
   "metadata": {},
   "outputs": [
    {
     "name": "stdout",
     "output_type": "stream",
     "text": [
      "num1 3\n",
      "den1 7\n",
      "num2 2\n",
      "den2 11\n",
      "47/77\n"
     ]
    }
   ],
   "source": [
    "# Write your code here\n",
    "n1 = int(input('num1 '))\n",
    "d1 = int(input('den1 '))\n",
    "n2 = int(input('num2 '))\n",
    "d2 = int(input('den2 '))\n",
    "\n",
    "rn = n1*d2 + n2*d1\n",
    "rd = d1*d2\n",
    "\n",
    "print('{}/{}'.format(rn,rd))"
   ]
  },
  {
   "cell_type": "markdown",
   "id": "9ceded5a",
   "metadata": {},
   "source": [
    "### Q10:- Given the height, width and breadth of a milk tank, you have to find out how many glasses of milk can be obtained? Assume all the inputs are provided by the user.\n",
    "\n",
    "\n",
    "\n",
    "Input:<br>\n",
    "Dimensions of the milk tank<br>\n",
    "H = 20cm, L = 20cm, B = 20cm\n",
    "<br><br>\n",
    "Dimensions of the glass<br>\n",
    "h = 3cm, r = 1cm"
   ]
  },
  {
   "cell_type": "code",
   "execution_count": 14,
   "id": "65023296",
   "metadata": {},
   "outputs": [
    {
     "name": "stdout",
     "output_type": "stream",
     "text": [
      "height10\n",
      "breadth19\n",
      "length10\n",
      "height of glass5\n",
      "radius of the glass2\n",
      "no of glasses 30\n"
     ]
    }
   ],
   "source": [
    "# Write your code here\n",
    "import math\n",
    "\n",
    "h_t = float(input('height '))\n",
    "b_t = float(input('breadth '))\n",
    "l_t = float(input('length '))\n",
    "\n",
    "h_g = float(input('height of glass '))\n",
    "r_g = float(input('radius of the glass '))\n",
    "\n",
    "vol_tank = h_t*b_t*l_t\n",
    "vol_glass = 3.14*r_g*r_g*h_g\n",
    "\n",
    "print('no of glasses',math.floor(vol_tank/vol_glass))"
   ]
  },
  {
   "cell_type": "code",
   "execution_count": null,
   "id": "77d16ec5",
   "metadata": {},
   "outputs": [],
   "source": [
    "math.floor(6.7)"
   ]
  },
  {
   "cell_type": "markdown",
   "id": "ecf39a2c",
   "metadata": {},
   "source": [
    "# Operators"
   ]
  },
  {
   "cell_type": "code",
   "execution_count": 46,
   "id": "bd7a3292",
   "metadata": {},
   "outputs": [
    {
     "name": "stdout",
     "output_type": "stream",
     "text": [
      "9\n",
      "1\n",
      "9\n",
      "9.0\n",
      "9\n",
      "1\n",
      "9\n"
     ]
    }
   ],
   "source": [
    "# Arithmetic\n",
    "\n",
    "print(5+4)\n",
    "print(5-4)\n",
    "print(3*3)\n",
    "print(18/2)\n",
    "print(18//2)\n",
    "print(9%2)\n",
    "print(3**2)"
   ]
  },
  {
   "cell_type": "code",
   "execution_count": 47,
   "id": "08dd9550",
   "metadata": {},
   "outputs": [
    {
     "name": "stdout",
     "output_type": "stream",
     "text": [
      "False\n"
     ]
    }
   ],
   "source": [
    "# Relational\n",
    "\n",
    "print(9<3)"
   ]
  },
  {
   "cell_type": "code",
   "execution_count": 48,
   "id": "ffdf2f39",
   "metadata": {},
   "outputs": [
    {
     "name": "stdout",
     "output_type": "stream",
     "text": [
      "True\n"
     ]
    }
   ],
   "source": [
    "print(9>3)"
   ]
  },
  {
   "cell_type": "code",
   "execution_count": 49,
   "id": "6b2cede7",
   "metadata": {},
   "outputs": [
    {
     "name": "stdout",
     "output_type": "stream",
     "text": [
      "True\n"
     ]
    }
   ],
   "source": [
    "print(4==4)"
   ]
  },
  {
   "cell_type": "code",
   "execution_count": 50,
   "id": "684b4786",
   "metadata": {},
   "outputs": [
    {
     "name": "stdout",
     "output_type": "stream",
     "text": [
      "True\n"
     ]
    }
   ],
   "source": [
    "print(9!=3)"
   ]
  },
  {
   "cell_type": "code",
   "execution_count": 51,
   "id": "170cbfc8",
   "metadata": {},
   "outputs": [
    {
     "name": "stdout",
     "output_type": "stream",
     "text": [
      "0\n"
     ]
    }
   ],
   "source": [
    "# Logical Operators\n",
    "\n",
    "print(1 and 0)"
   ]
  },
  {
   "cell_type": "code",
   "execution_count": 52,
   "id": "2699ddf6",
   "metadata": {},
   "outputs": [
    {
     "name": "stdout",
     "output_type": "stream",
     "text": [
      "1\n"
     ]
    }
   ],
   "source": [
    "print(1 and 1)"
   ]
  },
  {
   "cell_type": "code",
   "execution_count": 53,
   "id": "8c50d803",
   "metadata": {},
   "outputs": [
    {
     "name": "stdout",
     "output_type": "stream",
     "text": [
      "0\n"
     ]
    }
   ],
   "source": [
    "print(0 and 1)"
   ]
  },
  {
   "cell_type": "code",
   "execution_count": 54,
   "id": "95996421",
   "metadata": {},
   "outputs": [
    {
     "name": "stdout",
     "output_type": "stream",
     "text": [
      "1\n"
     ]
    }
   ],
   "source": [
    "print(1 or 1)"
   ]
  },
  {
   "cell_type": "code",
   "execution_count": 55,
   "id": "71a7e064",
   "metadata": {},
   "outputs": [
    {
     "name": "stdout",
     "output_type": "stream",
     "text": [
      "0\n"
     ]
    }
   ],
   "source": [
    "print(0 or 0)"
   ]
  },
  {
   "cell_type": "code",
   "execution_count": 56,
   "id": "15b0a095",
   "metadata": {},
   "outputs": [
    {
     "name": "stdout",
     "output_type": "stream",
     "text": [
      "2\n",
      "3\n"
     ]
    }
   ],
   "source": [
    "# Bitwise Operators\n",
    "\n",
    "# bitwise and \n",
    "print(2&3)\n",
    "\n",
    "# bitwise or\n",
    "\n",
    "print(2|3)"
   ]
  },
  {
   "cell_type": "code",
   "execution_count": 57,
   "id": "9a9d8478",
   "metadata": {},
   "outputs": [
    {
     "name": "stdout",
     "output_type": "stream",
     "text": [
      "-4\n"
     ]
    }
   ],
   "source": [
    "# bitwise xor\n",
    "\n",
    "print(~3)"
   ]
  },
  {
   "cell_type": "code",
   "execution_count": 58,
   "id": "de197c83",
   "metadata": {},
   "outputs": [
    {
     "name": "stdout",
     "output_type": "stream",
     "text": [
      "4\n",
      "9\n"
     ]
    }
   ],
   "source": [
    "# Assignment Operators\n",
    "\n",
    "a = 2\n",
    "b = a+2\n",
    "print(b)\n",
    "a += 7\n",
    "print(a)"
   ]
  },
  {
   "cell_type": "code",
   "execution_count": 59,
   "id": "76ae8f50",
   "metadata": {},
   "outputs": [
    {
     "name": "stdout",
     "output_type": "stream",
     "text": [
      "True\n"
     ]
    }
   ],
   "source": [
    "# Membership Operators\n",
    "\n",
    "# in/not in\n",
    "\n",
    "print(\"SINGH\" in \"GOURAB KUMAR SINGH RAJPUT\")"
   ]
  },
  {
   "cell_type": "code",
   "execution_count": 60,
   "id": "fe33e341",
   "metadata": {},
   "outputs": [
    {
     "name": "stdout",
     "output_type": "stream",
     "text": [
      "True\n"
     ]
    }
   ],
   "source": [
    "print(9 in [1,2,3,4,5,6,7,8,9])"
   ]
  },
  {
   "cell_type": "code",
   "execution_count": 61,
   "id": "4d3adfc1",
   "metadata": {},
   "outputs": [
    {
     "name": "stdout",
     "output_type": "stream",
     "text": [
      "Enter a three digit number345\n",
      "345\n"
     ]
    }
   ],
   "source": [
    "number = int(input('Enter a three digit number'))\n",
    "print(number)"
   ]
  },
  {
   "cell_type": "code",
   "execution_count": 62,
   "id": "2fff2adb",
   "metadata": {},
   "outputs": [
    {
     "name": "stdout",
     "output_type": "stream",
     "text": [
      "Enter a three digit number999\n",
      "27\n"
     ]
    }
   ],
   "source": [
    "# Program - Find the sum of a 3 digit number entered by the user\n",
    "\n",
    "number = int(input('Enter a three digit number'))\n",
    "\n",
    "# 345%10 -> 5\n",
    "a = number%10\n",
    "number = number//10\n",
    "\n",
    "# 34%10 -> 4\n",
    "b = number%10\n",
    "number = number//10\n",
    "\n",
    "# 3 % 10 -> 3\n",
    "c = number%10\n",
    "number = number//10\n",
    "\n",
    "print(a+b+c)"
   ]
  },
  {
   "cell_type": "markdown",
   "id": "d966d022",
   "metadata": {},
   "source": [
    "# If-Else in Python"
   ]
  },
  {
   "cell_type": "code",
   "execution_count": 63,
   "id": "e9c9725b",
   "metadata": {},
   "outputs": [
    {
     "name": "stdout",
     "output_type": "stream",
     "text": [
      "Enter your email -->>gourabsingh09@gmail.com\n",
      "Enter your password -->>99998\n",
      "Your password is not correct\n",
      "Enter your password -->99999\n",
      "Finally you did it \n"
     ]
    }
   ],
   "source": [
    "# login program and indentation\n",
    "# email = gourabsingh09@gmail.com\n",
    "# pass = 99999\n",
    "\n",
    "email = input(\"Enter your email -->>\")\n",
    "password = input(\"Enter your password -->>\")\n",
    "\n",
    "if email == 'gourabsingh09@gmail.com' and password == '99999':\n",
    "    print(\"welcome\")\n",
    "elif email != 'gourabsingh09@gmail.com' and password == '99999':\n",
    "    print (\"Your email is not correct\")\n",
    "elif email == 'gourabsingh09@gmail.com' and password != '99999':\n",
    "    print(\"Your password is not correct\")\n",
    "    password = input(\"Enter your password -->\")\n",
    "    if password == '99999':\n",
    "        print(\"Finally you did it \")\n",
    "    else:\n",
    "        print(\"Tu rahne de bhai\")\n",
    "else:\n",
    "    print(\"Your email and password both are not correct\")"
   ]
  },
  {
   "cell_type": "code",
   "execution_count": 3,
   "id": "fed25790",
   "metadata": {},
   "outputs": [],
   "source": [
    "# if-else examples\n",
    "# 1. Find the min of 3 given numbers\n",
    "# 2. Menu Driven Program"
   ]
  },
  {
   "cell_type": "code",
   "execution_count": 64,
   "id": "9769d197",
   "metadata": {},
   "outputs": [
    {
     "name": "stdout",
     "output_type": "stream",
     "text": [
      "Enter your number234\n",
      "Enter your number5678\n",
      "Enter your number2334\n",
      "a is smallest  234\n"
     ]
    }
   ],
   "source": [
    "# min of 3 number\n",
    "\n",
    "a = int(input(\"Enter your number\"))\n",
    "b = int(input(\"Enter your number\"))\n",
    "c = int(input(\"Enter your number\"))\n",
    "if a<b and a<c:\n",
    "    print('a is smallest ',a)\n",
    "elif b<a and b<c:\n",
    "    print('b is smallest ',b)\n",
    "elif c<a and c<b:\n",
    "    print('c is smallest ',c)\n",
    "else:\n",
    "    print ('all are equal')"
   ]
  },
  {
   "cell_type": "code",
   "execution_count": 66,
   "id": "da76ead7",
   "metadata": {},
   "outputs": [
    {
     "name": "stdout",
     "output_type": "stream",
     "text": [
      "enter your first number 99\n",
      "enter your second number 99\n",
      "What operation do you want to do **\n",
      "9801\n"
     ]
    }
   ],
   "source": [
    "# menu driven calculator\n",
    "\n",
    "fnum = int(input(\"enter your first number \"))\n",
    "snum = int(input(\"enter your second number \"))\n",
    "\n",
    "operation = input(\"What operation do you want to do \")\n",
    "\n",
    "if \"+\" in operation:     # if operation == +:\n",
    "    print(fnum+snum)\n",
    "elif \"-\" in operation:\n",
    "    print(fnum-snum)\n",
    "elif \"*\" in operation:\n",
    "    print(fnum * snum )\n",
    "elif '/' in operation:\n",
    "    print(fnum/snum)\n",
    "elif '//' in operation:\n",
    "    print(fnum//snum)\n",
    "elif '%' in operation:\n",
    "    print(fnum%snum)\n",
    "elif \"**\" in operation:\n",
    "    print(fnum**snum)"
   ]
  },
  {
   "cell_type": "markdown",
   "id": "ede373d4",
   "metadata": {},
   "source": [
    "# Modules in python\n",
    "\n",
    "### Math\n",
    "### Keyword\n",
    "### random\n",
    "### Datetime"
   ]
  },
  {
   "cell_type": "code",
   "execution_count": 67,
   "id": "f5a38798",
   "metadata": {},
   "outputs": [
    {
     "data": {
      "text/plain": [
       "362880"
      ]
     },
     "execution_count": 67,
     "metadata": {},
     "output_type": "execute_result"
    }
   ],
   "source": [
    "# math\n",
    "\n",
    "import math\n",
    "math.factorial(9)"
   ]
  },
  {
   "cell_type": "code",
   "execution_count": 68,
   "id": "7b1bc25e",
   "metadata": {},
   "outputs": [
    {
     "data": {
      "text/plain": [
       "9"
      ]
     },
     "execution_count": 68,
     "metadata": {},
     "output_type": "execute_result"
    }
   ],
   "source": [
    "math.floor(9.78)"
   ]
  },
  {
   "cell_type": "code",
   "execution_count": 69,
   "id": "eafee846",
   "metadata": {},
   "outputs": [
    {
     "data": {
      "text/plain": [
       "13.0"
      ]
     },
     "execution_count": 69,
     "metadata": {},
     "output_type": "execute_result"
    }
   ],
   "source": [
    "math.sqrt(169)"
   ]
  },
  {
   "cell_type": "code",
   "execution_count": 70,
   "id": "cd6e1626",
   "metadata": {},
   "outputs": [
    {
     "name": "stdout",
     "output_type": "stream",
     "text": [
      "36\n"
     ]
    }
   ],
   "source": [
    "# keyword\n",
    "\n",
    "import keyword\n",
    "print(len(keyword.kwlist))"
   ]
  },
  {
   "cell_type": "code",
   "execution_count": 71,
   "id": "465282a9",
   "metadata": {},
   "outputs": [
    {
     "name": "stdout",
     "output_type": "stream",
     "text": [
      "28\n"
     ]
    }
   ],
   "source": [
    "# random\n",
    "\n",
    "import random\n",
    "print(random.randint(1,100))"
   ]
  },
  {
   "cell_type": "code",
   "execution_count": 72,
   "id": "1f0368cc",
   "metadata": {},
   "outputs": [
    {
     "name": "stdout",
     "output_type": "stream",
     "text": [
      "2023-02-13 11:42:36.119666\n"
     ]
    }
   ],
   "source": [
    "# datetime\n",
    "\n",
    "import datetime\n",
    "print(datetime.datetime.now())"
   ]
  },
  {
   "cell_type": "code",
   "execution_count": 73,
   "id": "a2b1f8d8",
   "metadata": {},
   "outputs": [],
   "source": [
    "import warnings\n",
    "warnings.filterwarnings('ignore')\n",
    "#help('modules')"
   ]
  },
  {
   "cell_type": "code",
   "execution_count": 74,
   "id": "e9e4b92e",
   "metadata": {},
   "outputs": [],
   "source": [
    "#help('modules')"
   ]
  },
  {
   "cell_type": "markdown",
   "id": "e5487a9d",
   "metadata": {},
   "source": [
    "# Loops in python\n",
    "\n",
    "#### Need for Loops\n",
    "#### While Loop\n",
    "#### for Loop"
   ]
  },
  {
   "cell_type": "raw",
   "id": "6aa491f7",
   "metadata": {},
   "source": [
    "# While loop example -> program to print the table\n",
    "# Program -> Sum of all digits of a given number\n",
    "# Program -> keep accepting numbers from users till he/she enters a 0 and then find the avg"
   ]
  },
  {
   "cell_type": "code",
   "execution_count": 76,
   "id": "21cda2ad",
   "metadata": {},
   "outputs": [
    {
     "name": "stdout",
     "output_type": "stream",
     "text": [
      "Enter your number19\n",
      "19\n",
      "38\n",
      "57\n",
      "76\n",
      "95\n",
      "114\n",
      "133\n",
      "152\n",
      "171\n",
      "190\n",
      "limit crossed\n"
     ]
    }
   ],
   "source": [
    "number = int(input(\"Enter your number\"))\n",
    "i = 1\n",
    "while i<11:\n",
    "    print(number * i)\n",
    "    i += 1\n",
    "    \n",
    "else:\n",
    "    print(\"limit crossed\")"
   ]
  },
  {
   "cell_type": "code",
   "execution_count": 79,
   "id": "19302741",
   "metadata": {},
   "outputs": [
    {
     "name": "stdout",
     "output_type": "stream",
     "text": [
      "guess the number5\n",
      "guess more\n",
      "Guess karo2\n",
      "guess more\n",
      "Guess karo1\n",
      "guess more\n",
      "Guess karo2\n",
      "guess more\n",
      "Guess karo0\n",
      "guess more\n",
      "Guess karo9\n",
      "guess more\n",
      "Guess karo40\n",
      "guess less\n",
      "Guess karo30\n",
      "guess more\n",
      "Guess karo35\n",
      "guess more\n",
      "Guess karo38\n",
      "guess more\n",
      "Guess karo39\n",
      " Finally You Guess correct\n",
      "Count --> 11\n"
     ]
    }
   ],
   "source": [
    "# Guessing game\n",
    "\n",
    "# generate a random integer between 1 and 100\n",
    "import random\n",
    "jackpot = random.randint(1,100)\n",
    "guess = int(input(\"guess the number\"))\n",
    "\n",
    "count = 1\n",
    "while guess != jackpot:\n",
    "    if guess<jackpot:\n",
    "        print('guess more')\n",
    "    else:\n",
    "        print('guess less')\n",
    "        \n",
    "    guess = int(input('Guess karo'))\n",
    "    count += 1 \n",
    "    \n",
    "    if guess == jackpot:\n",
    "        print(' Finally You Guess correct')\n",
    "        print('Count -->', count)"
   ]
  },
  {
   "cell_type": "code",
   "execution_count": 80,
   "id": "01f1d3a5",
   "metadata": {},
   "outputs": [
    {
     "name": "stdout",
     "output_type": "stream",
     "text": [
      "1\n",
      "2\n",
      "3\n",
      "4\n",
      "5\n",
      "6\n",
      "7\n",
      "8\n",
      "9\n",
      "10\n"
     ]
    }
   ],
   "source": [
    "# For loop\n",
    "\n",
    "for i in range(1,11):\n",
    "    print(i)"
   ]
  },
  {
   "cell_type": "code",
   "execution_count": 81,
   "id": "81040029",
   "metadata": {},
   "outputs": [
    {
     "name": "stdout",
     "output_type": "stream",
     "text": [
      "0\n",
      "5\n",
      "10\n",
      "15\n",
      "20\n",
      "25\n",
      "30\n",
      "35\n",
      "40\n",
      "45\n"
     ]
    }
   ],
   "source": [
    "for i in range(0,50,5):\n",
    "    print(i)"
   ]
  },
  {
   "cell_type": "code",
   "execution_count": 82,
   "id": "d7347260",
   "metadata": {},
   "outputs": [
    {
     "name": "stdout",
     "output_type": "stream",
     "text": [
      "10\n",
      "9\n",
      "8\n",
      "7\n",
      "6\n",
      "5\n",
      "4\n",
      "3\n",
      "2\n",
      "1\n"
     ]
    }
   ],
   "source": [
    "for i in range(10,0,-1):\n",
    "    print(i)"
   ]
  },
  {
   "cell_type": "code",
   "execution_count": 83,
   "id": "0ad04e74",
   "metadata": {},
   "outputs": [
    {
     "name": "stdout",
     "output_type": "stream",
     "text": [
      "G\n",
      "O\n",
      "U\n",
      "R\n",
      "A\n",
      "B\n",
      " \n",
      "S\n",
      "I\n",
      "N\n",
      "G\n",
      "H\n",
      " \n",
      "R\n",
      "A\n",
      "J\n",
      "P\n",
      "U\n",
      "T\n"
     ]
    }
   ],
   "source": [
    "for i in \"GOURAB SINGH RAJPUT\":\n",
    "    print(i)"
   ]
  },
  {
   "cell_type": "raw",
   "id": "57e1ea94",
   "metadata": {},
   "source": [
    "Program - The current population of a town is 10000. The population of the town is increasing at the rate of 10% per year. You have to write a program to find out the population at the end of each of the last 10 years."
   ]
  },
  {
   "cell_type": "code",
   "execution_count": 84,
   "id": "fe882949",
   "metadata": {},
   "outputs": [
    {
     "name": "stdout",
     "output_type": "stream",
     "text": [
      "10 10000\n",
      "9 9090\n",
      "8 8263\n",
      "7 7511\n",
      "6 6828\n",
      "5 6207\n",
      "4 5642\n",
      "3 5129\n",
      "2 4662\n",
      "1 4238\n"
     ]
    }
   ],
   "source": [
    "current_population = 10000\n",
    "for i in range(10,0,-1):\n",
    "    print(i, current_population)\n",
    "    current_population = int(current_population / 1.1)"
   ]
  },
  {
   "cell_type": "markdown",
   "id": "8bbaf43b",
   "metadata": {},
   "source": [
    "#### Explanation :\n",
    "\n",
    "\n",
    "\n",
    "To calculate the population for each year with a 10% increase, you can use a simpler equation based on the previous year's population. Let's assume the population of the previous year is represented by variable x.\n",
    "\n",
    "The equation can be written as:\n",
    "\n",
    "> Current Year Population = x * 1.1\n",
    "\n",
    "In this equation, the current year's population is equal to the previous year's population multiplied by 1.1, representing a 10% increase.\n",
    "\n",
    "To find the population of the previous year (x), we can rearrange the equation as follows:\n",
    "\n",
    "> x = Current Year Population / 1.1\n",
    "\n",
    "Using this simplified equation, if you have the current year's population (e.g., 10,000), you can divide it by 1.1 to calculate the population of the previous year.\n",
    "\n",
    "This equation allows you to calculate the population for each year, assuming you know the population of the current year and want to find the population of the previous year."
   ]
  },
  {
   "cell_type": "markdown",
   "id": "2766e396",
   "metadata": {},
   "source": [
    "### Sequence sum\n",
    "\n",
    "#### 1/1! + 2/2! + 3/3! + ..."
   ]
  },
  {
   "cell_type": "code",
   "execution_count": 1,
   "id": "63ffa539",
   "metadata": {},
   "outputs": [
    {
     "name": "stdout",
     "output_type": "stream",
     "text": [
      "Enter n 6\n",
      "2.7166666666666663\n"
     ]
    }
   ],
   "source": [
    "n = int(input('Enter n '))\n",
    "\n",
    "result = 0\n",
    "fact = 1\n",
    "for i in range (1,n+1):\n",
    "    fact = fact * i\n",
    "    result = result + i/fact\n",
    "    \n",
    "print(result)"
   ]
  },
  {
   "cell_type": "markdown",
   "id": "725bf69b",
   "metadata": {},
   "source": [
    "# Nested loops"
   ]
  },
  {
   "cell_type": "code",
   "execution_count": 86,
   "id": "ba9c7644",
   "metadata": {},
   "outputs": [
    {
     "name": "stdout",
     "output_type": "stream",
     "text": [
      "1 1\n",
      "1 2\n",
      "1 3\n",
      "1 4\n",
      "2 1\n",
      "2 2\n",
      "2 3\n",
      "2 4\n",
      "3 1\n",
      "3 2\n",
      "3 3\n",
      "3 4\n",
      "4 1\n",
      "4 2\n",
      "4 3\n",
      "4 4\n"
     ]
    }
   ],
   "source": [
    "# Examples --> Unique pairs\n",
    "\n",
    "for i in range (1,5):\n",
    "    for j in range (1,5):\n",
    "        print(i,j)"
   ]
  },
  {
   "cell_type": "code",
   "execution_count": 87,
   "id": "88480362",
   "metadata": {},
   "outputs": [
    {
     "name": "stdout",
     "output_type": "stream",
     "text": [
      "Enter your row 9\n",
      "💖 \n",
      "💖 💖 \n",
      "💖 💖 💖 \n",
      "💖 💖 💖 💖 \n",
      "💖 💖 💖 💖 💖 \n",
      "💖 💖 💖 💖 💖 💖 \n",
      "💖 💖 💖 💖 💖 💖 💖 \n",
      "💖 💖 💖 💖 💖 💖 💖 💖 \n",
      "💖 💖 💖 💖 💖 💖 💖 💖 💖 \n"
     ]
    }
   ],
   "source": [
    "row = int(input(\"Enter your row \"))\n",
    "for i in range(1,row+1):\n",
    "    for j in range (1,i+1):\n",
    "        print('💖',end = ' ')\n",
    "    print()"
   ]
  },
  {
   "cell_type": "code",
   "execution_count": 89,
   "id": "35c036d6",
   "metadata": {},
   "outputs": [
    {
     "name": "stdout",
     "output_type": "stream",
     "text": [
      "Enter your number 9\n",
      "1 \n",
      "1 2 1 \n",
      "1 2 3 2 1 \n",
      "1 2 3 4 3 2 1 \n",
      "1 2 3 4 5 4 3 2 1 \n",
      "1 2 3 4 5 6 5 4 3 2 1 \n",
      "1 2 3 4 5 6 7 6 5 4 3 2 1 \n",
      "1 2 3 4 5 6 7 8 7 6 5 4 3 2 1 \n",
      "1 2 3 4 5 6 7 8 9 8 7 6 5 4 3 2 1 \n"
     ]
    }
   ],
   "source": [
    "num = int(input('Enter your number '))\n",
    "for i in range (1,num+1):\n",
    "    for j in range(1,i+1):\n",
    "        print(j, end = ' ')\n",
    "    for k in range (i-1,0,-1):\n",
    "        print(k,end = ' ')\n",
    "    print()"
   ]
  },
  {
   "cell_type": "code",
   "execution_count": 91,
   "id": "1ee78405",
   "metadata": {},
   "outputs": [
    {
     "name": "stdout",
     "output_type": "stream",
     "text": [
      "enter your number7\n",
      "1 \n",
      "1 2 1 \n",
      "1 2 3 2 1 \n",
      "1 2 3 4 3 2 1 \n",
      "1 2 3 4 5 4 3 2 1 \n",
      "1 2 3 4 5 6 5 4 3 2 1 \n",
      "1 2 3 4 5 6 7 6 5 4 3 2 1 \n"
     ]
    }
   ],
   "source": [
    "num = int(input(\"enter your number\"))\n",
    "for i in range(1,num+1):\n",
    "    for j in range(1,i+1):\n",
    "        print(j, end = ' ')\n",
    "    for k in range(i-1,0,-1):\n",
    "        print(k, end = ' ')\n",
    "    print()"
   ]
  },
  {
   "cell_type": "markdown",
   "id": "92ee52e6",
   "metadata": {},
   "source": [
    "# Loop Control Statement\n",
    "\n",
    "##### Break\n",
    "##### Continue\n",
    "##### Pass"
   ]
  },
  {
   "cell_type": "code",
   "execution_count": 92,
   "id": "9ab5b396",
   "metadata": {},
   "outputs": [
    {
     "name": "stdout",
     "output_type": "stream",
     "text": [
      "1\n",
      "2\n",
      "3\n",
      "4\n"
     ]
    }
   ],
   "source": [
    "for i in range(1,10):\n",
    "    if i ==5:\n",
    "        break\n",
    "    print(i)"
   ]
  },
  {
   "cell_type": "code",
   "execution_count": 93,
   "id": "649953a8",
   "metadata": {},
   "outputs": [
    {
     "name": "stdout",
     "output_type": "stream",
     "text": [
      "enter lower range 56\n",
      "enter upper range 67\n",
      "59\n",
      "61\n",
      "67\n"
     ]
    }
   ],
   "source": [
    "lower = int(input('enter lower range '))\n",
    "upper = int(input('enter upper range '))\n",
    "\n",
    "for i in range(lower,upper+1):\n",
    "    for j in range(2,i):\n",
    "        if i % j == 0:\n",
    "            break\n",
    "    else:\n",
    "        print(i)"
   ]
  },
  {
   "cell_type": "code",
   "execution_count": 94,
   "id": "0a191fe3",
   "metadata": {},
   "outputs": [
    {
     "name": "stdout",
     "output_type": "stream",
     "text": [
      "1\n",
      "2\n",
      "3\n",
      "4\n",
      "6\n",
      "7\n",
      "8\n",
      "9\n"
     ]
    }
   ],
   "source": [
    "for i in range(1,10):\n",
    "    if i ==5:\n",
    "        continue\n",
    "    print(i) "
   ]
  },
  {
   "cell_type": "code",
   "execution_count": 95,
   "id": "12c01186",
   "metadata": {},
   "outputs": [],
   "source": [
    "for i in range(1,10):\n",
    "    pass"
   ]
  },
  {
   "cell_type": "markdown",
   "id": "9f1e3b29",
   "metadata": {},
   "source": [
    "# TASK 2"
   ]
  },
  {
   "cell_type": "markdown",
   "id": "9cc6ad9c",
   "metadata": {},
   "source": [
    "### `Problem 1`: Write a program that will give you in hand monthly salary after deduction on CTC - HRA(10%), DA(5%), PF(3%) and taxes deduction as below:\n",
    "\n",
    "> Salary(Lakhs) : Tax(%)\n",
    "\n",
    "*   Below 5 : 0%\n",
    "*   5-10 : 10%\n",
    "*   10-20 : 20%\n",
    "*   aboove 20 : 30%"
   ]
  },
  {
   "cell_type": "code",
   "execution_count": 18,
   "id": "995188dc",
   "metadata": {},
   "outputs": [
    {
     "name": "stdout",
     "output_type": "stream",
     "text": [
      "Enter your anual CTC:1800000\n",
      "You in hand monthly salary will be- 93000.0\n"
     ]
    }
   ],
   "source": [
    "# Write code here\n",
    "#write your code\n",
    "ctc = int(input('Enter your anual CTC:'))\n",
    "\n",
    "if ctc < 500000:\n",
    "    salary=ctc*.82\n",
    "elif ctc<1000000:\n",
    "    salary=ctc*.72\n",
    "elif ctc<2000000:\n",
    "    salary=ctc*.62\n",
    "else:\n",
    "    salary=ctc*.52\n",
    "\n",
    "print(\"You in hand monthly salary will be-\", round(salary/12,2))"
   ]
  },
  {
   "cell_type": "markdown",
   "id": "8fb01901",
   "metadata": {},
   "source": [
    "### `Problem 2`: Write a program that take a user input of three angles and will find out whether it can form a triangle or not.\n",
    "\n",
    "Hint - Sum of all angles is 180 and all angles are positive"
   ]
  },
  {
   "cell_type": "code",
   "execution_count": 20,
   "id": "dd492a80",
   "metadata": {},
   "outputs": [
    {
     "name": "stdout",
     "output_type": "stream",
     "text": [
      "enter the 1st angle 30\n",
      "enter the 2nd angle 100\n",
      "enter the 3rd angle 50\n",
      "forms a triangle \n"
     ]
    }
   ],
   "source": [
    "# Write code here\n",
    "first = int(input('enter the 1st angle '))\n",
    "second = int(input('enter the 2nd angle '))\n",
    "third = int(input('enter the 3rd angle '))\n",
    "\n",
    "if (first+second+third) == 180 and first>0 and second>0 and third>0:\n",
    "    print('forms a triangle ')\n",
    "else:\n",
    "    print('does not form a triangle ')"
   ]
  },
  {
   "cell_type": "markdown",
   "id": "a29cf293",
   "metadata": {},
   "source": [
    "### `Problem 3`: Write a program that will take user input of cost price and selling price and determines whether its a loss or a profit."
   ]
  },
  {
   "cell_type": "code",
   "execution_count": 21,
   "id": "d595e873",
   "metadata": {},
   "outputs": [
    {
     "name": "stdout",
     "output_type": "stream",
     "text": [
      "Enter cost price-6000\n",
      "Enter selling price-12000\n",
      "Profit\n"
     ]
    }
   ],
   "source": [
    "# Write code here\n",
    "# write your code here\n",
    "cost_price = int(input('Enter cost price-'))\n",
    "selling_price = int(input('Enter selling price-'))\n",
    "\n",
    "if cost_price < selling_price:\n",
    "    print('Profit')\n",
    "elif cost_price > selling_price:\n",
    "    print('Loss')\n",
    "else:\n",
    "    print('No Loss No Gain')"
   ]
  },
  {
   "cell_type": "markdown",
   "id": "80fed3dd",
   "metadata": {},
   "source": [
    "### `Problem 4`: Write a menu-driven program -\n",
    "1. cm to ft\n",
    "2. km to miles\n",
    "3. USD to INR\n",
    "4. exit\n",
    "\n",
    "Hint\n",
    "- 1 cm = 0.032ft\n",
    "- 1km = 0.62\n",
    "- 1 USD = 80 INR"
   ]
  },
  {
   "cell_type": "code",
   "execution_count": 23,
   "id": "92921a3e",
   "metadata": {},
   "outputs": [
    {
     "name": "stdout",
     "output_type": "stream",
     "text": [
      "\n",
      "Hi select an option\n",
      "1. cms to ft\n",
      "2. km to miles\n",
      "3. USD to INR\n",
      "4. Exit\n",
      "1\n",
      "enter the cm value 180\n",
      "ft value is 5.76\n"
     ]
    }
   ],
   "source": [
    "# Write code here\n",
    "menu = input(\"\"\"\n",
    "Hi select an option\n",
    "1. cms to ft\n",
    "2. km to miles\n",
    "3. USD to INR\n",
    "4. Exit\n",
    "\"\"\")\n",
    "\n",
    "if menu == '1':\n",
    "    cm = float(input('enter the cm value '))\n",
    "    print('ft value is',0.032*cm)\n",
    "elif menu == '2':\n",
    "    km = float(input('enter the km value '))\n",
    "    print('miles value is',km*0.62)\n",
    "elif menu == '3':\n",
    "    usd = float(input('enter usd '))\n",
    "    print('inr ',usd*80)\n",
    "else:\n",
    "    exit()"
   ]
  },
  {
   "cell_type": "markdown",
   "id": "b41fb08b",
   "metadata": {},
   "source": [
    "### `Problem 5` - Exercise 12: Display Fibonacci series up to 10 terms.\n",
    "\n",
    "*Note: The Fibonacci Sequence is a series of numbers. The next number is found by adding up the two numbers before it. The first two numbers are 0 and 1. For example, 0, 1, 1, 2, 3, 5, 8, 13, 21. The next number in this series above is 13+21 = 34*"
   ]
  },
  {
   "cell_type": "code",
   "execution_count": 24,
   "id": "b8d1234f",
   "metadata": {},
   "outputs": [
    {
     "name": "stdout",
     "output_type": "stream",
     "text": [
      "0\n",
      "1\n",
      "1\n",
      "2\n",
      "3\n",
      "5\n",
      "8\n",
      "13\n",
      "21\n",
      "34\n"
     ]
    }
   ],
   "source": [
    "# Write code here\n",
    "\n",
    "num1,num2 = 0,1\n",
    "\n",
    "for i in range(10):\n",
    "    print(num1)\n",
    "\n",
    "    next = num1 + num2\n",
    "\n",
    "    num1 = num2\n",
    "    num2 = next"
   ]
  },
  {
   "cell_type": "markdown",
   "id": "34e51053",
   "metadata": {},
   "source": [
    "### `Problem 6` - Find the factorial of a given number.\n",
    "\n",
    "- Write a program to use the loop to find the factorial of a given number.\n",
    "\n",
    "- The factorial (symbol: `!`) means to multiply all whole numbers from the chosen number down to 1.\n",
    "\n",
    "- For example: calculate the factorial of 5\n",
    "\n",
    "```bash\n",
    "5! = 5 × 4 × 3 × 2 × 1 = 120\n",
    "```\n",
    "\n",
    "Output:\n",
    "\n",
    "```bash\n",
    "120\n",
    "```"
   ]
  },
  {
   "cell_type": "code",
   "execution_count": 27,
   "id": "785c5902",
   "metadata": {},
   "outputs": [
    {
     "name": "stdout",
     "output_type": "stream",
     "text": [
      "enter the number 7\n",
      "5040\n"
     ]
    }
   ],
   "source": [
    "# Write code here\n",
    "num = int(input('enter the number '))\n",
    "\n",
    "fact = 1\n",
    "for i in range(1,num+1):\n",
    "    fact = fact*i\n",
    "\n",
    "print(fact)"
   ]
  },
  {
   "cell_type": "markdown",
   "id": "036f3850",
   "metadata": {},
   "source": [
    "### `Problem 7` - Reverse a given integer number.\n",
    "\n",
    "Example:\n",
    "\n",
    "`Input:`\n",
    "\n",
    "```bash\n",
    "76542\n",
    "```\n",
    "\n",
    "`Output:`\n",
    "\n",
    "```bash\n",
    "24567\n",
    "```"
   ]
  },
  {
   "cell_type": "code",
   "execution_count": 28,
   "id": "cb5e4f3c",
   "metadata": {},
   "outputs": [
    {
     "name": "stdout",
     "output_type": "stream",
     "text": [
      "enter the number 56789\n",
      "98765\n"
     ]
    }
   ],
   "source": [
    "# Write code here\n",
    "number = int(input('enter the number '))\n",
    "\n",
    "rev = 0\n",
    "\n",
    "while number>0:\n",
    "    last = number%10\n",
    "    rev = rev*10 + last\n",
    "    number = number//10\n",
    "\n",
    "print(rev)"
   ]
  },
  {
   "cell_type": "markdown",
   "id": "f651c2b0",
   "metadata": {},
   "source": [
    "### `Problem 8`: Take a user input as integer N. Find out the sum from 1 to N. If any number if divisible by 5, then skip that number. And if the sum is greater than 300, don't need to calculate the sum further more. Print the final result. And don't use for loop to solve this problem.\n",
    "\n",
    "**Example 1:**\n",
    "\n",
    "`Input:`\n",
    "\n",
    "```bash\n",
    "30\n",
    "```\n",
    "\n",
    "`Output:`\n",
    "\n",
    "```bash\n",
    "276\n",
    "```"
   ]
  },
  {
   "cell_type": "code",
   "execution_count": 35,
   "id": "2ca35e32",
   "metadata": {},
   "outputs": [
    {
     "name": "stdout",
     "output_type": "stream",
     "text": [
      "enter the number 30\n",
      "276\n"
     ]
    }
   ],
   "source": [
    "# Write code here\n",
    "N = int(input('enter the number '))\n",
    "sum = 0\n",
    "i = 1\n",
    "\n",
    "while i < N+1:\n",
    "    if i % 5 == 0:\n",
    "        i+=1\n",
    "        continue\n",
    "\n",
    "    sum += i\n",
    "\n",
    "    if sum > 300:\n",
    "        sum = sum - i\n",
    "        break\n",
    "\n",
    "    i+=1\n",
    "\n",
    "print(sum)"
   ]
  },
  {
   "cell_type": "markdown",
   "id": "1a0cbdcf",
   "metadata": {},
   "source": [
    "### `Problem 9`: Write a program that keeps on accepting a number from the user until the user enters Zero. Display the sum and average of all the numbers."
   ]
  },
  {
   "cell_type": "code",
   "execution_count": 37,
   "id": "571610e0",
   "metadata": {},
   "outputs": [
    {
     "name": "stdout",
     "output_type": "stream",
     "text": [
      "enter number1\n",
      "enter number2\n",
      "enter number3\n",
      "enter number4\n",
      "enter number5\n",
      "enter number6\n",
      "enter number7\n",
      "enter number8\n",
      "enter number9\n",
      "enter number0\n",
      "sum 45\n",
      "avg 5.0\n"
     ]
    }
   ],
   "source": [
    "# Write code here\n",
    "sum = 0\n",
    "count = 0\n",
    "\n",
    "while True:\n",
    "    num = int(input('enter number'))\n",
    "    if num == 0:\n",
    "        break\n",
    "    sum = sum + num\n",
    "    count = count + 1\n",
    "\n",
    "print('sum',sum)\n",
    "print('avg',sum/count)"
   ]
  },
  {
   "cell_type": "markdown",
   "id": "17fc1eb7",
   "metadata": {},
   "source": [
    "### `Problem 9`: Write a program which will find all such numbers which are divisible by 7 but are not a multiple of 5, between 2000 and 3200 (both included). The numbers obtained should be printed in a comma-separated sequence on a single line."
   ]
  },
  {
   "cell_type": "code",
   "execution_count": 38,
   "id": "64503b4d",
   "metadata": {},
   "outputs": [
    {
     "name": "stdout",
     "output_type": "stream",
     "text": [
      "2002,2009,2016,2023,2037,2044,2051,2058,2072,2079,2086,2093,2107,2114,2121,2128,2142,2149,2156,2163,2177,2184,2191,2198,2212,2219,2226,2233,2247,2254,2261,2268,2282,2289,2296,2303,2317,2324,2331,2338,2352,2359,2366,2373,2387,2394,2401,2408,2422,2429,2436,2443,2457,2464,2471,2478,2492,2499,2506,2513,2527,2534,2541,2548,2562,2569,2576,2583,2597,2604,2611,2618,2632,2639,2646,2653,2667,2674,2681,2688,2702,2709,2716,2723,2737,2744,2751,2758,2772,2779,2786,2793,2807,2814,2821,2828,2842,2849,2856,2863,2877,2884,2891,2898,2912,2919,2926,2933,2947,2954,2961,2968,2982,2989,2996,3003,3017,3024,3031,3038,3052,3059,3066,3073,3087,3094,3101,3108,3122,3129,3136,3143,3157,3164,3171,3178,3192,3199\n"
     ]
    }
   ],
   "source": [
    "# Write code here\n",
    "L = []\n",
    "for i in range(2000,3201):\n",
    "    if i % 7 == 0 and i % 5 != 0:\n",
    "        L.append(str(i))\n",
    "\n",
    "print(\",\".join(L))\n"
   ]
  },
  {
   "cell_type": "markdown",
   "id": "ad7ee0c9",
   "metadata": {},
   "source": [
    "### `Problem 10`: Write a program, which will find all such numbers between 1000 and 3000 (both included) such that each digit of the number is an even number. The numbers obtained should be printed in a space-separated sequence on a single line."
   ]
  },
  {
   "cell_type": "code",
   "execution_count": 40,
   "id": "fd2b9e40",
   "metadata": {},
   "outputs": [
    {
     "name": "stdout",
     "output_type": "stream",
     "text": [
      "2000,2002,2004,2006,2008,2020,2022,2024,2026,2028,2040,2042,2044,2046,2048,2060,2062,2064,2066,2068,2080,2082,2084,2086,2088,2200,2202,2204,2206,2208,2220,2222,2224,2226,2228,2240,2242,2244,2246,2248,2260,2262,2264,2266,2268,2280,2282,2284,2286,2288,2400,2402,2404,2406,2408,2420,2422,2424,2426,2428,2440,2442,2444,2446,2448,2460,2462,2464,2466,2468,2480,2482,2484,2486,2488,2600,2602,2604,2606,2608,2620,2622,2624,2626,2628,2640,2642,2644,2646,2648,2660,2662,2664,2666,2668,2680,2682,2684,2686,2688,2800,2802,2804,2806,2808,2820,2822,2824,2826,2828,2840,2842,2844,2846,2848,2860,2862,2864,2866,2868,2880,2882,2884,2886,2888\n"
     ]
    }
   ],
   "source": [
    "# Write code here\n",
    "L = []\n",
    "for i in range(1000,3001):\n",
    "    flag = True\n",
    "\n",
    "    curr = i\n",
    "\n",
    "    while curr > 0:\n",
    "        last = curr%10\n",
    "        if last % 2 != 0:\n",
    "            flag = False\n",
    "            break\n",
    "        curr = curr//10\n",
    "\n",
    "    if flag == True:\n",
    "        L.append(str(i))\n",
    "\n",
    "print(\",\".join(L))"
   ]
  },
  {
   "cell_type": "markdown",
   "id": "3a01a32c",
   "metadata": {},
   "source": [
    "### `Problem 11`: A robot moves in a plane starting from the original point (0,0). The robot can move toward UP, DOWN, LEFT and RIGHT with a given steps.\n",
    "The trace of robot movement is shown as the following:\n",
    "```\n",
    "UP 5\n",
    "DOWN 3\n",
    "LEFT 3\n",
    "RIGHT 2\n",
    "!\n",
    "```\n",
    "> The numbers after the direction are steps.\n",
    "\n",
    "> `!` means robot stop there.\n",
    "\n",
    "**Please write a program to compute the distance from current position after a sequence of movement and original point.**\n",
    "\n",
    "*If the distance is a float, then just print the nearest integer.*\n",
    "\n",
    "Example:\n",
    "\n",
    "`Input`:\n",
    "```\n",
    "UP 5\n",
    "DOWN 3\n",
    "LEFT 3\n",
    "RIGHT 2\n",
    "!\n",
    "```\n",
    "`Output`:\n",
    "```\n",
    "2\n",
    "```"
   ]
  },
  {
   "cell_type": "code",
   "execution_count": 42,
   "id": "59542b9e",
   "metadata": {},
   "outputs": [
    {
     "name": "stdout",
     "output_type": "stream",
     "text": [
      "Enter the robot path UP 2\n",
      "Enter the robot path DOWN 3\n",
      "Enter the robot path RIGHT 4\n",
      "Enter the robot path LEFT 5\n",
      "Enter the robot path !\n",
      "new pos [-1, -1]\n",
      "1.4142135623730951\n"
     ]
    }
   ],
   "source": [
    "# Write code here\n",
    "pos = [0,0]\n",
    "while True:\n",
    "    s = input('Enter the robot path ')\n",
    "    if s == '!':\n",
    "        break\n",
    "    direction = s.split()[0]\n",
    "    steps = int(s.split()[1])\n",
    "\n",
    "    if direction == 'UP':\n",
    "        pos[1] = pos[1] + steps\n",
    "    elif direction == 'DOWN':\n",
    "        pos[1] = pos[1] - steps\n",
    "    elif direction == 'LEFT':\n",
    "        pos[0] = pos[0] - steps\n",
    "    elif direction == 'RIGHT':\n",
    "        pos[0] = pos[0] + steps\n",
    "    else:\n",
    "        pass\n",
    "\n",
    "print('new pos',pos)\n",
    "print((pos[0]**2 + pos[1]**2)**0.5)"
   ]
  },
  {
   "cell_type": "markdown",
   "id": "247a6f32",
   "metadata": {},
   "source": [
    "### `Problem 12`:Write a program to print whether a given number is a prime number or not"
   ]
  },
  {
   "cell_type": "code",
   "execution_count": 45,
   "id": "626e1cd0",
   "metadata": {},
   "outputs": [
    {
     "name": "stdout",
     "output_type": "stream",
     "text": [
      "enter the num7\n",
      "Prime\n"
     ]
    }
   ],
   "source": [
    "# Write code here\n",
    "num = int(input('enter the num'))\n",
    "\n",
    "flag = True\n",
    "for i in range(2,num):\n",
    "    if num%i == 0:\n",
    "        flag = False\n",
    "        break\n",
    "\n",
    "if flag == True:\n",
    "    print('Prime')\n",
    "else:\n",
    "    print('Not Prime')"
   ]
  },
  {
   "cell_type": "markdown",
   "id": "494a4b3f",
   "metadata": {},
   "source": [
    "### `Problem 13`:Print all the Armstrong numbers in a given range.\n",
    "Range will be provided by the user<br>\n",
    "Armstrong number is a number that is equal to the sum of cubes of its digits. For example 0, 1, 153, 370, 371 and 407 are the Armstrong numbers."
   ]
  },
  {
   "cell_type": "code",
   "execution_count": null,
   "id": "bbcd823d",
   "metadata": {},
   "outputs": [],
   "source": [
    "# Write code here\n",
    "start = int(input(\"Enter the start of the range: \"))\n",
    "end = int(input(\"Enter the end of the range: \"))\n",
    "\n",
    "for num in range(start, end+1):\n",
    "    temp = num\n",
    "    sum = 0\n",
    "    order = len(str(num))\n",
    "    while temp > 0:\n",
    "        digit = temp % 10\n",
    "        sum += digit ** order\n",
    "        temp //= 10\n",
    "    if num == sum:\n",
    "        print(num)\n",
    "\n"
   ]
  },
  {
   "cell_type": "markdown",
   "id": "33c17c7f",
   "metadata": {},
   "source": [
    "### `Problem 14`:Calculate the angle between the hour hand and minute hand.\n",
    "\n",
    "Note: There can be two angles between hands; we need to print a minimum of two. Also, we need to print the floor of the final result angle. For example, if the final angle is 10.61, we need to print 10.\n",
    "\n",
    "Input:<br>\n",
    "H = 9 , M = 0<br>\n",
    "Output:<br>\n",
    "90<br>\n",
    "Explanation:<br>\n",
    "The minimum angle between hour and minute\n",
    "hand when the time is 9 is 90 degress."
   ]
  },
  {
   "cell_type": "code",
   "execution_count": null,
   "id": "98f721e8",
   "metadata": {},
   "outputs": [],
   "source": [
    "# Write code here\n",
    "\n",
    "# Write code here\n",
    "h = int(input('Enter hours hand-'))\n",
    "m = int(input('Enter minute hand-'))\n",
    "\n",
    "# validate the input\n",
    "if (h < 0 or m < 0 or h > 12 or m > 60):\n",
    "    print('Wrong input')\n",
    "\n",
    "# Idea is to minute angle - hour agnle from clockwise from 12 hour point\n",
    "\n",
    "# 1 minute in minute angle manke 6 degree. (60 minute -> 360 degree)\n",
    "m_angle = m*6\n",
    "\n",
    "# every hour point yeilds to 30degree-- 12 hours-360degree plus if minute hand moves hour hands move too\n",
    "# Every minute after hour hand take 0.5 degree movement. clockwise\n",
    "h_angle = h*30 + m*0.5\n",
    "\n",
    "# Take abs difference b/w them\n",
    "angle = abs(h_angle - m_angle)\n",
    "\n",
    "\n",
    "if angle>180:\n",
    "    print(360-angle)\n",
    "else:\n",
    "    print(angle)"
   ]
  },
  {
   "cell_type": "markdown",
   "id": "6d149f7c",
   "metadata": {},
   "source": [
    "`Explaination:` This code calculates the angle between the hour and minute hand on a clock. It takes user input for the hour and minute hand positions, validates the input to make sure it is within the range of a clock (0-12 for hours and 0-60 for minutes), then calculates the angles of the hour and minute hand based on their position on the clock. It then finds the difference between the two angles and takes the absolute value of that difference. It then checks if the angle is greater than 180, if it is, it prints the difference of 360 and the angle, else it prints the angle. The final output is the angle between the hands on the clock."
   ]
  },
  {
   "cell_type": "markdown",
   "id": "3540f947",
   "metadata": {},
   "source": [
    "### `Problem 15`:Given two rectangles, find if the given two rectangles overlap or not. A rectangle is denoted by providing the x and y coordinates of two points: the left top corner and the right bottom corner of the rectangle. Two rectangles sharing a side are considered overlapping. (L1 and R1 are the extreme points of the first rectangle and L2 and R2 are the extreme points of the second rectangle).\n",
    "\n",
    "Note: It may be assumed that the rectangles are parallel to the coordinate axis.\n",
    "\n",
    "<img src='https://www.geeksforgeeks.org/wp-content/uploads/rectanglesOverlap.png' width='300' height='200'>"
   ]
  },
  {
   "cell_type": "code",
   "execution_count": 5,
   "id": "4554b62f",
   "metadata": {},
   "outputs": [
    {
     "ename": "SyntaxError",
     "evalue": "unterminated string literal (detected at line 4) (2634322551.py, line 4)",
     "output_type": "error",
     "traceback": [
      "\u001b[1;36m  Cell \u001b[1;32mIn[5], line 4\u001b[1;36m\u001b[0m\n\u001b[1;33m    l1_x, l1_y = list(map(int, input('Enter L1 coordinate value,\u001b[0m\n\u001b[1;37m                                     ^\u001b[0m\n\u001b[1;31mSyntaxError\u001b[0m\u001b[1;31m:\u001b[0m unterminated string literal (detected at line 4)\n"
     ]
    }
   ],
   "source": [
    "# Write code here\n",
    "print(\"Enter both Rectangel points coordinates <x y>\")\n",
    "\n",
    "l1_x, l1_y = list(map(int, input('Enter L1 coordinate value,(Two value space seperated):').split()))\n",
    "r1_x, r1_y = list(map(int, input('Enter r1 coordinate value,(Two value space seperated):').split()))\n",
    "\n",
    "l2_x, l2_y = list(map(int, input('Enter L2 coordinate value,(Two value space seperated):').split()))\n",
    "r2_x, r2_y = list(map(int, input('Enter r2 coordinate value,(Two value space seperated):').split()))\n",
    "\n",
    "# if rectangle has area 0, no overlap\n",
    "if l1_x == r1_x or l1_y == r1_y or r2_x == l2_x or l2_y == r2_y:\n",
    "    print(\"Don't Overlap\")\n",
    "\n",
    "# If one rectangle is on left side of other\n",
    "elif l1_x > r2_x or l2_x > r1_x:\n",
    "    print(\"Don't Overlap\")\n",
    "\n",
    "# If one rectangle is above other\n",
    "elif r1_y > l2_y or r2_y > l1_y:\n",
    "    print(\"Don't Overlap\")\n",
    "else:\n",
    "    print(\"Overlap\")"
   ]
  },
  {
   "cell_type": "markdown",
   "id": "05df874b",
   "metadata": {},
   "source": [
    "`Explaination:` The given code takes the coordinates of two rectangles from the user and checks if they overlap.\n",
    "* It does this by first checking if either rectangle has an area of 0 (i.e. one of the sides has length 0), in which case it prints \"Don't Overlap\".\n",
    "* It then checks if one rectangle is entirely to the left or above the other, in which case it also prints \"Don't Overlap\". If none of these conditions are true, it prints \"Overlap\"."
   ]
  },
  {
   "cell_type": "markdown",
   "id": "d1afd547",
   "metadata": {},
   "source": [
    "### Strings are sequence of Characters\n",
    "\n",
    "### In Python specifically, strings are a sequence of Unicode Characters\n",
    "\n",
    "###### Creating Strings\n",
    "###### Accessing Strings\n",
    "###### Adding Chars to Strings\n",
    "###### Editing Strings\n",
    "###### Deleting Strings\n",
    "###### Operations on Strings\n",
    "###### String Functions"
   ]
  },
  {
   "cell_type": "markdown",
   "id": "8f49560a",
   "metadata": {},
   "source": [
    "##### Creating Stings\n",
    "##### Accessing Substrings from a String"
   ]
  },
  {
   "cell_type": "code",
   "execution_count": 96,
   "id": "4ac87cd6",
   "metadata": {},
   "outputs": [
    {
     "name": "stdout",
     "output_type": "stream",
     "text": [
      "G\n"
     ]
    },
    {
     "data": {
      "text/plain": [
       "'a'"
      ]
     },
     "execution_count": 96,
     "metadata": {},
     "output_type": "execute_result"
    }
   ],
   "source": [
    "# Positive Indexing\n",
    "\n",
    "g = \"hello Gourab\"\n",
    "print(g[6])\n",
    "g[8]\n",
    "\n",
    "# Negative Indexing\n",
    "g[-2]"
   ]
  },
  {
   "cell_type": "code",
   "execution_count": 97,
   "id": "f870cff9",
   "metadata": {},
   "outputs": [
    {
     "data": {
      "text/plain": [
       "'l'"
      ]
     },
     "execution_count": 97,
     "metadata": {},
     "output_type": "execute_result"
    }
   ],
   "source": [
    "g[2]"
   ]
  },
  {
   "cell_type": "code",
   "execution_count": 98,
   "id": "af62f453",
   "metadata": {},
   "outputs": [
    {
     "name": "stdout",
     "output_type": "stream",
     "text": [
      "baruoG olle\n"
     ]
    }
   ],
   "source": [
    "# Slicing\n",
    "\n",
    "print(g[13:0:-1])"
   ]
  },
  {
   "cell_type": "code",
   "execution_count": 99,
   "id": "2f89ddec",
   "metadata": {},
   "outputs": [
    {
     "name": "stdout",
     "output_type": "stream",
     "text": [
      "baruoG olleh\n"
     ]
    }
   ],
   "source": [
    "print(g[13::-1])"
   ]
  },
  {
   "cell_type": "code",
   "execution_count": 100,
   "id": "ede24845",
   "metadata": {},
   "outputs": [
    {
     "data": {
      "text/plain": [
       "'baruoG olleh'"
      ]
     },
     "execution_count": 100,
     "metadata": {},
     "output_type": "execute_result"
    }
   ],
   "source": [
    "g[::-1]"
   ]
  },
  {
   "cell_type": "code",
   "execution_count": 101,
   "id": "7515025d",
   "metadata": {},
   "outputs": [
    {
     "data": {
      "text/plain": [
       "'Hello Gourab'"
      ]
     },
     "execution_count": 101,
     "metadata": {},
     "output_type": "execute_result"
    }
   ],
   "source": [
    "g.title()"
   ]
  },
  {
   "cell_type": "code",
   "execution_count": 102,
   "id": "ce7f2137",
   "metadata": {},
   "outputs": [],
   "source": [
    "gs = 'gourab'"
   ]
  },
  {
   "cell_type": "code",
   "execution_count": 103,
   "id": "51484871",
   "metadata": {},
   "outputs": [
    {
     "data": {
      "text/plain": [
       "'Gourab'"
      ]
     },
     "execution_count": 103,
     "metadata": {},
     "output_type": "execute_result"
    }
   ],
   "source": [
    "gs.title()"
   ]
  },
  {
   "cell_type": "code",
   "execution_count": 104,
   "id": "9253eb91",
   "metadata": {},
   "outputs": [],
   "source": [
    "# Editing and Deleting in Strings\n",
    "\n",
    "del(gs)"
   ]
  },
  {
   "cell_type": "code",
   "execution_count": 105,
   "id": "fc0cf23a",
   "metadata": {},
   "outputs": [
    {
     "ename": "NameError",
     "evalue": "name 'gs' is not defined",
     "output_type": "error",
     "traceback": [
      "\u001b[1;31m---------------------------------------------------------------------------\u001b[0m",
      "\u001b[1;31mNameError\u001b[0m                                 Traceback (most recent call last)",
      "Input \u001b[1;32mIn [105]\u001b[0m, in \u001b[0;36m<cell line: 1>\u001b[1;34m()\u001b[0m\n\u001b[1;32m----> 1\u001b[0m \u001b[38;5;28mprint\u001b[39m(\u001b[43mgs\u001b[49m)\n",
      "\u001b[1;31mNameError\u001b[0m: name 'gs' is not defined"
     ]
    }
   ],
   "source": [
    "print(gs)"
   ]
  },
  {
   "cell_type": "code",
   "execution_count": 106,
   "id": "584b4408",
   "metadata": {},
   "outputs": [
    {
     "ename": "TypeError",
     "evalue": "'str' object does not support item deletion",
     "output_type": "error",
     "traceback": [
      "\u001b[1;31m---------------------------------------------------------------------------\u001b[0m",
      "\u001b[1;31mTypeError\u001b[0m                                 Traceback (most recent call last)",
      "Input \u001b[1;32mIn [106]\u001b[0m, in \u001b[0;36m<cell line: 2>\u001b[1;34m()\u001b[0m\n\u001b[0;32m      1\u001b[0m s \u001b[38;5;241m=\u001b[39m \u001b[38;5;124m'\u001b[39m\u001b[38;5;124mhello world\u001b[39m\u001b[38;5;124m'\u001b[39m\n\u001b[1;32m----> 2\u001b[0m \u001b[38;5;28;01mdel\u001b[39;00m s[\u001b[38;5;241m-\u001b[39m\u001b[38;5;241m1\u001b[39m:\u001b[38;5;241m-\u001b[39m\u001b[38;5;241m5\u001b[39m:\u001b[38;5;241m2\u001b[39m]\n\u001b[0;32m      3\u001b[0m \u001b[38;5;28mprint\u001b[39m(s)\n",
      "\u001b[1;31mTypeError\u001b[0m: 'str' object does not support item deletion"
     ]
    }
   ],
   "source": [
    "s = 'hello world'\n",
    "del s[-1:-5:2]\n",
    "print(s)"
   ]
  },
  {
   "cell_type": "markdown",
   "id": "13cc628e",
   "metadata": {},
   "source": [
    "## Operations on Strings\n",
    "- Arithmetic Operations\n",
    "- Relational Operations\n",
    "- Logical Operations\n",
    "- Loops on Strings\n",
    "- Membership Operations"
   ]
  },
  {
   "cell_type": "code",
   "execution_count": 107,
   "id": "038ec6cc",
   "metadata": {},
   "outputs": [
    {
     "name": "stdout",
     "output_type": "stream",
     "text": [
      "Delhi Mumbai\n"
     ]
    }
   ],
   "source": [
    "print (\"Delhi\" + \" Mumbai\")"
   ]
  },
  {
   "cell_type": "code",
   "execution_count": 108,
   "id": "543f542f",
   "metadata": {},
   "outputs": [
    {
     "name": "stdout",
     "output_type": "stream",
     "text": [
      "Gourab Gourab Gourab Gourab Gourab Gourab Gourab Gourab Gourab \n"
     ]
    }
   ],
   "source": [
    "print(\"Gourab \" * 9)"
   ]
  },
  {
   "cell_type": "code",
   "execution_count": 109,
   "id": "e126f1ef",
   "metadata": {},
   "outputs": [
    {
     "name": "stdout",
     "output_type": "stream",
     "text": [
      "False\n"
     ]
    }
   ],
   "source": [
    "print(\"delhi\" == 'mumbai')"
   ]
  },
  {
   "cell_type": "code",
   "execution_count": 1,
   "id": "76306519",
   "metadata": {},
   "outputs": [
    {
     "data": {
      "text/plain": [
       "False"
      ]
     },
     "execution_count": 1,
     "metadata": {},
     "output_type": "execute_result"
    }
   ],
   "source": [
    "'mumbai'> 'pune'\n",
    "# lexiographically"
   ]
  },
  {
   "cell_type": "code",
   "execution_count": 111,
   "id": "b9ff4116",
   "metadata": {},
   "outputs": [
    {
     "data": {
      "text/plain": [
       "False"
      ]
     },
     "execution_count": 111,
     "metadata": {},
     "output_type": "execute_result"
    }
   ],
   "source": [
    "'Pune' > 'pune'"
   ]
  },
  {
   "cell_type": "code",
   "execution_count": 112,
   "id": "55b9737a",
   "metadata": {},
   "outputs": [
    {
     "data": {
      "text/plain": [
       "True"
      ]
     },
     "execution_count": 112,
     "metadata": {},
     "output_type": "execute_result"
    }
   ],
   "source": [
    "'pune' > 'Pune'"
   ]
  },
  {
   "cell_type": "code",
   "execution_count": 113,
   "id": "3a662cc2",
   "metadata": {},
   "outputs": [
    {
     "data": {
      "text/plain": [
       "'Gourab'"
      ]
     },
     "execution_count": 113,
     "metadata": {},
     "output_type": "execute_result"
    }
   ],
   "source": [
    "'hello' and 'Gourab' "
   ]
  },
  {
   "cell_type": "code",
   "execution_count": 114,
   "id": "d2ad180d",
   "metadata": {},
   "outputs": [
    {
     "data": {
      "text/plain": [
       "'hello'"
      ]
     },
     "execution_count": 114,
     "metadata": {},
     "output_type": "execute_result"
    }
   ],
   "source": [
    "'hello' or 'Gourab'"
   ]
  },
  {
   "cell_type": "code",
   "execution_count": 115,
   "id": "5ad3b45d",
   "metadata": {},
   "outputs": [
    {
     "data": {
      "text/plain": [
       "''"
      ]
     },
     "execution_count": 115,
     "metadata": {},
     "output_type": "execute_result"
    }
   ],
   "source": [
    "'' and 'world'"
   ]
  },
  {
   "cell_type": "code",
   "execution_count": 116,
   "id": "27154526",
   "metadata": {},
   "outputs": [
    {
     "data": {
      "text/plain": [
       "'world'"
      ]
     },
     "execution_count": 116,
     "metadata": {},
     "output_type": "execute_result"
    }
   ],
   "source": [
    "'' or 'world'"
   ]
  },
  {
   "cell_type": "code",
   "execution_count": 117,
   "id": "643d1a38",
   "metadata": {},
   "outputs": [
    {
     "data": {
      "text/plain": [
       "True"
      ]
     },
     "execution_count": 117,
     "metadata": {},
     "output_type": "execute_result"
    }
   ],
   "source": [
    "not ''"
   ]
  },
  {
   "cell_type": "code",
   "execution_count": 118,
   "id": "03e08c4c",
   "metadata": {},
   "outputs": [
    {
     "data": {
      "text/plain": [
       "False"
      ]
     },
     "execution_count": 118,
     "metadata": {},
     "output_type": "execute_result"
    }
   ],
   "source": [
    "not 'Hello'"
   ]
  },
  {
   "cell_type": "code",
   "execution_count": 119,
   "id": "72b7f1ce",
   "metadata": {},
   "outputs": [
    {
     "name": "stdout",
     "output_type": "stream",
     "text": [
      "G\n",
      "o\n",
      "u\n",
      "r\n",
      "a\n",
      "b\n",
      " \n",
      "K\n",
      "u\n",
      "m\n",
      "a\n",
      "r\n"
     ]
    }
   ],
   "source": [
    "for i in 'Gourab Kumar':\n",
    "    print(i)"
   ]
  },
  {
   "cell_type": "code",
   "execution_count": 120,
   "id": "b2b2b1d3",
   "metadata": {},
   "outputs": [
    {
     "name": "stdout",
     "output_type": "stream",
     "text": [
      "pune\n",
      "pune\n",
      "pune\n",
      "pune\n",
      "pune\n"
     ]
    }
   ],
   "source": [
    "for i in 'delhi':\n",
    "    print('pune')"
   ]
  },
  {
   "cell_type": "code",
   "execution_count": 121,
   "id": "cdb52377",
   "metadata": {},
   "outputs": [
    {
     "data": {
      "text/plain": [
       "True"
      ]
     },
     "execution_count": 121,
     "metadata": {},
     "output_type": "execute_result"
    }
   ],
   "source": [
    "\"G\" in 'Gourab'"
   ]
  },
  {
   "cell_type": "markdown",
   "id": "e18ae363",
   "metadata": {},
   "source": [
    "## Common Functions\n",
    "- len\n",
    "- max\n",
    "- min\n",
    "- sorted"
   ]
  },
  {
   "cell_type": "code",
   "execution_count": 122,
   "id": "2bc170a6",
   "metadata": {},
   "outputs": [
    {
     "data": {
      "text/plain": [
       "6"
      ]
     },
     "execution_count": 122,
     "metadata": {},
     "output_type": "execute_result"
    }
   ],
   "source": [
    "len('Gourab')"
   ]
  },
  {
   "cell_type": "code",
   "execution_count": 123,
   "id": "3c7ff996",
   "metadata": {},
   "outputs": [
    {
     "data": {
      "text/plain": [
       "'G'"
      ]
     },
     "execution_count": 123,
     "metadata": {},
     "output_type": "execute_result"
    }
   ],
   "source": [
    "min('Gourab')"
   ]
  },
  {
   "cell_type": "code",
   "execution_count": 124,
   "id": "757d71ac",
   "metadata": {},
   "outputs": [
    {
     "data": {
      "text/plain": [
       "'u'"
      ]
     },
     "execution_count": 124,
     "metadata": {},
     "output_type": "execute_result"
    }
   ],
   "source": [
    "max('Gourab')"
   ]
  },
  {
   "cell_type": "code",
   "execution_count": 125,
   "id": "23f4db1b",
   "metadata": {},
   "outputs": [
    {
     "data": {
      "text/plain": [
       "['G', 'a', 'b', 'o', 'r', 'u']"
      ]
     },
     "execution_count": 125,
     "metadata": {},
     "output_type": "execute_result"
    }
   ],
   "source": [
    "sorted('Gourab')"
   ]
  },
  {
   "cell_type": "code",
   "execution_count": 126,
   "id": "eaa10791",
   "metadata": {},
   "outputs": [
    {
     "data": {
      "text/plain": [
       "['u', 'r', 'o', 'b', 'a', 'G']"
      ]
     },
     "execution_count": 126,
     "metadata": {},
     "output_type": "execute_result"
    }
   ],
   "source": [
    "sorted('Gourab', reverse = True)"
   ]
  },
  {
   "cell_type": "markdown",
   "id": "1cbe11b5",
   "metadata": {},
   "source": [
    "# Capitalize/Title/Upper/Lower/Swapcase"
   ]
  },
  {
   "cell_type": "code",
   "execution_count": 127,
   "id": "db3483ab",
   "metadata": {},
   "outputs": [],
   "source": [
    "gs = 'gourab singh'"
   ]
  },
  {
   "cell_type": "code",
   "execution_count": 128,
   "id": "546258eb",
   "metadata": {},
   "outputs": [
    {
     "data": {
      "text/plain": [
       "'Gourab singh'"
      ]
     },
     "execution_count": 128,
     "metadata": {},
     "output_type": "execute_result"
    }
   ],
   "source": [
    "gs.capitalize()"
   ]
  },
  {
   "cell_type": "code",
   "execution_count": 129,
   "id": "6fb42415",
   "metadata": {},
   "outputs": [
    {
     "data": {
      "text/plain": [
       "'Gourab Singh'"
      ]
     },
     "execution_count": 129,
     "metadata": {},
     "output_type": "execute_result"
    }
   ],
   "source": [
    "gs.title()"
   ]
  },
  {
   "cell_type": "code",
   "execution_count": 130,
   "id": "2fbf094c",
   "metadata": {},
   "outputs": [
    {
     "data": {
      "text/plain": [
       "'gourab singh'"
      ]
     },
     "execution_count": 130,
     "metadata": {},
     "output_type": "execute_result"
    }
   ],
   "source": [
    "gs.lower()"
   ]
  },
  {
   "cell_type": "code",
   "execution_count": 131,
   "id": "7e78c776",
   "metadata": {},
   "outputs": [
    {
     "data": {
      "text/plain": [
       "'GOURAB SINGH'"
      ]
     },
     "execution_count": 131,
     "metadata": {},
     "output_type": "execute_result"
    }
   ],
   "source": [
    "gs.swapcase()"
   ]
  },
  {
   "cell_type": "markdown",
   "id": "ef07b988",
   "metadata": {},
   "source": [
    "## Count/Find/Index"
   ]
  },
  {
   "cell_type": "code",
   "execution_count": 132,
   "id": "c84c6bdf",
   "metadata": {},
   "outputs": [
    {
     "data": {
      "text/plain": [
       "2"
      ]
     },
     "execution_count": 132,
     "metadata": {},
     "output_type": "execute_result"
    }
   ],
   "source": [
    "'Gourab Kumar Singh '.count('a')"
   ]
  },
  {
   "cell_type": "code",
   "execution_count": 133,
   "id": "82ec15e9",
   "metadata": {},
   "outputs": [
    {
     "data": {
      "text/plain": [
       "4"
      ]
     },
     "execution_count": 133,
     "metadata": {},
     "output_type": "execute_result"
    }
   ],
   "source": [
    "'Gourab Kumar Singh '.find('a')"
   ]
  },
  {
   "cell_type": "code",
   "execution_count": 134,
   "id": "1ae44d7d",
   "metadata": {},
   "outputs": [
    {
     "ename": "ValueError",
     "evalue": "substring not found",
     "output_type": "error",
     "traceback": [
      "\u001b[1;31m---------------------------------------------------------------------------\u001b[0m",
      "\u001b[1;31mValueError\u001b[0m                                Traceback (most recent call last)",
      "Input \u001b[1;32mIn [134]\u001b[0m, in \u001b[0;36m<cell line: 1>\u001b[1;34m()\u001b[0m\n\u001b[1;32m----> 1\u001b[0m \u001b[38;5;124;43m'\u001b[39;49m\u001b[38;5;124;43mGourab Kumar Singh \u001b[39;49m\u001b[38;5;124;43m'\u001b[39;49m\u001b[38;5;241;43m.\u001b[39;49m\u001b[43mindex\u001b[49m\u001b[43m(\u001b[49m\u001b[38;5;124;43m'\u001b[39;49m\u001b[38;5;124;43mz\u001b[39;49m\u001b[38;5;124;43m'\u001b[39;49m\u001b[43m)\u001b[49m\n",
      "\u001b[1;31mValueError\u001b[0m: substring not found"
     ]
    }
   ],
   "source": [
    "'Gourab Kumar Singh '.index('z')"
   ]
  },
  {
   "cell_type": "markdown",
   "id": "552e2bf9",
   "metadata": {},
   "source": [
    "# endswith/startswith"
   ]
  },
  {
   "cell_type": "code",
   "execution_count": 135,
   "id": "975118b4",
   "metadata": {},
   "outputs": [
    {
     "data": {
      "text/plain": [
       "True"
      ]
     },
     "execution_count": 135,
     "metadata": {},
     "output_type": "execute_result"
    }
   ],
   "source": [
    "'Gourab Kumar Singh '.endswith('gh ')"
   ]
  },
  {
   "cell_type": "code",
   "execution_count": 136,
   "id": "481fcd17",
   "metadata": {},
   "outputs": [
    {
     "data": {
      "text/plain": [
       "True"
      ]
     },
     "execution_count": 136,
     "metadata": {},
     "output_type": "execute_result"
    }
   ],
   "source": [
    "'Gourab Kumar Singh '.startswith('Go')"
   ]
  },
  {
   "cell_type": "markdown",
   "id": "c2ca464d",
   "metadata": {},
   "source": [
    "## format"
   ]
  },
  {
   "cell_type": "code",
   "execution_count": 137,
   "id": "24547c46",
   "metadata": {},
   "outputs": [
    {
     "data": {
      "text/plain": [
       "'Hi my name is Gourab and I am a Male'"
      ]
     },
     "execution_count": 137,
     "metadata": {},
     "output_type": "execute_result"
    }
   ],
   "source": [
    "name = \"Gourab\"\n",
    "gender = \"Male\"\n",
    "\"Hi my name is {} and I am a {}\".format(name,gender)"
   ]
  },
  {
   "cell_type": "code",
   "execution_count": 2,
   "id": "a4341b73",
   "metadata": {},
   "outputs": [
    {
     "data": {
      "text/plain": [
       "'Hi my name is Gourab and I am a Male'"
      ]
     },
     "execution_count": 2,
     "metadata": {},
     "output_type": "execute_result"
    }
   ],
   "source": [
    "name = \"Gourab\"\n",
    "gender = \"Male\"\n",
    "\"Hi my name is {1} and I am a {0}\".format(gender,name)"
   ]
  },
  {
   "cell_type": "markdown",
   "id": "2b83131d",
   "metadata": {},
   "source": [
    "## isalnum/ isalpha/ isdigit/ isidentifier"
   ]
  },
  {
   "cell_type": "code",
   "execution_count": 138,
   "id": "6e0e7fef",
   "metadata": {},
   "outputs": [
    {
     "data": {
      "text/plain": [
       "True"
      ]
     },
     "execution_count": 138,
     "metadata": {},
     "output_type": "execute_result"
    }
   ],
   "source": [
    "\"gourabsingh09\".isalnum()"
   ]
  },
  {
   "cell_type": "code",
   "execution_count": 139,
   "id": "a347b5ac",
   "metadata": {},
   "outputs": [
    {
     "data": {
      "text/plain": [
       "True"
      ]
     },
     "execution_count": 139,
     "metadata": {},
     "output_type": "execute_result"
    }
   ],
   "source": [
    "\"gourab\".isalpha()"
   ]
  },
  {
   "cell_type": "code",
   "execution_count": 140,
   "id": "5bc27678",
   "metadata": {},
   "outputs": [
    {
     "data": {
      "text/plain": [
       "False"
      ]
     },
     "execution_count": 140,
     "metadata": {},
     "output_type": "execute_result"
    }
   ],
   "source": [
    "\"1234abc\".isdigit()"
   ]
  },
  {
   "cell_type": "code",
   "execution_count": 141,
   "id": "917d22ed",
   "metadata": {},
   "outputs": [
    {
     "data": {
      "text/plain": [
       "True"
      ]
     },
     "execution_count": 141,
     "metadata": {},
     "output_type": "execute_result"
    }
   ],
   "source": [
    "\"gourab_kumar\".isidentifier()"
   ]
  },
  {
   "cell_type": "markdown",
   "id": "bf73dfa0",
   "metadata": {},
   "source": [
    "## Split/Join"
   ]
  },
  {
   "cell_type": "code",
   "execution_count": 142,
   "id": "823e23f8",
   "metadata": {},
   "outputs": [
    {
     "data": {
      "text/plain": [
       "['Hi i ', 'm Gour', 'b ']"
      ]
     },
     "execution_count": 142,
     "metadata": {},
     "output_type": "execute_result"
    }
   ],
   "source": [
    "\"Hi i am Gourab \".split(\"a\")"
   ]
  },
  {
   "cell_type": "code",
   "execution_count": 143,
   "id": "7c2e3808",
   "metadata": {},
   "outputs": [
    {
     "data": {
      "text/plain": [
       "'Hi i -m Gour-b '"
      ]
     },
     "execution_count": 143,
     "metadata": {},
     "output_type": "execute_result"
    }
   ],
   "source": [
    "\"-\".join(['Hi i ', 'm Gour', 'b '])"
   ]
  },
  {
   "cell_type": "markdown",
   "id": "17c54b7e",
   "metadata": {},
   "source": [
    "## Replace"
   ]
  },
  {
   "cell_type": "code",
   "execution_count": 144,
   "id": "aa23623e",
   "metadata": {},
   "outputs": [
    {
     "data": {
      "text/plain": [
       "'Hi my name is SINGH'"
      ]
     },
     "execution_count": 144,
     "metadata": {},
     "output_type": "execute_result"
    }
   ],
   "source": [
    "\"Hi my name is GOURAB\".replace('GOURAB', 'SINGH')"
   ]
  },
  {
   "cell_type": "markdown",
   "id": "8a64e834",
   "metadata": {},
   "source": [
    "# Strip"
   ]
  },
  {
   "cell_type": "code",
   "execution_count": 145,
   "id": "db1db1ff",
   "metadata": {},
   "outputs": [
    {
     "data": {
      "text/plain": [
       "'Gourab SINGH'"
      ]
     },
     "execution_count": 145,
     "metadata": {},
     "output_type": "execute_result"
    }
   ],
   "source": [
    "\"   Gourab SINGH       \".strip()"
   ]
  },
  {
   "cell_type": "markdown",
   "id": "96d88011",
   "metadata": {},
   "source": [
    "## Example Programs"
   ]
  },
  {
   "cell_type": "code",
   "execution_count": 146,
   "id": "61f6e394",
   "metadata": {},
   "outputs": [
    {
     "name": "stdout",
     "output_type": "stream",
     "text": [
      "Enter your name gourab kumar\n",
      "The length of name is  12\n"
     ]
    }
   ],
   "source": [
    "# Find the length of a given string without using the len() function\n",
    "\n",
    "name = input(\"Enter your name \")\n",
    "\n",
    "count = 0\n",
    "\n",
    "for i in name:\n",
    "    count += 1\n",
    "print(\"The length of name is \", count)"
   ]
  },
  {
   "cell_type": "code",
   "execution_count": 147,
   "id": "d1da967f",
   "metadata": {},
   "outputs": [
    {
     "name": "stdout",
     "output_type": "stream",
     "text": [
      "Enter your email gourabsingh09@gmail.com \n",
      "Your user name is -->>  gourabsingh09\n"
     ]
    }
   ],
   "source": [
    "# Extract username from a given email. \n",
    "\n",
    "email = input(\"Enter your email \")\n",
    "pos = email.index(\"@\")\n",
    "\n",
    "u_name= email[0:pos]\n",
    "print(\"Your user name is -->> \",u_name )"
   ]
  },
  {
   "cell_type": "code",
   "execution_count": 148,
   "id": "6ef1f0f2",
   "metadata": {},
   "outputs": [
    {
     "name": "stdout",
     "output_type": "stream",
     "text": [
      "Enter your input -->67\n",
      "Enter your input what you want to find -->6\n",
      "Frequency of find is --> 1\n"
     ]
    }
   ],
   "source": [
    "# Count the frequency of a particular character in a provided string. \n",
    "\n",
    "sent = input (\"Enter your input -->\")\n",
    "find = input (\"Enter your input what you want to find -->\")\n",
    "\n",
    "count = 0\n",
    "for i in sent:\n",
    "    if i in find:\n",
    "        count += 1\n",
    "print(\"Frequency of find is -->\" , count)"
   ]
  },
  {
   "cell_type": "code",
   "execution_count": 149,
   "id": "b5b42385",
   "metadata": {},
   "outputs": [
    {
     "name": "stdout",
     "output_type": "stream",
     "text": [
      "Enter your input -->gourab\n",
      "Enter your input what you want to remove -->g\n",
      "o\n",
      "u\n",
      "r\n",
      "a\n",
      "b\n"
     ]
    }
   ],
   "source": [
    "# Write a program which can remove a particular character from a string.\n",
    "\n",
    "sent = input (\"Enter your input -->\")\n",
    "remove = input (\"Enter your input what you want to remove -->\")\n",
    "#sent1 = []\n",
    "for i in sent:\n",
    "    if remove == i:\n",
    "        continue\n",
    "    #sent1 = sent1.append(i)\n",
    "    print(i)"
   ]
  },
  {
   "cell_type": "code",
   "execution_count": 3,
   "id": "0c278fe9",
   "metadata": {},
   "outputs": [
    {
     "name": "stdout",
     "output_type": "stream",
     "text": [
      "enter your name racecar\n",
      "Palindrome\n"
     ]
    }
   ],
   "source": [
    "# Write a program that can check whether a given string is palindrome or not.\n",
    "# abba\n",
    "# malayalam\n",
    "\n",
    "name = input(\"enter your name \")\n",
    "flag = True\n",
    "for i in range (0, len(name)//2):\n",
    "    if name[i] != name[len(name)-i-1]:\n",
    "        flag = False\n",
    "        print(\"Not a Palindrome\")\n",
    "        break\n",
    "if flag:\n",
    "    print(\"Palindrome\")"
   ]
  },
  {
   "cell_type": "code",
   "execution_count": 151,
   "id": "0252164d",
   "metadata": {},
   "outputs": [
    {
     "name": "stdout",
     "output_type": "stream",
     "text": [
      "Enter your name--> gourab kumar\n",
      "[' gourab', ' kumar']\n"
     ]
    }
   ],
   "source": [
    "# Write a program to count the number of words in a string without split()\n",
    "\n",
    "name = input(\"Enter your name--> \")\n",
    "name1 = []\n",
    "temp = ' '\n",
    "for i in name:\n",
    "    \n",
    "    if i != ' ':\n",
    "        temp = temp+i\n",
    "        \n",
    "    else:\n",
    "        name1.append(temp)\n",
    "        temp = ' '\n",
    "name1.append(temp)\n",
    "print(name1)"
   ]
  },
  {
   "cell_type": "code",
   "execution_count": 152,
   "id": "fbcf9442",
   "metadata": {},
   "outputs": [
    {
     "name": "stdout",
     "output_type": "stream",
     "text": [
      "Enter your name include space after completed the sentence--> singh \n",
      "[' singh']\n"
     ]
    }
   ],
   "source": [
    "# Write a python program to convert a string to title case without using the title()\n",
    "\n",
    "name = input(\"Enter your name include space after completed the sentence--> \")\n",
    "name1 = []\n",
    "temp = ' '\n",
    "for i in name:\n",
    "    \n",
    "    if i != ' ':\n",
    "        temp = temp+i\n",
    "        \n",
    "    else:\n",
    "        name1.append(temp)\n",
    "        temp = ' '\n",
    "\n",
    "print(name1)"
   ]
  },
  {
   "cell_type": "code",
   "execution_count": 153,
   "id": "98b8eefc",
   "metadata": {},
   "outputs": [
    {
     "name": "stdout",
     "output_type": "stream",
     "text": [
      "Enter your name--> ghgfh\n",
      "['Ghgfh']\n",
      "Ghgfh\n"
     ]
    }
   ],
   "source": [
    "name = input(\"Enter your name--> \")\n",
    "l = []\n",
    "for i in name.split():\n",
    "    l.append(i[0].upper() + i[1:].lower())\n",
    "    \n",
    "print(l)\n",
    "print(' '.join(l))"
   ]
  },
  {
   "cell_type": "code",
   "execution_count": 154,
   "id": "b869214c",
   "metadata": {},
   "outputs": [
    {
     "name": "stdout",
     "output_type": "stream",
     "text": [
      "Enter your number 789\n",
      "789\n",
      "<class 'str'>\n"
     ]
    }
   ],
   "source": [
    "# write a programme that can convert an integer to string\n",
    "\n",
    "num = int(input(\"Enter your number \"))\n",
    "num2 = str(num)\n",
    "print(num2)\n",
    "print(type(num2))"
   ]
  },
  {
   "cell_type": "code",
   "execution_count": 155,
   "id": "4a7d5586",
   "metadata": {},
   "outputs": [
    {
     "name": "stdout",
     "output_type": "stream",
     "text": [
      "Enter the number 6786\n",
      "6786\n",
      "<class 'str'>\n"
     ]
    }
   ],
   "source": [
    "# Write a program that can convert an integer to string.\n",
    "\n",
    "number = int(input('Enter the number '))\n",
    "\n",
    "digits = '0123456789'\n",
    "\n",
    "result = ''\n",
    "while number != 0:\n",
    "    result = digits[number % 10 ] + result\n",
    "    number = number //10\n",
    "    \n",
    "print(result)\n",
    "print(type(result))"
   ]
  },
  {
   "cell_type": "markdown",
   "id": "3b358432",
   "metadata": {},
   "source": [
    "# TASK"
   ]
  },
  {
   "cell_type": "markdown",
   "id": "cb3dbe85",
   "metadata": {},
   "source": [
    "### `Problem 1` - Print the following pattern. Write a program to use for loop to print the following reverse number pattern.\n",
    "\n",
    "```bash\n",
    "5 4 3 2 1\n",
    "4 3 2 1\n",
    "3 2 1\n",
    "2 1\n",
    "1\n",
    "```"
   ]
  },
  {
   "cell_type": "code",
   "execution_count": 2,
   "id": "ae7552cc",
   "metadata": {},
   "outputs": [
    {
     "name": "stdout",
     "output_type": "stream",
     "text": [
      "enter the rows5\n",
      "5 4 3 2 1 \n",
      "4 3 2 1 \n",
      "3 2 1 \n",
      "2 1 \n",
      "1 \n"
     ]
    }
   ],
   "source": [
    "# Code here\n",
    "\n",
    "rows = int(input('enter the rows '))\n",
    "\n",
    "for i in range(0,rows):\n",
    "    for j in range(rows-i,0,-1):\n",
    "        print(j,end=' ')\n",
    "    print()"
   ]
  },
  {
   "cell_type": "markdown",
   "id": "c52f6ab2",
   "metadata": {},
   "source": [
    "### `Problem 2`: Print the following pattern.\n",
    "\n",
    "```bash\n",
    "*\n",
    "* *\n",
    "* * *\n",
    "* * * *\n",
    "* * * * *\n",
    "* * * *\n",
    "* * *\n",
    "* *\n",
    "*\n",
    "```"
   ]
  },
  {
   "cell_type": "code",
   "execution_count": 3,
   "id": "95d7d1aa",
   "metadata": {},
   "outputs": [
    {
     "name": "stdout",
     "output_type": "stream",
     "text": [
      "enter the rows 5\n",
      "* \n",
      "* * \n",
      "* * * \n",
      "* * * * \n",
      "* * * * * \n",
      "* * * * \n",
      "* * * \n",
      "* * \n",
      "* \n"
     ]
    }
   ],
   "source": [
    "# Code here\n",
    "rows = int(input('enter the rows '))\n",
    "\n",
    "for i in range(1,rows+1):\n",
    "    for j in range(0,i):\n",
    "        print('*',end=' ')\n",
    "    print()\n",
    "\n",
    "for i in range(1,rows):\n",
    "    for j in range(rows-i,0,-1):\n",
    "        print('*',end=' ')\n",
    "    print()"
   ]
  },
  {
   "cell_type": "markdown",
   "id": "76d6c30d",
   "metadata": {},
   "source": [
    "### `Problem 3`:Write a program to pring the following pattern\n",
    "\n",
    "        *\n",
    "       * *\n",
    "      * * *\n",
    "   * * * * * * *\n",
    "* * * * * * * * *\n"
   ]
  },
  {
   "cell_type": "code",
   "execution_count": 4,
   "id": "61d2abe9",
   "metadata": {},
   "outputs": [
    {
     "name": "stdout",
     "output_type": "stream",
     "text": [
      "      * \n",
      "     * * \n",
      "    * * * \n",
      "   * * * * \n",
      "  * * * * * \n",
      " * * * * * * \n"
     ]
    }
   ],
   "source": [
    "# Code here\n",
    "rows = 6\n",
    "for i in range(1,rows+1):\n",
    "    print(' '*rows,end='')\n",
    "    print('* '*i)\n",
    "    rows = rows - 1\n"
   ]
  },
  {
   "cell_type": "markdown",
   "id": "20652e68",
   "metadata": {},
   "source": [
    "### `Problem 4`:Write a program to print the following pattern\n",
    "\n",
    "1\n",
    "\n",
    "2 1\n",
    "\n",
    "3 2 1\n",
    "\n",
    "4 3 2 1\n",
    "\n",
    "5 4 3 2 1"
   ]
  },
  {
   "cell_type": "code",
   "execution_count": 5,
   "id": "e5034059",
   "metadata": {},
   "outputs": [
    {
     "name": "stdout",
     "output_type": "stream",
     "text": [
      "1 \n",
      "2 1 \n",
      "3 2 1 \n",
      "4 3 2 1 \n",
      "5 4 3 2 1 \n"
     ]
    }
   ],
   "source": [
    "# Code here\n",
    "rows = 5\n",
    "\n",
    "for i in range(1,rows+1):\n",
    "    for j in range(i,0,-1):\n",
    "        print(j,end=' ')\n",
    "    print()"
   ]
  },
  {
   "cell_type": "markdown",
   "id": "5281834c",
   "metadata": {},
   "source": [
    "### `Problem 5`: Write a Python Program to Find the Sum of the Series till the nth term:<br>\n",
    "1 + x^2/2 + x^3/3 + … x^n/n<br>\n",
    "n will be provided by the user"
   ]
  },
  {
   "cell_type": "code",
   "execution_count": 6,
   "id": "c7e645a2",
   "metadata": {},
   "outputs": [
    {
     "name": "stdout",
     "output_type": "stream",
     "text": [
      "1 + x^2/2 +x^3/3 +x^4/4 +x^5/5 \n",
      "22884.333333333332\n"
     ]
    }
   ],
   "source": [
    "# Code here\n",
    "x = 10\n",
    "n = 5\n",
    "\n",
    "sum = 1\n",
    "s = ''\n",
    "print('1 + ',end='')\n",
    "for i in range(2,n+1):\n",
    "    sum = sum + x**i/i\n",
    "    s = s + 'x^{}/{} +'.format(i,i)\n",
    "print(s[:-1])\n",
    "print(sum)"
   ]
  },
  {
   "cell_type": "markdown",
   "id": "45945fac",
   "metadata": {},
   "source": [
    "### `Problem 6`: The natural logarithm can be approximated by the following series.\n",
    "\n",
    "![temp.jpg](data:image/jpeg;base64,/9j/4QEXRXhpZgAATU0AKgAAAAgABQEAAAMAAAABBP4AAAEBAAMAAAABANAAAAExAAIAAAAlAAAASodpAAQAAAABAAAAbwESAAQAAAABAAAAAAAAAABBbmRyb2lkIFJQMUEuMjAwNzIwLjAxMi5UOTcwWFhVMkJVSjMAAASQAwACAAAAFAAAAKWSkQACAAAABDM4NgCQEQACAAAABwAAALmSCAAEAAAAAQAAAAAAAAAAMjAyMjowNTowMyAwNzoyNDo1NgArMDU6MzAAAAMBAAADAAAAAQT+AAABMQACAAAAJQAAAOoBAQADAAAAAQDQAAAAAAAAQW5kcm9pZCBSUDFBLjIwMDcyMC4wMTIuVDk3MFhYVTJCVUozAP/gABBKRklGAAEBAAABAAEAAP/iAihJQ0NfUFJPRklMRQABAQAAAhgAAAAAAhAAAG1udHJSR0IgWFlaIAAAAAAAAAAAAAAAAGFjc3AAAAAAAAAAAAAAAAAAAAAAAAAAAAAAAAAAAAABAAD21gABAAAAANMtAAAAAAAAAAAAAAAAAAAAAAAAAAAAAAAAAAAAAAAAAAAAAAAAAAAAAAAAAAAAAAAAAAAACWRlc2MAAADwAAAAdHJYWVoAAAFkAAAAFGdYWVoAAAF4AAAAFGJYWVoAAAGMAAAAFHJUUkMAAAGgAAAAKGdUUkMAAAGgAAAAKGJUUkMAAAGgAAAAKHd0cHQAAAHIAAAAFGNwcnQAAAHcAAAAPG1sdWMAAAAAAAAAAQAAAAxlblVTAAAAWAAAABwAcwBSAEcAQgAAAAAAAAAAAAAAAAAAAAAAAAAAAAAAAAAAAAAAAAAAAAAAAAAAAAAAAAAAAAAAAAAAAAAAAAAAAAAAAAAAAAAAAAAAAAAAAAAAAAAAAAAAWFlaIAAAAAAAAG+iAAA49QAAA5BYWVogAAAAAAAAYpkAALeFAAAY2lhZWiAAAAAAAAAkoAAAD4QAALbPcGFyYQAAAAAABAAAAAJmZgAA8qcAAA1ZAAAT0AAAClsAAAAAAAAAAFhZWiAAAAAAAAD21gABAAAAANMtbWx1YwAAAAAAAAABAAAADGVuVVMAAAAgAAAAHABHAG8AbwBnAGwAZQAgAEkAbgBjAC4AIAAyADAAMQA2/9sAQwABAQEBAQEBAQEBAQEBAQEBAQEBAQEBAQEBAQEBAQEBAQEBAQEBAQEBAQEBAQEBAQEBAQEBAQEBAQEBAQEBAQEB/9sAQwEBAQEBAQEBAQEBAQEBAQEBAQEBAQEBAQEBAQEBAQEBAQEBAQEBAQEBAQEBAQEBAQEBAQEBAQEBAQEBAQEBAQEB/8AAEQgA0AT+AwEiAAIRAQMRAf/EAB8AAQACAgIDAQEAAAAAAAAAAAAKCwgJBgcCBAUDAf/EAEgQAAAGAgEDAwIDBQQIAwYHAAECAwQFBgAHCAkREgoTIRQxFRYiI0FRYfAXMnGRGCQzgaGxweFCUtEZGiUmNTgpNjlDREhi/8QAFAEBAAAAAAAAAAAAAAAAAAAAAP/EABQRAQAAAAAAAAAAAAAAAAAAAAD/2gAMAwEAAhEDEQA/AIA+MYwGMYwGMYwGMYwGMYwGMYwGMYwGMYwGMYwGMYwGMYwGMYwGMYwGMYwGMYwGMYwGMYwGMYwGMYwGMYwGMYwGMYwGMYwGMYwGMYwGMYwGMYwGMYwGMYwGMYwGMYwGMYwGMYwGMYwGMYwGMYwGMZuB6U/RZ5V9WOz2QunhgqHqyiuWLO77evAPC1uNfPiqLJw8OzYpHez879MkdYzBp7aaBToi7dN0zmUTDT9jLCGa9E9rNppeePEczb2/303hHLuBXe0utx+q3M6gxMdCOkmfuLWRtEu3pRTUkCSwuGaRk1TJLAmoRSv8tVckadZ7HUZf2PxarT0xXJT6VYrlqElByDiMe/TuCdirt/qWyvsrF7FVT8Th2AwBgfBxjGAxjGAxjGAxjGAxjGAxjGAxjGAxjGAxjGAxjGAxjGAxjGAxjGAxjGAxjGAxjGAxjGAxjGAxnvxUVJzkkxh4WOfS8tJOkWUdGRrVd6/fvHBypoNWbRsRRw5cLKGKRNJEh1DmEClKI/GSVOGnpU+pfyuo8bsm1saJxnqk41TfQbfcz6WbXGTaqCmKapqbBxsjLxRVkVCuEDTBWJVEgOXuVYhkgCM5jM0uoDwT3N04+T114s70NAu7jUmkPMsZ6rvFHletNXsLUXkHYog7lJu+Rav0iLJGayDVq9buGy6SiIkBJVTC3AYxjAYxjAYxjAYxjAYxjAYxjAYxjAYxjAYxjAYxjAYxjAYxnJaXBrWe41OttigdzYLLAwjco/Yy8tKNWCRR7/H6juCgP8h+cC2s4yEYcNvTp1e0wdYjoaar/AmUvTpjBxTFk7n7fc6I+kmj1dBg1RCRn5h3OMClWURWePHKiKZgVUECDpx9O96cN9qp0y5p9Qei1ibtE3AlPp3QFqYNbIjXW00gCy142IwfJOIlWcXaKpEgIM5XSscYzp8+Mkt9MmtLUsmg6XOcQqLo+xuIqD11VKhppCy/jC6bSHTp2sndSnJeOkXAnboNY91GVtZk5WOoigkgqoZU5UwMOa/+GnVu1Fzz6km8+O/HGdb27TPHPQ6Sr+9RpgGBuWw5W+RzGRXrp/In1kFAxrJGOYv0kRbuFnD1RBYyJyFKECv1RvCjTXDLqSnbaGpMdrvX27dWwG2lKdAt/oaxDXB7LzcJayVuOL3bRca/dRTWYPFsvbZM3sk7IybNGgooljeZMo9aX/8AfZxp+f8A+t6/x3T7h/8APUwHfxAPdDv8fJxFMe37MAEqojDXwGMYwGMYwGMYwGMYwGMYwGMYwGMYwGMYwGMYwGMYwGMYwGMYwGMYwGMYwGMYwGMYwGMYwGMYwGMYwGMYwGMYwGMYwGMYwGMYwGMYwGMYwGMYwGMYwGMYwGMYwGMYwGMYwGMYwGMYwGMYwGMYwGMYwGMYwGMYwGMYwGMYwGMYwGMY/r+v+/8Au/kDGMYGbXAbj7pvkFvMWPI3bkVpbjzraqTW090XFeRjkLMrSqydoirW6BDvFSubHdrRLSEXAwkXHt3a31MgCyxUkUxVJtWnPUScjeP1WLxx6YdUpnDnipS5h0lQI1rV4e4bbtbUrk3lbtmXGwt36cpcbSYicjNmZMkkm5lCxrdZVo3KJo5+byOjj08qnvayWvmxy3XGjdP7iGKV927bpEp0k9h2OBUTkoLU1WTN4BLSc6/RbN5NAh/bK1XTaqAcHahUwnS8muq7sriB0F9T8kOUk9CE5q8hNCMa/ToFq0bQrux7Kv0VIqRliSgGgofSIQVRcMrPPgzTbpIvEjpIfTe8QUapt69dyLx5IPnCrt6/crvXrpcwqLunbpU67hdZQfk6qyxzqKGEe5zmEw9vvm0Pqh9RrcnVR5RLXVxGyrLXdfOWi8ddJ15s6dsqVRmagM4aPjYVimoZ1YZhBFu4ll0W53C7gU2yfdNAvlsU6evpgecfLiNY7T36Vlw+4/ptDzb+17ObKEvMnXEGRJBeShKUJklmTMzY3uEkbG5i0CkSWVMiKAJKqhGf/wCP/ARxm27qTWTp76vWPxD4A0g2wKzrm0tHewuZl7eOn2wNy3KBZykS/YUhigZtC1jVbZzJOztW7RgK1hdNWckZQGzdoKmpHAYxjAYxjAYxjAYxjAYxjAYxjAYxjAYxjAYxjAYxjAYxjAYxjAYxjAYxjAYxjAYztnVeht17ydyjHTWqNgbSewqbdWXa0OqzNoWjU3Xvi2M9TiGjoW4OAbORR93xFUrdYxQEqJxDhFrqNqolgkqpdq1PVCzw7gzWWr1liH8HNxrkg9jIvouTQbPGygfcCrIk7lEDB3KIDgcdz34qLkpyTjoWGYO5SXl3zWNi4xggq6fSEg+XI2ZsmbZEDquHTpwqmggikUyiqpyEIAmN2H0M/VBwu1XRdNVlWzlsqmu3cIKHRXQXROCiSyKyZiqJKpKFKdNQhinIcoGKIGABwJRXDi98KOhGyDb/ACV1/DcteppIsGz6maAYvYp5rviiyetDrNFdi2v2JdgfbrkVExlYSIQXkaaiAM/qG0wRUSS4ui515LN1ANHcw+Q/LSj6x426o4yv6w5Tt8TNTBq9+CzEVPSUu1k5OwCkk5kIcsWxTQKzIks6NJIpi29xRIBgC9JzpJciurbvwlXqSz6talrsmxe7t3nON3kkxrESsYFV2MWdUBCwXaWbpnSiItV0kmmYwPZBcjZD2l5QPUu6G3VX2dran8PuFWpNF6w4HaLEHFXpcFuxi12Dvy3tmCzRfa+4VHVZgSytplSuHgM4Fy5NEQ4uzeBjCm3VaBFg60/POH6jvUK3NyRqLdw210t+C0DWAPm4tZBzQaQ2Vj4aTftxMJkXMu4WfyvsGADtkXqTU4mMgJj6psyh5XcL+UHB/YpNV8ptOW7UFycsRlItpYmiZo2figXVamk67PMFXcJPMCuEVEFXMU/dEQVIKa/tnEpRxewGMYwGMYwGMYwGMYwGMYwGMYwGM/nz/wAf9/z3H/L93x9vj+Px/cBjGMBjGMBjGMBjGMBn2K7OyNXsEHZYdb6eWrsxGTkW48QN7EjEPUJBkt4mASmFJygkfxMAgPbsICGfG/j8D9v3fPf7/AB/H/n3/lm2riz0QOpPzO4+uOTPHvQDy5aw/EZOOhnDqfhq9O2w8OCIP3dRiJ1ywPPR6ThRVkV81WBFV60dtkhMokX3A2ZdTv1Pe8uenEil8Vtb66fcf2E1WISM5FWiNtxpF/sd3Gs26L+ArpmbKOcQtJmHiP1ciyeLuHr1D/4c6Mo1OoGZaeim/wDvD5aB27h/o+wQibwMPbtfY7sHn/cKI9x7FEfM3buAdimHIbl6olz1hcrLr3YdZmqZeKdMPYC01WxMF4ubgpiPVFF5HyTByQi7dwioX5KcoAYolUIJiGKYc8en31Mt5dNxryPk+PaEbHbF37qhDVLC/PjmVe64ZmnW8rIWSvRpkTtXdiM0RVZRTl4oCEWuuEgVBwugiUobzfWPbS17e+oZqSq023wlmndY6HQr1+j4aRI/PVLBI2qWlW0JLlQ8m7KW/DlEHi7X3jOkkV25XaSIgmU8RXPt2SyWG4z8xarZNytlstgkHUtOT84/cykxLyb1Uyzt/IyDxRZ07dOFTGUVXXVOc5hHuPYAz4mAxjGAxjGAxjGAxjGAxjGAxjGAxjGAxjGAxjGAxntLMHzZFBy5Zum7d0AmbLrN1kkXJQ8gEUFTkKRUO5TB3TMYAEo9x+BAPVwGf0Q7dhEBABDuA9vv8iHwP7w7h2Ef3CA/wzc/0cekdZ+plsu3Wa6WoNS8SNAtE7ZyJ3A5KmU8bAMmy8u6rNZO57MzWKQimTlY7lyJ0IdkP4gq3cj7aB8e+qPyH0Vv/k+9b8WaDD6+4yaWqcBpHRUeziGUfNzVGpJHBQtVsftkxdzc7Y5t7LSyr+RdvFxQdpe0duiYrNANceMYwGMYwGMYwGMZ9musWknYYKNfqqosZCZi2L1ZAUwWRaO3qDdyqiKvZIFU0VDnTFX9mBwDzECgOB2Zqzj1undkLs6y6u1zZ7jWtMUaT2RtKxRMaurBUenRPtlcS1glhKViwBdZVNswaqrg8kXJwRZoLiVTw6ay223h07+O/CPoK8vNC8Z6iNbYSnE++3O02cDgvdtiW1SnBNv522zyRCvJZy7BD8PbNBMDCNiCIREc2bsEU0QqScBjGMBjGMBjGMBjGMBjGMBjGMBjGMBjGMBjGMBjGMBjGMBjGMBjGMBjGMBjGMBjGMBjGbnOjd0cNu9V/cT5i0lHOs+OWs3UbI7v3ItGg8TiooVQduKtU0nCzZo+ucvGN3hWIrKKsoUDJy0m2dNUfpHAa+dYcQ9+bb1JtDflVpZWmlNOxqj+9bRtc3DVCmtHwkP+H1eIlbE/jyWe5TTgoMoap1skpNPXaiZAaJk8lS405t96snNiC3TsKO4l8b4tnrrgrxGmZyh6J15XzFRaXCTiljQ09ui9rt00PzRfLiqyVULMSBVhYRigoRhGCD122zUFgMYxgMYxgMYxgMYxgMYxgMYzyIQyhyJplMoc5ikKmQBMcxjD4lKUoAIiYR+CgACIiPYAEfjA8cZsZ3/07L1xP4mai35yPnVtZbZ5FTLaW0hx0koQ43aU0wyjnSs9tW9fUPWrmlNXko9rzGqQzmOdSr0hpNSWbRZjM81zYDGMYHLqDQbltK7VbXOva9I2y73adja1Va3EpFVkZmblnSbSPYNiqKJIlUXXVIUVV1UW6BfNZwsmgQ6hbK/pwek/4e0DieMPz7qJdzci9nJMp+zSdetUvCx+nCKR5k2VPoErAu2yck9jfqll5ywyBJFjLSvh9C1JHsWhlqylq6csnCLtk4XaO26hFm7pqso3cIKpiBiKorJGIokoQwAYhyGKYogAgICGb1OnH6hbqEcBLlU2jzbdr3/oNjIMkrNpTbdgfWhmtX/eTLIp0yyzB307T5krTzGOcMnSsYVwm3K9i3bYpkRDZV1pPS2XHhJr+y8n+FdluG7ND1b6iT2FraxtUZLamtK+J1VT2Rg8hWDVvcqjDIgQk24Bg1m4lAPxRyi9jyvXDCH0P+X3/wAf8/6+32y8u4hcs9E8/eNVH5D6RmG9s1hs+CWI5jZJFAZGGfikLOyUm3RXmum1moZydxFy7FQyqCoB7iJ12a6KqlYl6kzpKt+nDy4LsbUkK7bcXuSzqYtdASRaqmjNf3YioOrhrQXZU/YRbNlXH43VkFFAVUgnR2yYKfhLgUw0pcOePinK3lLojjinZoem/wBsWya7SVrROu27GMhWko7D614q4dKooe+VmkumwROqQXcgdq1IPmuUBt65bpqdN2ocF6Jwh2rUKH/ova6ThZteHsl2WpTCwWaIRVcOLnaJiKnYFeVkpN8s7lnhnrxZsdc5FPbEGqAp0w7Zy5ZOW7xm4XaO2iyTlq6bKqIOWzhA5VEV266RiKorIqFKokqmYp0zlKchgMACHP7LuHblzZpR1w2nsa1x6IlFFjZbvZp1mkJCiUgpNpSTdIJiUoiUokIAlKIgHYB7YFifyA6n3p9ej19TFcKuO+l957/jwcDHp6iimE6zg5NE5UEjWDcU8lN+wVExRWISCeSbkxC+bVQqihlCRLeoV6grqJ9Qhacrto2arpvTMqZZBPTunl31agV405ziRpZJork8/ZzgQ3gp9e9I1UKVPyZicoqH0eD8/f5/x+cYARERERERER7iI/IiI/cRH94jjGMBjGMBjGMBjGMBjGMBjPZZMnkk8ax0c0dP375wi0ZMWSCrp48duFCpN2rVsgQ67hw4VORNFBIiiiqhgIQpjGKUeR3mi3LWVtnaHsKrzdMulYfqRlhq9kjnMVNw0gkBTKNJCPdkTcN1ilOQ/ioQPIhynL5FMBhDieMYwGMYwGMYwGcuoNBue0rrWNc67rUtcbzdJphXarV4Jod7Lzk1JrlbMo9i2J2E6qypygJjGIkkTyVWUTSTUOXiyCKzlZFs3SOs4cLJIIIpEFRVVZY5U00kyF/Uc5zmKUhQ+RMIAAdx7ZM0hOOVL9Ph0xIvl5sNjHu+qbzDhzVnj6V6gi5kON9UsEYR/K2KCbrEVUjbbFV5YqslNlBBw1mZCOj266arYW5gz44R+kp4pav40zG4+qVsuzIXBemjbLREU+7ttfUrRsQ3ZnkH4y9mVYvDzkwwQ8QknDkEoxuukLRu0WMY/vQXuXNf41VXkXtWu8QrlftgceIe0P2Gt7fsuKjYi1TkO1UFIz1dvGGKirHKuCLGh3q7OMfvIwWq7+MZu1FUgyJ3B1beoxyA0LMcaN1csdrbM1FP2NlZZeAtU3+IPZBxHAqLeLeTnspTDqufUrA/PXnLxWKM/RQc/TAZIoZrmwGMYwGMYwGMYwGM96LjJCbk46GiWbiRlZZ8zjIyPapiq6fSD9wm1ZM2yYAIqOHLlVJBEhe4nUOUofI5Mebenfh+FnRf5lc2+a0Q3leUklpqIfak1iuZwSO0InL3ent2krJuGbgTS2zJBs6MR2mJE4ytsVnUMcjxVxIOwCGnnMtd16v22+VCsW26xmuaxP2KJiZ6+zMdKy0VUYp88Sbvp9/GwjV7LPW0Ygc7pRuwbqLqFJ490yeapeG4wLXX0+m9ujNSNYJcPen1uOOte4mLAlk2ZK3ipy9F2duycZtU05i5NE59i1LLw7Ht4R8BEO1jV6LBLzZAAOnan1PUM9EmndSHQs3urTVYiYfmhp+AeS9TmWTdJk429WIlqo6fazsyyCYHkH6jdI56VIuQVXj5XxjfL6GRUBKrD0zuLY3H/adD3RqO0ylL2RrayxlsqNkh3KjZ5Gy0S5I4RERTMQF2bkCnaSLJbzayDBdyydpKt11Ez3JPSC6jlT6n3CfXHIiNRYxGwmyIUrdtOaLlWJVtowTVsSdSbF7EUCFmyqo2CBUUSIJo2RSQP+2argAUu8pGSMJJSENLsnMbKxL11Gycc9RO3eMJBiuo2eM3SCpSqIuGzhNRFdI5QMRRMxTFAwDno5Kp9V103YniBzYjeSOsK9+Dad5eJy1qfNGDQUYevbnjFUz3yOQMiX6ZsFnI5bXBu2/YnVdPZsyaShWyyoxYGTF7JvWcbGs3chIyDpBkxYMW6rt69eOlSoNmjVqgRRdw5cLnIig3RIdZZU5E0yGMcoCEn/o4+pIfdKzjjI8bJDidWtswC11l7q1uEFcVKNbHrqc9kHjWyHVgp1nLlYJtkUYlyBEFkG5lEFPIhCZLP6ZXqkOJXUF3nVONdr1feOOe2dhLKR+vfzHLxtupFqn02Z3ZaySyxjWNcxUw+Kg5TiglIhBjIOCItCPE3jpBuaJdx09JR1P95Vmi3a1n1DoytXWGi7Aqz2DZpNxd67HSyCblBCWqELDuTJS6TdVM7iMWlmx0TGFJRYihfEdt7npvdI307VarHJzljuaU5V826W5a2/SuqoWXJV0R2FDiV1Bv4mlQskrKN4WPkSoOXFhuL8GZEBEE2KioEMIZ6+se/sGV6dVATu6sEO92u7aw40ikos1CyljXJHDfY52aQCL40ItAJofiHiAMjP20aZQwuEEACsUzNnn1z75C9RrkDZuQPIS0u5WUk3LptUagg6VGqa4qouVFY6qVRgIJIINGSJyJuX5m5X8ssmDl+ocwIpoYTYDGMYDGMYDGf0pTGMUpQMc5hApSlATGMYRACgUpe4mMI/AAAdxEewd+/bJoXRB9MjNcktX3Pk5z2qs1TNfWrXVjYaC1S/Vla/bZubmoR2lE7RsyTZRnIQ8JCLqtXtciljkdy7ohnD1ukzSTIuELzGcqvVXeUi7XCmSCaiL6pWifrTxJUpiKJuoOVdxi5TkP+spgUbGASm7CA/fOK4DGMYDPdjY5/MSLCIi2i8hKSj1rHRzBokZZ09fvliNWbRskTuoqu5cKpoIpFAxlFFClKAm7d/SyQf6ZPh/B8tuqhqkblEEmqJoWGl96WFk5RBZg7kKoqzbVBm8A4CkZNWzyEe5FE/6l0mS3tCQ6fuEDI7kD0p9b9IjpYS+/OX8XBXznPzJZx+sdF6zdgnIQHH2rzbAk7c7W5RATpS2xm1eSBgSWMIR9bXkiN40TyoKrBFiyYt6y/kOS9869K8e46Q96O0PplCWl2KahTJtrTs6RGXVE5SdwKoFejIIAA/7RMTqlACgcQNDpwGM+gwh5aVI8UjIuSkk45sZ5IKMWTl2RizIJSnduzN0lAatiGOUp11hTSKYwAJgEQ75BcTuKe3+Ze6a1pDTEF+J2CaFeRnJ18YGVUoVPiwKvY75eJ1cSR9eqdbYiZ3Jycg4boCcUGSJjvXjVBUMbgKYQMYCmEC9vIwAIgUBHsHkIB2DuPYAERDuPx8iIZ/M26859v8aNF6/W4C8I2sHc6XEPYV5yZ5XvY+PeWnkhsyuuSu0IajvHDRV9T9K0iWKb8FYx71F1bpYqknKJpsmrRN9qKwGMYwGcllKZb4OArtqmavYIqs2/8R/Ktgkoh+yhrJ+DqooSv4HJOEE2koWOWcN0npmSywNlF0yK+BjlAdvnQl6ZNT6p/N1ho/Y9vlajq6k09/tPYYwBClsNkr8DLw8eapwr5VNVCJczjmUSbrSyiSx2LIHK7VJR0REM3O+sL1ZrzRV56euldTVeKpOuNc6HusDU6rDoggyi41pZYlqmHYRFRw6cA3BZ9IOTqvJB2dZ28XWcqqKGCJjxutek6LuzX9w5Ea5su3dQVucQmLfrSq2dnTpS6NWPddvAq2J5Fy5Y+KeuyoJy4oMxeLx31Ddq4aLKlcpW13Rd6vPDDqR6lc0DjfTw0JaNFwsLCveOEqEIydVmlItyMoSZpZIb2mM1T0jp/hqr1k2buI9+BU5Vo3O9bKOaeHM6Om5zavfT25laV5Q0Zy4MSkWli2vECmqYja363mF0o+71l4mB0yLFfwirlRj7ogVtKt2DwpyKNynKE3P1c3Shr951M26lWmKs1Y7G1otF13kY0hmaSCly1/IKpRsFsCRTRKQHM1TJA7OKknogLpzASKR3AqkiExTrpMvWJaL1DzS4yO4uQSaXPSXJXT4pKl/Zqt5qjbKrAKJKpiYDplWGOlCLomEDey5IQ3YRJlKhze4vWnhfyy31xht5FhldP7Fn6s2drEMQ0tX03JndXnCAYpBFKarrmMk0zeJfIHQdigHwAYrYxjAYxjAYxjAYxjAYxjAYxjAYxjAYxjAYxjAZt+6NPBzjNzU5RVmC5e8ktdaF0jC2WsRz6vz1yjq9sLc1nn3wpQGt6K0ceS7NrNuG5mc7alQRRi03TVhHqnmJFqZvqBz2Wjt1HO2sgxXVaPWLlB40dN1BSXbOmqpVkHCKhBA6aqKqZFE1CiUSHKAgICADgXJnUn6SPHvmF0+rrxNoWqte0qw0+iEHjlMx1cjWLqhXWox5TVVFjKJIkepMZkGpYCeFdwoV6xknDh2J3KaThKocrXHDcVm5DxXFlrSZlvu6T2WnqU1HcNDll2N0CaGCeRrtv8e2Ec7TXUeLCYEEmrdV0KoIFFTLZ30/nUuY9SXgTSbJZH6R98aRTjtSbwYGUAXT2chY5Etfu5UzmFQWl2gkm8kqsXyRLNIzLVMSi1Min1JyL6ffDXghza5HddjZDiHjoynaJWnAorlBFBolvcPqoZ5dIfyKBFJ+7RQwUGxSIcFCWF8/kwKkKh1zBHW6zGxNddGrpgaV6NvHadTHdu6IBrfuV1xiFSJSjuKkRSXnm8i6SMLtL85TZDxMc2VFIqdThjJNiJpODoIQdMyq5s8ttmc5eT+3eTu15BV3aNn2l7Kt2RlllWtdrqJ/pa1WI0qhzgiwgYVFnHpET9tEx0lVU0UgVBMuKuAz+fP8P6/n9v8Ah3z+5NE9PX0BdZ7oi4bmr1FhpzHS83GOT6V0Bc59pByexkX6RkGmx7kgtJR72NqJAFRaoxgGK8sa5Cy6wIw6bQJQIXeP6/r+GXGr3pgdCunxbdOZ418Iohi3N5pu5s9JBUwAHfuq/kZgV1ieIdxKqqcogAiPwAiPWso39ONxtMtIvW3TWo7lkcTrhHt9VTcogoRVIo+4wiE5mRKYFEk/Ipm3yCJhMAlTP4hUgV6hXm2//lSl2yzh+r5r1cmJoP0CAH+Y1k5/uGECmH7FMIFH5EAzi6qSrdVRFdM6SyKh0lkVSGTUSVTMJFElUzgU6ahDlMU5DABimASmABAQC50L1G+lXqniDcea2vNj6PT45UF/NVklq11UmMIWdukS0ScmodOiC1+Ekp60PxVaIM46KZOBcKqlOCgkRWOnUUc1941Dkvy05B7+oNJT1xTdubRs94r1JTSZo/gEfNvDOE2yyUeUGSbpY4nevStA9j6xyv7YmL2MIYvZ7kcqLeQYrl+DIvGqpR+3YU1yHD/DsJc9PP6AiAgICICAgICA9hAQHuAgIfYQEAEB/cId8C672gktt/pP3MBTFyvfOCkm6MmHyKykppM7w5QEe/cTCY3YR7iIiH3EfmlDy7F4VPUdk9K7jgsVUz5O2cKKHGrnMHczhZ3qFnFPCnARHyMLkFkzdx7GEBER+cpWrbGDC2qzw3s/TjE2CajPY7CAICwkXLUUvEfkAS9rw7D8h49h+cDj+MYwGMYwGMYwGMYwGMYwGMYwGMYwGMYwGMYwGMYwGMYwGP8AIP5/wH/D7j+8R7f9Qzdz0TujHtHq2bukGJJY1C45arkYVxu3Y6ajZSXRbSCpl2tPp7BYFPqLVPMmzr6Z25QNHRSBTv3JXPtfTH7u9TDwG1N0/wDnjRtf6BorWg6Wt/HTXE1U4tsdZc7qXrisvTrTJyL1YwqyEzIvIZnIyr9TxO6ePFFTlAxjYEdjGMYDGMYDGMYDGMYH6t267twi1aoqOHLlZNu3QSKJ1Vl1jlTSRSIHcTqKKGKQhCh3MYwAAdxyyhfx6nQv9MqskVNpAcjN+0hsjIGASJSA7W5Ds+y6AKAVFVwpR6GsskUpgRWRCIUECkdCInhj9Drhe650dSzjjqJzGmf0iv2pHaWzTGTMdslR9dnTsL9s5N2BMCS71qwiATOomZcrxQiBhW8Cjvw9ZXzMWuPIbRfB6qSXjVdIVANk3yPbKD7Kl5u6RW1cZOClMQQPDVNmVx7CxFSF/GUFkVCH94ohCkUUOqodVU51FVDmUUUUMJ1FDnETHOc5hExjmMImMYwiJhEREREc8MYwGMZuZ6VnQ/5cdV5PY1h1GnC691jr2Gkim2lsBKQbVWx34rcykNr+vnaIqOZCQcqgU03JNk1mVbZmIs+83C7ZosGmbP5/H4H7fu+e/wB/gA/j/wA+/wDLMh+UvFXe/DHdVv4/8jKFKa82bSnp20lFPvBwxkWZjHBlO16XbipHz1dlUifURcxHLKtXaJu4HIoVRMm63oldJTX3JetbQ6gHNx8tTuA/FhrIWa0EXchGn3HYKw0UlHFKZOjAC34Gkok1ZzCjMxVnrx43hyqJAuoCoa0oDpk8qJThrY+eljhadrLjdEKt2datO0Lezp8ttSUdKmSbxGqK85QXkrnIrimsoiRuRqgug3cuEHCiLdU5dfObUeqj1Q9k9SDa8KYIeP1bxo06zGpcb+P9VKLKoa7p7NFJii+VaJEQQfWiXbtklH8mZo3Fu19iMbIppoLLOtV2AxjGAxjGAyU16UHgJrTmHzot+0txQTO10jixUIq9RtWk2xXcRL3+wSisZU1ZZqsmZu5aQ4M5KWTbrCdNZ21bAZE3j7qMWX7fz/r+eWA/ojaqROt88Lt7IAd3N6gqoL9g7iWPYWqXFLy+/YDSYHEP4m74Gqf1gtwNOdU6DqqSglj6Bxy1vDtWRRArZmvJyNkmXHsJFACpAqi6ZFMQoAXxQS7FDt8xUMkZeqrmVJXrNb6amOB04Kjaaikg79/bAddw0gcn8O4KPzD/AC8uw/IfMc3AYxjAYxjAlR+lt6rjrhXy0Q4tbbtoseNXKWXj4JEZh2VKF15uRT/U6nakFVjESjWVoOolVrEYxytzirDPlCgdgYylg71VeA1M6kvCfbfGmxN45KzTEQpZdS2d2gkopUNpQCC7qpTLdwf9Tdu6cGUhZYxDlBWGlHxB/V4HJSiN3C7Rwi7aqqoOWyyThuuicU1UV0TgokskcogYiiahSnIcogYpigICAgGW+Pp3+pIXqK9PukSNukiOd7aC+h07uVNRcDu5Z9CR6f5Tuxkj/tfat1bI2cOlTCqQZtnMJlXMYh00wqP9la6uWodg3XVuw4N5Wr1r2zzVOtsA/SOk8iLDX5BeMlGK5DgU3dF23UKBuwFOTxUL+gxRzhOTCvV/cAGmheXlH5m0SIIyovKyLcML0mzb+2zj9y0tu3Rknqok7kTVuFaUjZMRMCQOJCNlliEOoK6gw9cBjGMBjGMBjGMBjGMBjGMBjGMCwL9KL0btA3PUlX6m+74tPYt9WuVuhdIUqdZnGsUBamyrmBdXhxHqKGaWGffOSrHg136CraEBIrtkgV8VN2MRvrC7Hu+0+pzzYtWwyRadpT37e6y6TiIhtCs02FOlFatCpizalKB3KcPEsSOnq5lXb9wVR27WVWWOcbGn0n8+Sb6M2mG5QIU9e2jvCBVKXsA90r8/kCHOAAH6lEZFM/cQ+e/buPYcrs+tbBDXOrBz3jxAA93klsKVIBS+IAWakhli9g7j+56HcwfcR7gAAOBq7xjGAxjGAxjGBJT9MB06GHNzn3G7L2LXCzWj+K7Vhsy0JSDYykNOXgHXag1t0KhBbuUwkW604+bCfzK2jURMQAcEUJ1x6lXnitzW6lGxoOuyIuNR8ZhcaO141QVKMes9r7o4XiebppD7YmlbMVy2A4lE4NoxskVQ7ZNuBZY3SvqbDpB+nL2jyxssWWF2ltHWFx365K6KmxlHM7bIxWt6XhFveKU/vM0HcU8bsl/E/vSDtMgFFcpQrQp6bkrNNzNjmXJ3kvPyj+ZlHihjGUcyMo6VevXBzKGOcTLOFlFBExjD3N8mH74Hys2cdP3pIcyupVB7nsnGqipSkDpeovp+Um59weIh7JY0ERdsNc1mSVSM2fXOZaIu1mDITFbEMikm+cNAdInHXNVFIJC0VtW0IquaylPQ6liboCoVdeCJINzSySJkv2wKqx4OCJin+08zFEn6u2XG3RY5HdO7d/FmQp/Tih4uoam0hdZWgTFQJGhC2A8ugVI6F8mGLpU8y+bX1sT8WjLBLiLuSTSWQX9pwxXaoBTgTsFM1ebl63Yot9Cz9flH0NNw8k2VZSMVLRrlVlIRz9qsUqzd2zdIKt10FSlOkqmcpigYOwbvekb0YbB1AovZXIXft6e8Y+C2k4SVl9i8hZyPQbMZN7FNxXdwNLXmRRjpNxHFFM03IJ/VM446qEeALyzhBgpKw6tfpw4rlT1TdGb91nHR1A467vUl7TzNlmKzaNY1iW18RpKTVjakOKLZi52ZAimxXV7JJFnWcnKqL+678Eo43XY6rzbd9uedP3hk9Y666eHHReMolWptFAI2D2dP0pRyg8tUodqm2Uk4UsqdU0S0d+4k6XaJTLkp3hyKFDQlvyD07Wdy7Jr/AB+udq2HpiHtkvHa6u91rzSq2az1lo5OiwmJOBZSMm3YHekIKyBPqU1VGxkVnDNiuoo0R6ixn7ItnLkwkbt13BwDyMVFJRUwF7gHkJUymEC9xKHcQAO5gDv3EAEPxxneeqOMfIres60rWnNH7U2VOPlCptmFPo9hmjmEwD+tVZowUbN0SF7nVcOFkUEUyiqqommAmCQlx09KjzsudJebh5c3HV3B/TkBCOrRbZ/a86zlLPXa5HopupB9KV6HeAxhztWpl1TkmptgQAbmIJxVOkmcI+fFiCcWbk3x3rzVA7leZ3fquPTQTKQx1Ac3mDTOUpDCUpgAgm7gI+Ih3AQEPjLTT1UF/GhdGjfrVJQqa16uGo6CkkBhKZVGWvMY+dFIAGIIgm0illDF7iXwIIGKYoiQYAXB3UvGyZ62XETVPFe27A2hpCG5KayaMb7smPiIaZvylSmU5Kx2mKhIdumSEq0srGLOq2wkjOZhONFJzJHRcOBZNZl3rNbitC9OXTNTRcAQt05NV4jtDv2Mu1r9NtkqAiXv+oiTwGgiPYexhL9u+BWQ4xjAZKO9KR1AX3FPqDR/Hm2WMzHTvMBs2oDxi/dqEiYza8aDlzrebRTUMLVo7k3Kr2puXPiiLhOYZFXceDREgxcc5DUbTNUe2Vi61p8vGWOn2KFtEBJNT+25jpqvyTaVi3rdQAHwXaPmjddI/b9KiYG7D27YFwB6hLhM35wdMDfdSjIQkvsrUcWO9dWHSaA4k07Jrxo7fysbHHAgrlNYKorOxB0EVEyuFlmoreZESlGsK6XnNXQ3Abfn+kZtriqy5UXSntWrjT0HZLmFYp9ItYKqmXuclFjX50J+bYIAgSuGcFI2iHai8mRJR+kxXbW73ATkrXubfCPjvyMaC1kWe49SwEnZWahCqop2P6EYS7RDtBQTm7IWBlLNFEXAAdRACmOmUqgFyoO6tnFdThj1FeVmgUWCkfXq1tOcm6QmcgFTUolxUC11JRuYoAmZBOIl0GoAiHtpKNVEP76JgANw3Mj1bPUb5HV6TpWmWFF4oViVRVavJHXSLmwbBVZrkFM6CFxsZVCxZhIY6f1EREsF/bMIFOVQCqFjH3nYF62fZZK5bFuFlvVsmHCjqUsdrmpCemX7lU3koq5kJNw5cqGMI9+wqeIdgACgHbOIYwGMYwGMYwGMYwPoREkvDS0ZMNipHcRUgykm5FieaJ12LlN0kVUncBOmZRIoKF7h5EESgIdxHLmvomcqLhzT6Z3HPfuwzRxrrboy5R1lLDtSsIhB9A3ixwwMImPJ3Sj4mLZtm0XFx6Q+0yjmbZqTuVIBymEy219LB/8Aou8ce4h2C27q/d9g/tSsg/PyPf8Af/Af5fYRCsF5/wAY0hec3MKJYl8GcbyX3Yyak8fHxQb7FsKSZfHuPj4kKUPHuPYQ+B7fbETMx+ogcFOe3M9QogIH5Q70MAgAgUfLZNkEDAA/q7D3D4Ee+YcYDGMYDLDX0XnGtCm6U5c8zLIgDUlyn4HVFZfuQIRBOua/YvbRbXaaywFFEv4lMxyK6pDggom07KGMZDsnXmEKdQxSJlMc5zAUhClExjHMIAUpSh+oxjCIABQ+REewfI5adQEQPSb9MBLuUfbg9hqcTpGYXXAPaUU2tyMalbtDe4UfeBZBxcmhUTG7rNfpCkACewUCBXZ9TrkrI8vOffKvkC/enetb1uG1/lwTHOZNvT4B8euVNq2IYRKggSBimJ/bTAE/eUVUIHc5hHFXUWtJXcezKXq+EmatXZK6zrWFQsF1sEbValBkWA6rqWsFgll27GNjI5oiu7cqqKCqqCP07RFw8Wbt1euznOocxzmMc5zGOc5zCY5zmERMYxhERMYwiImMIiIiIiI988cC3u6HXTV4KcYuC8COjbBrvlKXeEW+dbS38SIjZiM2O/AXEBO12DTftllY2lwjts/iWMOuUjhyCZ3soCjhcoJRe+vBF6R6KeiV+nvwlqUrVbtzUkbXtve+6nrcyNjW1EvbJZKA09W7AiYiqEC2XAka9YNVC9ouNRM8EVJI4G3U+kG17v2hdNqw2LbM0onqbZe3JCwce6zKpqIvImEBv+G2mSZKuAT8oe2WFAruJbJiomou1fPW5SleiZfur1QfTdb83eA0xt+jwSj/AHzxIJK7MqRmDf3pKw68FsQdl08qKZBcOxPGNW1ljkUjHMD6BMkkiqd52AKoLGP4f9f67f8APM2+AfAje/UU5A17Q2johuQy5kZXYOwZ9UY+iaooqK5SS92u02cooR8eyR8yMGYCd/OSYtoqMbrunAAUMJP+fz/X9fb7/ccyc0Pww5V8nDvB0PoTZeyWMazcyMpOwNZfjWYmOZoKuHb+Vs7xNrX45k1RRVUcOnkiiigUvdU5e5e9jlrTit6bDpOapildwXLi5svZFfi2ra03PYU1C7o2LYrQkzIEmrCUiNPY1a+g8eIugjmTWJbkboq/ROJJwYBMMd3rd+okqHJnXSHDfprREppDi48auG21bPE1ZnrWa2m2AQbtanFw0SDZzB0b6YgKS6ThJrJT6piM3ZSRqaqLwPsejVauo7qTb1jnKaQLM+NVnauhIuiuCTlre6midNFZuoqg4SE5VQ91BRRI4FIomochvIe9vWy9v9I/hePx3/sdv38O/b83se37vLt37/ce337B379+g/RjgP8A7Rjdg9hEA4xzwCPcAABG7VLsUQ79x8gAwgIB8eHyId/nvn1siyY8kuGKAD3VJpu9qGL8/BFLe0KQe/27mFM/wACPYvf+HcIRGMYwLQL0h/Od5yE4H2Pi3dJwZG+cR7L+D14rtYhpFzqC6LvJmrF8f2Z1G1cmBmq8Q5SK+wySik11zKrFAdRPrOOEDGn7d0HzwqMX9M12xFK6X2sq3TKVsrcqe3cy9JmFwKJAB7L1hWRilT+KiiydabiqoAETLmmb02XNJ3w56pWl05KaCL1vyFVPoTYiK7gUI5RG4ro/k6ReCJipAMRc28MomsuciKCLl0ocQAew2OnXO4es+bPTE5P6oSjge3Ou0pxtnWihEvcdN7xrHvamCLUCpqLGPMR7GTghRTFMFwkwKooUgCOBTMYzyOQ6ah01CmIdM5k1CGDsYhyGEpyiHYewgIdh+/YQ7du4DnjgMYxgMYxgMYxgMYxgMYxgMYxgMYxgMYxgMYx/2++BJp9KRyN3rqLqjU7VWsYiUteueQFZm6tuuuNQ82UTWoFmtNxGxFxU7Is16lNJtm4OvNI7hnMu47uqZ0kiay651cRtfc7OJ+6uLGy2yatc2vUHMU0fmTBRavWlgqjL0+0svsJXlds7CLlkBKIeX0pkjD4KHAYVnRYpdE6MPSL3z1b98wrBpuvfcK4rvHmvzaSCcy+ggO6aUeKi0FxMqCd1siR7FKHIUDlr0UgCxCJmEHG6/wBNT1cpnqQcY7brvdtgRkOUGgbA5JaV1zopurrruzvV5Cp29qgXsc/4Sus7qUoIgKiZ42OXWEwvyqqhV48lePmyeKe+dq8dtuwysDsPUdymKbZGJu5kVl4xycjaSYLiUpXUXMMhbSsW7IUCuWLtut2L5CUOjssdfVa9GOY31VXHUi46Qa8ns3V1UTjuQ1IimZl3ty1vX0Tnj9gxTdsQVXM7RmX1CE8j7aiz+sEQXIfygypLVxWAz77i12l2k1Qd2WfdIMW6LRki4mZFdJm1bIpt27Zqmq5MRu3QQRRQRRRAiaSKSaZClImUofAxgfRUmJZUOyspIqh9uyj5ycO3yHbsZUQ+wj/mOfPMYxzCY5jGMI9xMYRMYR/iIj3ER/xz+YwOxJbbezZ3W9T09L3myP8AVtFmrBZKlQl5NcavBWC1fRBYJtpElMVsMpJkj2aSz5YirgiCIIIqJInUTP13/P8Af9+/8/44xgMYxgXOnQznCW/pC8CZRc5HRHXH6DjVh+RIcIqRmYNVIwdx+SfQnRUL3+DFMHx2AAqGeYdJea25Y8lqFIE9p3Ut7bWhFUxASiQGV3m00wEo9hKPteAmDsHYRH4AMtLfS07FdbB6MvHVJ2c51KBZtta8SKdT3BTawN/mHbQhQ8jCQhm8qmchB8RKBuxSgXtlcH1qK45qvVc57xblArYynJPYsskkQAAv0s7KmmWpwKXsBfcbviH7dvub+ICGBrAxjGAxjGAxjGAxjGAxjGAxjGAxjGAxjGAxjGAxjGAxjGBN89E7tl3F8jOZOkl3JCRlv1DS9is2oh+taapltPBKnA3z/ci7YqPb47AQ3fv3Dx5d62+rIJ7W4L3YE+zl3r3alWUV7B39mOskJLJJj+ny+DyipgDy+O49y9xDMCPR3Sy7PqvzkWRQxUJji5tYrggCIe4LCeobpHy7FEogQ3kb5OU3l49inL5+Ozj1upC9+Ax/EoH7bsJ5AId/EBowgXt5APiA9x7gQQARAPIO4AYICmMYwGMYwGMYwGMZ9muwMra7BBVeCaHfzdkmYyAhmSfyo8lJd6jHsGpQABHzcO3CSJfv2EwYE/n0fHGeK0tx35bdR/ZrdGJhJBnI0CpzT9MiIN6LrVga37DlkHapQFJq5lPoGSwj3RMMORQpzdlCkhW8++Udh5n8yORHJeyLqLL7U2bZpuGRP3AI6qJSCrGpRhCeZwSKxrrWOQFMphTKqVQEwKn4lLYNdVVZr0g/Tf07itUnKUPsLYNLo2g112xzs3ruy3wfzRuGVRUJ2VB2DJOwJKeRTEMgqLYTkTEmVkuAxjGB/Sm8TFHxA3iIGEpu/ibsPfxMACA9jdhAewgPbv2EByzw9Mv1otD8otXVPp+yWp6Rxz3XpmiGVo1eoLcY7Xu2anBewWamYRq5Ms+YXxso5NL2mOkH0itMgu7nGr9Y5HyCFYd2APsGZC8UOSeweH/IzT/JXVrsWt20/doe3xaYrqoN5RBi4AJSBkDIj5HjZ6KUexEgmYpyHaPVSnTVL3TMFoT6ifozS3VE1dpe46aZRDPkPqW/QFeGVdlTbKzWnLrOso+4sXTzsB1QpyjgtzjUFQVAEmsy3RKVR95ZGl9RZyu1tw84+aL6GXER6i0oOlarWZbkdPRi6YOrJaU0En0dW5hZqsp78i+kjuLbakV1DKJvHUexc+6dA3tWFHFnfsHym46aX5E12DnqzDbj15Wb6zr1mYqx05C/j0ag7XjXzZUPITM3B1kEnJO6L1EibtERTWKGV6fqeOhpsDQe09g9Rfj8lYb/AKH2vZZK1b0gnTqSnrJpe7zbsrh3PmcOjO3b3WM87XU+mdKLiamvALFuihDqsHKIQz8Y/f8Ay/j3+f8AkH+f/DPqQjaMezMSzm5M8LDOpJi3lphNkrJKRUau5STeyKccioks/OybGUclZpKpqORTBEhymOBgDu/jpxP5KcuLa7ovGbSWxd3WyPaJP5KG19XH08vFsV1wbIvJRZuT6SNbKLCJCLvnDdMfBU4G8EVTE388efSV9Vfcn0L7YUDrLjvBOjAZZfY9vRk7Eg3ETlFQKvU05ZwCxTlAPpnz2OUFM3ulMYnh55/8QPUA9KvpDcbGmjOB3GvdG+9gSiCUpsfdeyWVZ1a+2VcSt0gcP7CYjuyTkfXWaplG1Yrsak5axcckJlx/EHDly6xL5E+sF6lO005CN01W9Pcdoh2mq3ScQVdUvFnRbqmN+0LNWwy7ZB8QglTI7ZRbQCAHuJokVEFChuZ4++iz431VsxlOUXK/YexHqXsmk4TWcBD69rpzEADq+xNza1gmCpLKCKIkVakOVBMTkVKs4AGvVXU61z0JOh7p0jHRHGvUPJjmzbkH8frCB2fanO42VCkmh26LzYuyWjiVdxsa1gFPBWMqJGrB1YJEAaHTZRa717kOreXVH6h3JFy/X3LzD3vbm8iZczqHJe5aAr6pVzFEURr9aViIYUUwIQiBDsjeymQCJmKAm74Kv5B/KulX0o+eST5wbzXeP3Kzx0sf/wAyrhwdRZQ3/wDo5zD/ADwPp2uySNxs9it0wnGoytnnJWwSSULERkBDpv5d6vIO04uChmrKIiGBF3BytI2MZtmLJAE27ZBNEhCBYseiahxR4lczJ06XiL/kPUo5FXt+o6cdrdg4UL3+wlKpIF7dvsfzDv8AcMriMss/RZMQb8C+S7wA/wDqHJ0xxN3AQ7tddVZt4h2Ee3iBQHsPz+rv28RKIhEx9TC+Xf8AWc5dmW792shQGKQiPfyRaa7rKKX8ewAUPEA/d4/Hx8ZoazeP6kFdVx1luZoqiUfat9bQT7CI9kkaXXyEA3cpf1AAfYPIO3b9X3ANHGAxjGAxjGAyS36WHnO/4m9SypannZZRtqzlxHl09Y2K7g5GLe8CoeS1nOAmbzSK8LOkVrwKFTIqqhYDpHXTRA2RpM5PSbjYdeXGq32pv1Iq0UuxQ1qrskiYxVGU1ASDeUjHRRIYhv2LxqkcSlOXzKUSiYAMOBb7+oY4YNOafS25CVhjH/WbA1DDf2761VTRIo7JP64TWlJeObCICcAm6kM9FnIkUyyx10UkyiYQHKeIQ8REpu4CUewgIdhDsIgPcB7CAgIduwgH7+/btl4rws5A1rnFwp0TvwiTZ5Eb403BS9jjimRURSlZeGGMukKqVIvsALOaTl49VEhfBMUhTAOxe2U4PUe41u+IHOrlPxzXT8GestzXSJr5gTUSTWqLyVXl6iuiCgidRI9ckIwCqj2BUSioBSgbwAMJ8YxgMYxgMY/xH+v4fu/r+P3F+/8Al/X+P9fxwGMYwGMYwGMYwLRz0dsu4fdK+wxqpzGShOSOyG7cpjFEpCvY6tSCoEADCYgGVcGMJVOwiYxjgAlMUwwT+u4cD9XXngYv2/t0ni/7QVO/gzjyj8j/AHfkv9z5An93v8ZOy9HfGrM+ldPvVEzkTluR+yXCBzFACKlbMK6yOKYgQomKVRuYhjHMoYDFEAN4gRMlf11eLe1vnU952Wli4B2wkeTG0yMVwAgAozYWR5HNxDwKUB7JtADuPkYe3cxzj3OIa5sYxgMYxgMyH4kaXkORXKDQGi4tuo6dbV23RaUKSaR1RKzmrCxbSa5yJgY4otY0zpy4EpREiCSh/sXvmPGSQ/So6Oj9w9XvUs9MMQexelqNsXapTCPcGs7HQR4KurmL2EogSRnAEfPsACUO36xJgShvVz7YiePXS50VxYqXjEs9p7Ip1OYxTPsDdKiaVriEn9AdEBAxG6bwtaK3VOIFEzUxAAxjCJKzbJtfrWd0IzvJriPodk7Ef7PtR2y/zrHt3Ar6+WNtGwrny7diiLCryCfh3Ew9/IwAUU+8JTAZIK9NJzgt3Dzqd6jrDQJ6U1tyfko7RWyK3DIPX/vGsb0CU21KRzNJwdUadY1UHzp37JgaQbmbOqq2QMs4S0DRERKWCVjYKDj3ktMzL9pFxUXHt1Xb+Rkny6bZkxZtUSmVcOnThVJFBFMpjqKHKUpREwBkhyqyFd6FmqlbE8CIsfVm3NT12sNAnKzlo3gzrmzMPEZWaHuqgO+rExcdkI7t7lNQ8De4Z35qJhaJ8ytCSnKPivvrj1B3mZ1pM7d1laKVEXmvuFm0lXJKXjlUWL0qqB01xZi5BJCRTRUIstHLOkkzlOcohSUci9BbL4ubx2fx93BCKwGyNT2+Wp9pjj+R0hfRjgyZH7BcxSg8i5RsZCSi3yfdJ6wdt3CRjEVActGfTPdWGc6i3EeQ1nuifJM8meMoxdZucw6WT/Fdh0J8mdOnbBeolKmKkmPsLV+yOkyeC8myQfreC0p2NqP9Xv0qJOysq/1NNKVVd88rkTHUTk/HwzVRVQtfZqmQpW0nbZEoh7UWZ0FWsj8C+ZGZ4Fy5MKDVZVII7XRO6U2tebGwCby5f7i1zonhZq+wJp2+RuWxanTbJtifjRavD0CpNJmVaSBI0xXDUtpsSTY5WLJ0VnH+7IOSnaz+4zlj6dbitSgZ1rYfT2qkDBNzIJM6xDa3tE65OikYDIphGxEvNyL10AnHuoqcXKiqignH3DmGodBw4BD6UF1ga+4K30wKnBD3hKUgq+z5e37gkIQoqePkJSlL37FAA/HAsquTXq6enlx5jpCq8KdDz27ZxErkrGTaV6O0zrBu+8k0irm8o0bFKN1k0jlW+lhI43gRsdNwuQxipxGepB6gXn51KqtKar2XZa5rfRco8aPHWotZxh4yJlTMXJXTItmnnai85Yyt1001CNnK6Ed7iZFAjyqCc59HeMDe/wCmnpa1z6zHEQhWxXLasSl5uD4DlMYEm8LQLGCK/YAECilIOmJimMIFAwh8+XiBpJ/rbriq21ZwYoSTgASlr1ti0PWn3EfweCrMYxXMH7g8pZ6Qg9h7iB+3bx+dO3o/aItZerA5tntFVZa+467SkVzCAj7LuddVuBYqd/EQDsLlwAB3IImEg+X6RIbLr1ruwSynK/iFrRu6E6dS0VaLJINO4ACEhabss2QU7AIj5KsIRMRMPb+AAPbvgQoMYxgMYxgWS3oyeWJr/wAS978R5yR96W0HsNK+1BossQVi0XaJFFJFFul4+6LaNuEW/WVOZQU0zTrdJNNP5E+uP1p3F9vWOQHF/lvCx6aCO0tfzOpLo8TEfJzYdeSJpmuOFw7gUpla9Y3DNMwFMdQsYIHOBUkwzWx6Urko50N1Z9fUp1IKtqvyQoly09MNRXIgzXmBaI3GouXPmIe4dCXrRmbQhfIx1pTwAO5gMWYB6uLRbPanSdndhps1HE9oLb2ur5GKpdgFGNnpFSi2Iyhu4CKBY+xkcCmPcplWyZvHzImIBVWYxjAYzzTTUVUTSSIdVVU5E00kyic6ihzAUhCEKAmOc5hApSgAiYwgUA7/AH2jaR6KXVO5DRLaf1dws3JIwb1Eq7KYsEO1pEa9RMRNQFGrq5voFJcPFQofsxMIG7lEPIpgANZ1fr0/bJmNrdVg5mzWKYdJsoiBr8Y9mZqVeq9wSaRsXHIOHr50r8gm3bIKqnEB8SD+75AgJREpgEDAIgYB+BAQ+BASiHcBAe/fv9u3btlpn6fj0/tD4Ca/heS3J6osrTzNusK4L+EWJmxkI/QUQ8Os3c1quopOpKNdWt+2IATVrbqqqGarfQRSjZoq5BxCU5t9DfqLcfx5H8k9p6Gi9T6Bq16u1ja2m27K1rGNnFel7VKLVdhCR6FncPZKYlW7hizi4Jo3NIunKybdFsIlUEgaNsYxgMtuPS0JCn0WeN/97utZt1qAA9/sO07OUOwD2DxHw7gAfH+/vlTTW6fbbk9COqFWsdrkREpQYVuEk514ImKc5QBrFtXS/cSJqnD9HcSpnN9iGELOHpFbt5EcKughoxhrriTufdvJ9xP7eiqHo+Pp8xCrtJSY2HZJGKsWxpKYbx7WoVFs0eNpBdZ6olISpDkbxjRdZVZVEK7Tn4ChecnMEFgEqocl92AqBjdxA4bFsPmBjdx79jd+49/n75iPkqJp6Y/rLcyNv7A3VtrW+ptEye277Z9hW1a736Mbfh0tcph7PSAR1aqoWd0ZqR5IKgRqDsFG6BfFQwrEIkptC1r6LSq1KuyNu5Uc72sTE16NfzNlPrejIR1fioeNaGeP5R3a7xJNhZtGKCLhw5WcQZUUmxBOdUvtmMIQG8Zmxz+pXC/WvIqz694K37Z22dMUwpYFTaezBg0VL7Z2SiiczN1COhIiJMzporB9PCrSSar+SSSNICCCC6KQYT4GTnCrUq++OXfGnTjduq4Nsfdut6s4SSDyP9BI2qNLJq+PY3dNvH/VLq/pN+zSOPYftli76vnbEdqPpb650hFuUo5bbm5qRWGUWgIJIuKxrWHc2B82SRKYv7Jm6Qr4kIBRIQpQ+wlIORJfS58ezb16vuiJl03VVgtFwt33PKLFTBRum8gK68h66g6KYBD23E5OtBIPbsCqJB79+wG2d+tQ32rZuVXFnjqykVhjtW6intgzUYUSmajO7HsBGMY7P27iDtCIqqyQEESiRB0U4gILFEoQpc754u6ItPJ7kVpfj5TGa72x7c2LWKSxSbpnVURSmJJBGQfnKT9QN4yMB5JOlA7Ak2aqqiPYmdDZLP8ASV6EoTjlju/nNumShKvqLhhqOTm17lanDdjXK/bLik4jySzx+9EjZurB1ltMvU1iq++ku6ZkIQxnJCmDep6i3m686TnFbp88QOJ80FIu1VtWvbzGkhuzP6WgcdzwpmKEg3amIQ7K5WwyRZhqIog8SSeAmb21VRLJ74R8q9a88+JGnuSlDcRkxVdvUZo8nIfyQfpQ1iBE8XdabMtFCCUjmGnEZKKeM3jcnvtiJrCkdq6ROpVIdfjqG07qQdQy97e1VIy0jpikwEJq3VjyVbmZDJwlaFypKWFowOqoLdpYJ14/ftDqFScrMhaCsT9CZh3aej+6mDDUm4bp08NqTyjOob0eK3jRjuQcF/D4vasazTSsFSRFUxfphu8G2K+YkIIpLTMGKIFTcyPksGl71AfTje9OfqD7Gq9cgVI3Re51ne39HO0wOaPSrthfLnnqmiqcoETXp1kGQiis/cUOnFDEuBECuSkJqep/IPeOvtcXPUNF2vfadrLYktFzd6pdZsklCQdrk4Vk/joxxONo5duMgVsyk3zYGzg5mqya4guir7aIp2U3q6j8IpHghARHIC3HguTUdYwsXFSKrLJjMXaUlRXbsLe3lo5V8wVa61fRPmjPyrlyRBtKt4paPbv5NqRsFXxgfoqqqscVFlFFVB+51TmUOPf5HuYwiYe4/PyOfnjGBMI9Gqk1iOcHJ3Yc3JMoSpUTi8+dWaclXLZhDw7F9cIZwMhKyTs6TZg0at4l6us4cKpoJopLKKnKVMBDCX1LnUm0d1G+b9amuOkhI2HV2i9fK6rY3VymCETeZktklJiYsdZbm8XAQBlHaLFg7cFA0miyLIpFIi6TTJoio+7Nr60p20aBQr5YqlT91QkNXNqQcG9Mwa3eAr8t+ORUNOHRArhxGNpQBdHZFWI2dGEU3aa6XYgdXYDGMYH1YKclazOQ1jg3qsdN1+Vj5uHfoCALMZSJdov494l3AQBRq7RSWTEwCXzIHcB+2XbvTn5LR3N3gZxs5CuTNpJbbWn4Fa5oAoZwia1tWBq9eo9c5wIKolsMfLIL+RSeQib9IAIAFIbllL6MrlU62Lw63xxWnZAzqT4+7Qa2+qIqmOdRCi7UYmWUbFVUOPigztcDMnRQTL7aQPxERL7hQEIPfV24pf6FnUb5Xcf2bFZjWa3tKZnaIRUiaZVKFdTEt1TO3TSIQibVKJmEGjdIoD7STYqZjqGKKhtb2TEvWc6TYUjnvobcrFEiJt3aEO0lPbTKX35bWNkPDncqnAO53CkXPRKBxH4BFsgBQAe+Q7cBjGZL654acr9v6wk9z6q47bh2PquFmnVelb1SaFYLNX2E2zatnrqNcPYhk7AjlFs7bqGJ4iH7TxAfMpi4Hw+MPGfcfMHeev8AjtoWqOLjs7ZEwSJgIpI4INUCFIZd/LS75QPZjIWIZkWfyki47JNWqJzD5HFNM0n/AK2XRH0J0o+ldxclmop3flZbd/NIvcG3QVdptZIkprqyST+nVeOUUKkyp0FIRbMI0y6AyD9yReTdqJndFbIa9PTsa7ukJ1rOF8VZqrZqxIMLNeJZ0xn4WSgnyLRhrS3KKKnaybZquCXkZJM4mT7CKpSiA+Re8mj1stzIy48cLKD7pvcn9ubBs4IgYPESVqpx0eKpy9+4djWPwIbt2ETKAH78CuoxnKKZSLhsWyxFNoVXn7la554hHw1drUU9mZiSeOliN0EWrBgiu4VEyyqZBMVPwIAgY5il7mzYryc4GVvgzpdgw5TW+Rj+amx20JNU3jXTXkM9V03SHSzd8tauQUmYrw8TOz8YVRlWNfRPtzBRehOSzxqyZpISAawsYxgMYxgMYxgMYxgMYxgM209Frpwz3Uy5xa90wqk8aanqizbYe8bIikoLeJ17APEl3UYdyBBSQf2xwmWAjiGMmocXDpZM6ZWqqyOqGPYPZV+yi41qs+kJF23YMGTVMyzl48drEbtWrdIncyq666hEkkyAJlDnIUoCYfmaKbe9C9PV0q5bjtUpiEW6rXNursrVs5vEFZSM5x8oFpiTkgmNmdpiurBzUVWpM6kPCrGbuXlgfOZYzdMkUmKQYH+pU6jld5P8l4Dh/wAfnacfxP4TM09X0+KhVQTrtju8Exbws/PNm7dT6ZZjAJNC1SFUMiTxQj3iyZABz5n0+9PTnlurpx8oKFyZ0nKqIylcdBG3CrOFVAgtg0OQWRLY6bPtymAizSRapgoycCAqxcqgxkmwgq2ADYUvHjqQeOn75wq7evXKzt46cHMqu6dOVDrLuFlDCJjqrKnOoocw+RzmEwiPce/r4FxNvrri8GdX9Nelc+LTYGtmo+96EcNc6bTVYuLxfrdIMVo+f1qpCLnN7AwEmD6HuUg+RCMimiCy7oTA4aouKhPZ9phbxsi/XOuVZlRq/bLlZbJCUuOcrvI+qRc3MO5FhXmTt1/rDlrENnCTBust+0UTQKY4AI58OStNll4aArkrYJmSgKqnII1iEeyTx1E19KXeGkZUkOwXVM0jQkX6hnb4GiSX1bgfdW8zgUc+DgMYxgMYxgMYxgMYxgWdvpAtqQMf0o9p/mudi67WtRchdjupycnH7aKh4OHfVisWx9Jyck+WRZsWDZF0s4cunCqSKKSZzqHApREIMvW13xpvkz1ROXG69A2NK3aqul+Yq1q0N2qzVlPHiavBQcvKxxHAFWWjHkzGv1o52cqf1jM6LoqaZVSkLjNU+cvJOh8Rb3wgpN+d1PQG0dkt9n7JgIEn4fK3iXZw0fDM4SwTaBweOqiiWMaSCtdIZFi/kkG7iSK8K1apo4i4DGMYDGMYDGMYDGMYDGMYDGcvqevb7ffxn8jUi33T8uRTidsA1OtzNiCChGZDqO5iZ/CGTz8Mimyaaii8g99hoiQhzqKlAoiHEP8AoH9fH+P+8Pn+GAxjGAxjGAxjGAxjGAxjGBKX9H8Af+14T7gA9uMO6RARD5KP19GDuAgUe3cBEo9zFAfL7GEAANq/rdRL4cBvkfIDbs7B2+BL2o3cft8j3Evx/Dv9+3xqn9H+c5erwkmBgAinGLdInKPYPISPqOJPH94mDyEewf8Ah8hH7Bm5T1t1JfudY8F9hooGNGxF32zUpBx8+KTmbhKxKxqf93t3VJDSIj+rv+gP09gEQCvVxjGAxjGAxjGAzdR6e7jZ/pP9WfipUnkcMnXKHanO5LYkdIVm5YXWTUZ1H6pMwCQ7ZxOhCslSKdimI6H7j2KOlfJ2Xoo+PDeS2Ly/5RSceRU9XrFQ07VnyyA/6u9sr5Wz2I7FwIdgVBhDxrV4mU3f2naImAfIogHzPWr8kk5jbPEzinFSBTpUqn2bcVuZJL9hSlrc/LXK2R43D7inEwkg6aqCAeJXq5S+QmECQYM3g+oy3mvvnq/ctpUHqj2L13aIvTkGU5jmBox1zENYd80IJuwAQtgGaVAEygn+2+BOPdQ+j7AYxjAZvT6LvTxo3IG3XPmZy6dtaZwF4gJFvO4LBOlFBpsifikvxCD1NXTKnRJJyU26TQ/EmrYyqgszFZeBVXhTE0eRBItSWjE5xw9aQp5BkWYdRzVJ/Itos7lIsguwYrvI9u8eotPeUaNVn7FFwuQiSjxsQ5libLObvUSk98UOi8TuPsC80hwW0kBW+tdQM3CaU1fJxLyCR27umRZCQlp2HaHR1JFw2EykLXyGasY5Fddl+JOA3L639VDyJofUnlN/kininB2URi9VNeLDZQiEXU9MV9wq3rc9VEE/aaR2x4dJZWXM7TIVrJFWXr7sgsjJKI2LGrOT/FTlxxaDkFUL/QL7xqu1GkpKzzlgcRv5YY1pSKUUtUHsBlMCDaFXiWajllZoedTRFmJVSOEzIGIopRqZkpTeXvIzX3HLZ/E6m7Sstf0LuK2Ve6bDoUc8MgwsExU2kmzjyOFkxB0lFvCyKaszFJKkYTLmJhF5BBc8Y2EA7s6oqnDBbnPvtfgGSZS4yLWxZSmt5FP2olvIimUtmSpHunO+GgmnCu1qmEl2dJxiiaSZfokmY5r/AMYwGMYwGMYwGWaHowkyE6eG9zl8fJXk9LmU8VCnN5FotSIXzIURMibwKXsQwFExPFUAEpwEay/LJr0hWx6Lp/pacotnbNtULSaDSOQdlsdqtVjetoqGhIeO1/VFnTx4/cqJpAUpSeKZDH91RYyaCRDnUTKcIkfqNx//ABluavyI9rxAgHdPw7f/ACZXh7APiX3A7iP7T9Xfv4iYRKIBpBzZj1h+Uer+ZvUf5QcjdMLzDvWWwruivU385HhGPpKPh4aNg/xMrEV11G7ORXjlXjErgUnQtFkTuGzdYx0S6zsBjGMBjGMBjGMC0C9HhyXcba6cF20XMPFXEvxo3ROQsWVw5TUUJSdhMGtxhkWzcOyiDJnNq2ZAomASnVMfsYRHtkW/1blBbU/q82+cbNytx2PpbU1wcmL8FcOUIyQqqi/j4B4mMSuJlMPkbzMQTmEBE2bTvRG2r27xzypSjoofV1fTdmasxEfMTM5W4xj1wUvbsJfF2yTOPl3AfAPEQHuGIvrO4BJh1ENFWAon96f4xw7ZYviYEvGEvFrTSOUwiJDKm+uOVXx/WVNNADh4+2IhD5xjGAxncGhNC7b5O7bpGjdG0ma2Fs3YU01g6zWoJody5cuXKgFUdulCl9lhFsEfN5Jybs6LKOZIrOnKqaSZjZMls/opN8H1rSZqj8vtef2oOKnFu9g0i40uZb16OuK6CZ5SJrFug3z1V3Es1THIi+kYRFVYxDFApiARdUO4vTOdAHU9719ROo5y2Rp+2Y62tnshoHTyblnYqtClZv3UUtdtglQUXZSNkbO2jpCHqywmRgHCRnsqmpJlbIMoj/Va4zNuH3UT5ccfItAW9co+5LQtT0gQK3SJTbM5C11VJsiQpCJtWsJNsmbcpPIpEm5SeZjFMYbS3oT8BeSHTW4ZyHFrkTdqLe1oDadstOvJajPZl4zZ1O1oxrxzFOyzLJkq0OhPIyTxFogCqKRX6vioPkGYK8+fTA6U6iHN/aPMLbnJPYVQZ7CRpDQmt6JUa+AN0KnU4qsuFHVnlXiywrv/AMLI4IKMUIIe4YDnV7AUAqtcZOy6tHRS6G/Sf4vS1u2TfeSFt31d4eWitFa5j9p1ltbrlb27D2yzikcWjvWEHRoB8s2d2KdlI140SBRGJZA+lHbZqeCbgMYxgMYxgTVOKXXA1r0kuh3obRuhXtf2XzT3g529sFFoxes5Ku6RY2W9TkO0smxBbqnUNaUE4YhIKknBF4qVAsjKKso76T8QhmW20z95tNkulqkFZazW2dlrLYZRYqRFpGanH68lJvlU0CJokO6euVlzESTImQTiUhCFKBQ49/3/AO337YEe3f8Ah/P4Ef8ADv8AH8e49/3CHzgMYx/X9ff5/wCHx/uwGMfb+f8An/0+cYDJw3om9ZsJPf3M/bThMDP6jqygUiOUEyZvFK4WaSlpEAJ3FUhh/KrIAVAAKYpjkKYwgcAg85YVeiQrIk1dzouXiHi4vuq6wVTxHyEWVdnJQ5RN37CAA/IYC/uExhD4EcDSt6uizBO9XSwRZTif8p6K1LBmAe/6DOGkrO+AdwAO3aXA3wIh3H+PfIv2SHPVMSSkh1oeSSZjiYkdWdORyQdgAClS1hWljl7gAd/2y6g9xEfkRD93YI8eBtw4ubr488CNEqch6tOVLdvPnaEZJxmlYVCJlXld4YRCbmShZDZtqXm45tET27ZYqf1FFhIxCTiqlFHbT7mScSUkgjE6tLjcrXsK1WC83mwy9tuFqlXc5Y7LPvl5OZmpZ+qZd2/kHzo6izhdZQwiJjmEClAqZCkTIQocaxgbJOlF1Er50xuZWuuSVW/EJWpNlzVbb1HZORRSvesJlZEs9DmTMqk3PJsBSQmq+usYCtpqOaGMcG6rlNS4ZqW6eNXLHisluRjZqfeeMe3NXyExMzE+u0SqrqgzMK4LZGNtK+UKhGFYMVHrCxspA6R45dB0g4EhkxHKMLMsaZzm5Za+4zbC4d07eV8g+OG0JpjO3LVzSYXLAv3rNVNdZJoAiLmLjphVBspYIqOXbRs6do3PJtXJiHE4c76kkJworvMPcEJ0/p67WXjZHWSRbVaZugNfZcviyDwZROlrpoNX72gs1BIyqkhNtkZeRjm5HqxVEl0FVME8YwGMYwN+PQy6p2qek255mbysVVf37dl10xWNeaBo5WTlOClrI5thpeXkbPYkCCSDgYVFhHO5JIDkkJdExGMUVRYyyrbU/wAsOWu+ebO7bdyA5GXl/ediXB6s5XcLmUQiIKOFdRRlWqvE+8qjCVyISUBrGRqBz+03TKZwu5cmVcK43Z/QATD2L3MI/YADuI/7gEe/+7A/mM5tVNZ7IvbwI+j6+u9yfmMmQrGqVSesTwxlRMCRStYhg8WEyokUBMAIInEhgL38R7fnetcbD1fNFrezKHc9d2IzRF+EBeqxOVKaFi4E5W70IqfYx74Wi5klCoufp/ZVFNQEzmEhgAOG4xjAy44DbQdaW5ucTtptHH0qtJ5BaomjOBN4kSbJXKIRdmVHv/sQaLLAqA9yin5AYBKIhlvj1jdRMt8dLfnFrpwqmQslx6vFjYOikIuKUhR2JbzGKoCIGL5qu66gkmoXuAAsIgIlEcpXmjtywdtXzJwq1eMnCLto5QOKa7Zy2UKsg4RUKIGIokqQiiZyj5EOUDAIfHa6ttku92d0lLBNSq5l5G7cCJB7JOhMPm4eTGiVTvHBjHExgUXWWUVN5CbsY5u4j2+QpSuwh8D8CHwIfzxn7OCe24XJ/wCRZUv+Picxf+mfjgbtOj5aulnx6vC3LPqJWW0bNndZTxB0rxOpNGm50LPaY5Fk/bbB2RNvEI+pmrsSu4BOtVgZhZOUm2qjyfJ9DHhHvZdrr1p3Bpsp7MZxb5JrNEiFTQFZbXbIfEgeJSgglY3BEiFKBQKUph8Q/SAFAO+Vr2fqgkK66KBf7yyqaRe337qHAgduwCP3H9wD/gOBeI695h1S+cH4bnEpVJ+tUuY0S93yFRmFGv5iZV9tXXllRjXarcVGn1zlg2IBDpCZIDLpiHmH3qqetH1sd09Wna8f7iEtrPjLQzoK6w0iEgm4SQlzNRSkrlcnLMCN5+2PDLOGrVwcDNYiM8Wkai3994dxYu8iY95qf0+WwodmJmr+mdNEsQkYhSlOg6baSZMTHEFE0g8iqHMcwKJF8h7+SXyJMp4sBnO9YUtpsbYdMokhc6jrpjbLFFwb2+Xx+4jKbUGj9yRFzYLI/aNHrtCJjERUcuhaM3LpQpASboKrHIQeCYwLIvgN1DPT0dFfj5Fao11yIZb42y9SaTG2tw6/1Xa7VZdgXgGyYOTMnbmIakrtailFAYwEK3elbMWhBWXXfSIyLs3u7f8AWl8Nq2LtvpjjLvHZq6XvFbPrPJ1nXsS7EClFAxR9yySqRDGEwLAtGpnTACiUqnf4rZ8YExbf3rM+eF4K6YaF0jo3SLEwnI2lphrObJsQoKJ+HkqEq/jYVJwQxjHTOjHiBTFTEwGApwPpg5N9drql8ude3HUu5+UljkdYX1EGloo9bgqxUoeSjiu270ItZeCiGkwrGCs1RBRmvKLJLpFMkuCiZzlNqIxgMYxgTtPRMaZK92JzV5AOmSnaDqmvtTw0h9kvdnpN/ap9n8j3BQqMNALd/Ht4qB8/cM0qep/2YbY/WR5KoEcGXZ69Y691y0TFXzBqev02KUkUC/PimAyr58qKfYogZQ3l3Ee4y2PRma5RrfTj3JsEqPivsrkzYE1VvAQOqnTKhV4hJMDiA+RETO1RKUoiQp1TiAAc6neEB11HDpz1feoSo8KYqxeSV2RIU3yYG7YzRu0DuJSCJfpUkfE3YQ8e3Yxy9jiGp3O9IPkpuys6AuHF+vXyWhNI7BvcVse80qKFJi1t1og41KLh1bE8bETfy8ZGIIIOGUK+crRLaSSJJosyPu649F4wGcopN1tet7hWNgUWekqtc6XPRdnq9ih3KjOUhJ6FeJSEZJMXCYgdJw0dt0lSCHcoiXwOUxDGKPF85PUaTc9gziNZoVRs93sblNRZtX6hAS1lm3CSPYVlUIqGaPX6qaQCAqnIgYqYCAnEoCGB3Vyu5b8gObO5bDvvknsKW2PsmxJNWi0pIGBJlFxTAgpx8HX4pIQZQkIxKY4to5gmkgVVVdwoCjhdZVTG7Mzobpzc+bE2SeQ3DPkw+bLkBRFRPTF+TE5BKQ4GAi0Gkp+kiqahgEgCQhyKGApRAc51CdJ3qXWN0gzheDXJd65dLkboJ/2U2dv5rKAYxCeTpkgmTyAhgAxzFIBvEoiBjEAQ174zeZrT03fWR2aVJRrw5tdLSU+RPsqw1OjHTKJTHAyjebmkHJe5S9/EEROUTFTMQqo+3mwvV/o4+phbhSW2Hf8AjvqpmcoCcrm1TdvlET9yeRVGUFCJs/HxMcQMnLGExkxDxADFPgRKMZPs1j6I79TY25edvYvtgLxHWWpO5gVAREybdxabKUBTOAlKCqjYDEEpjeyfyApNiWt/R49MKjN2q+zNg792a8QEpnKslcoSlQ7sCHExgMwhogXSJTlMVM4pzHwAAJRIYRHArAcZN763UH0ROlhruQ4vcSeJGntzcwb5AEI8tl9l5raUdomtySR0i2d87lJl61fXx+Qih63DAf2Y45jyssUSINY5xCFMPkYTdgATCI9igBSh3Hv2AofAAH7gAOwB8B8YH8yXx6NDaJKt1GNv6zcSJ0Udp8crAdlGioJU38vSbNAzpFgT7gCq7SJUmDFAfIxU1VjgIFKYBiD5uk9PFsOT1v1kOD0iwkFY9vZNlyNEmhTEwA8h7lT7HCrsVfHsIorul2Zjl+wimXy/T3wJbHrVNGsrDxU4p8g27VIsvrTcdh12/egURXVhNj1r8UbNBHy8SpIylNFco+PydcwGEf09q4PLTn1gEQEl0mk3n3GD5Gapkg7GKUA91naY0RHyDub4fD2KXsYTdh7iUDANWNgd4cbYjQs5vLW0byfuFxomg1rKzU2hZaBXC2q4tKu28nD1rAQ53bQp5CTBIsYk9Ezj8MF2MiLJ99N9KrawcCOsF0HqTpXXuh+LnJbUOjqDTIlvF1zXd5YT2sJNuKhQUdv5hzbYtk1k52UemWdzUw6l3j6RklFnbpwr75FVKi/GBej6y2hxI3tZSW3T950Btq4xLVR4Sy0GboNytEYydCDZZ0WYg138szbOPL2FVQcJprAPtHEwCBR6m5kav6dmyU4J9zprnGSyEpLGRc11bkCvSgGvRswBUpJxGFtTtE7NtI/TFTXVRKBFzIATyMYnYIV3olKgVxujm9flCnOeL1jrioIHMImIiWXtT+YWKn3ESkMqEMTyEvYTFTADeQdvHAv1gs5KOOrOhDHeOPw2N4x6fFs0BZQqBTPpK7OHB/aA4JiKihSdzCTyESfJhACgUNu/UD67HS46d8HbNV9Inj9oSwchJaNcsA3XrjXFdhdca3eOPJMX7GYLFISFtnWnuqqtmkWKcSmsBjOH4kOl70BzaOz75unYly2xs+yyVx2DsCwSFot1nl1zOJGYmpNYV3TtwobuAB3EqaKJAKi3bppN0SERSIQvAsYHss2TyQXK1YNHL5yYi6pW7Ruq5XMm2QUdOVCookOoZNu2SVcLnAolSQSUVUEqaZzB62bHE926s4laSSpfGixJ3bknuuiLs968hUYw7Nlqmj25imV9ofRwyjRGWZTMjFqKMNvbPBJhISRHbujVcG8AnLSM7rjEREREREREe4iPyIj/ABEf3jgM2G8Vuldzk5jVGw7L03pZ8nqGpR0jLWnc+w5yB1lqmBjopuLt+8eXO6yERHOEGyBTGVUjfripmDwUEqglKbmPT0478V5l6tyh567XiKZxT1XZiMXuq6tLRkrvfkTc2DRpLoa2olLSekkoqtGQdsV7lfphNnEso5Y0ZEneSbldWK2EdXzr+znO3VtL4k8T9XvuJnDOmMGrOT1vEy7QkpsNWIWFODbWA8C0jmraqRjRBo5Rrgi7B3J93Uq4eKNkDmCORKx5omUkopRyxeqRj95HnexjpN9GvDM3CjYzmOeo90njFcyYqtHSY+24bmTWJ+k4d/QxjAzX4J8Gto87tvK69o7qKqNMqUM5uu5dv2xcsdQdQa3ih9yauFsl1zJtmySKBVCRzAVSupR6BGjQqigj249zNjeIlc24emcMpDZFs1jSIlCsSu09kPWJXm3LdGrrpzF9rlXZRMcamVSUU8U4OFeOpJ8qxRRkHJmSzo7FHuTbPPd2hx4YcO+KdWkNBccZOOgZLcaBZVtJbO5EbDRaMV5exbbuUcxizSVfj5RuZnT6WwbtoGFh0AAUFlpF+Q2uXAYxjA7S0lt+26B2vRdzUNODVueup1Cy1n8yQrGxQzeZaJrEZPHcNIpqsXp2CypXrMHCaiaD5Bq58DGRAB47sDYN32tdLLsXZFqnLtebhLu52z2qySLmWm5uWfKiq6eP37tRVZZU5x8SgJgIkmUiKJE0kyELw/GAxjGAxjGAxjGAxjGAxjGAxjGAxjGAxjGAxjGAxjGAxjGAz60BGITU7Cw7qXjK+1lpaNjHE9Mi7JDwaD94i1Wl5YzBq/fFjI1NUz18ZkyeOytUVRbtXKwESPvp6cvpxOfHUe1Ex3zRxoWn9TzUk/Y1iz7feTkStbWsekj7k1W4WJh5SUkIRd2oqxayhm6DFyq1cHRcHSKmdTaww9FJy5UOQJLlxoNqmKRRUM0rt5dmKt4h5JkIqzaeafn5AVQTFES9hMmUf04EoXo39NziPwg6c7iy8fpdnuCw8gtQSt02ByBkIddk92QR/WpEraPgo6VaoPYHX8Z+2QgoJVBJV0mY8rK/Uv3qigVI1xTSRt1pSQIRNFKxziaKaff200iSboqZE+/YfApAApO4APiAZd2cO+MEvxs4OaW4mWCzsLDM6y0qz1VJ2yKaOG8dIO0Ip1HKSjJm5MDgiHdx7iaKxyqCBOwmJ37hFHivRSaLkpmUl7/za2y6PJybySOjU9eVCOABeu1HR0PcmHcqYviKhigqHmI9gN7YCIiAV1GP+P8AX+7LE3k/6fHod9KfQNq5P8vrxv7bMNVGqSVZoTq8xEFMbMuKxVAiafAwdeio9Z44m3BQScuVpBpHwrIrqTfPkEG45A65TbqqG/Ny2C/690rQOPlAM1jYGk6q1y0WRiK3V4Ft9DEBKyLtVZ/ZbS6akItYrRIKC+m5Eyjpx+r5EMd8YxgMYxgMYyQB0fPT88juq7CXnZSdkS0LoyssXsbXdo2muPZdver6Ugg2gqxEkcx60nERx/12OdbuBasB9ti3Fw/UOmiEf/GS1di+ji6nFZkl29CvPHPZkYAqC0kELvL1Nc5AMf2iu2VigERQVOQCeYILu0yKGEoKGIXzHopf0lHWVSceylrDS7lL4/1tLfNIIh9gEe5F1UXPYB7h/sBEewD4gA4GPfpueRdX4y9WXRd6vlsrlF1/NVXa1OvVttksyg4GCrT6iS864fP5KRURaoJkeV1iBfNQp1DGAqIHUEhD5Qeoq66cV1PbzF8fNDwTRpxS0leXc9VrzKMjp27bFvbxzyBXuSaTpJNzXKh9K+fIV2GMUshINFU5ibBBwu3jIzk1M9H/ANWOwLop2j/R9oSKgl9xxJ7URnQbgI/JlEq3FSSh/AAERBIFB+SAUDCJ/bzHo/ooOUUgKIbE5h6TrQGN2X/KtQudrFMnj90wkRq4KGA/6fERTAS/qAQH9OBCWx/kH3+/f7h+74Af55Yrai9Fdxtq6jaY5B8xdmXBgx+mXko6lVitUKHdpEH/AFpNaUmV59+xRUN4kTWSWBQhDGATefgcM8J/p6+m16ZurrXdNm07j3bnVGrT2beNdsbBh9t7PtBopsZVKMgac/mTJSs7ILk9ls1ia+gZVyr+1EqJBMmFV12HxAw9wKIiAG7D2ESgAiAD9h7AYvcO/cAMAj3AQz+Zsr6nPUHHnxu38dpGpqHx/wCPNAM/g9F6VoVUrddbVetLHTKpK2V7BMGqk9cJ4rZs4mHjhddozKk3jYxNNq0BVfWpgMYxgMtTvSMaXb616TsTfVGh2sxvDcuyLpIHUJ4mXj4N63pkEqUw9hFFRhA+8mH939qJiiInHKrHLhLoJwZKD0POHzlql9M5caMt1zXKAeI/WylkuUsCvYAAfJRP2FDCPcfMwj3H4HAqjObNwWv3MPlJc3C31Cth39tqRO47mN7wKXiaKVXyMY4m9whCm8vIfLv3AAAfEMYM57tV8pKbQ2RJqgIKyN9uL5QDf3gUd2GRcHA3b47gZUQHtnAsBjGMBjGMBjH/AB/r937hD+YY/kPx9x+49/5f1+7v/D7AxjGAxjGAxjGAzIltyt3ww4zuuIUZfpKJ0DJ7JdbXnaPFAnGtrLcV4mKhkHFldNARczzCLbxCC8VGyR12zF6s4ckKJwbfTY7Z+zdu4drFQaoLOV1B7Jot0jrLHH79ipplMcw9vnsUo/xwPxxnNYzWuxZo6acPQbrKnWOUiRI6rTj0yhzGApSkBsxV8hMYSgAF+REe37+2ZI0Xp5c7dmij+Q+IPIyzJuDAVJ1H6juv0BjGEQKBpBxEIMSCIgb4UcE+CmH7FMIBhzjN2dH9On1kr0RNVrwnvtebrIlXQcXCcpVdTXIdQhAKVN3ZDOUzgBvcErhFHukBjl7+PbNYHJPjtsXinuS46I2wapF2FQ3TePtDWmXOuXuIjJNVqi5cxC05V5CRjiS8UoqZhMRii5HsZIoOGjpEh0wEwdF4xjAYxjAmp+ildLk5e8uGZRTBs40BXl1Sj8qCs2vbIiIh8/CYFcK9/j5MIfP3zhvrR5QrnnpxxiQFPvGcbfqDAByiqBpK8TfYTpgPcqYlZF9oxgDzMCwAI+A9u2fRNVpy55H80LcRsYzSH07QYNV53ECIrzlwfPEW4h+86ycKsoUQ+QBAwdw7jmtz1YG7orb3V22HXoZ03etdH6y11qV0u3UA5SzLJm/tk0zU/eRxHyNqWZOEx/urIHAO4dhEI1GMYwNi3Ti6nnIzpfbRnNq8dI3Vb+dtEY2g7AXYuuoG2O1oVBVRZSPhbGsi3tNXSeqHKL8IGZZIv/ZQ+tQcgkUMkas/WrcyCRKKL7ihx7czRSm+oft5i+tY85hMTxMlHHlXC6YFKBwMU0gr5CcogJfAQNC0xgW/vQI6mXIPqo8ZNo8hN9UfXtEUhNwOaBSYvXTOcbRTiHiazCvpN09VnpWWdO3wy0ksQVU10kE0SpolRKchzngw9Vrru9RiW54csKZo3mNtSg6HqG57lS9dU+lPYeEjIyAqkiaAKBHbGMGSdLKvI10ud04kFFDGUOJQS8jEyYL0PIVjwc9PFE7hm0vw9ZzqjevJmWE4C2VOrLNJl1BgRRbxMoq8ioKE+i+wKKOE0kSmAxPKq6tdif2202W2SrhR1KWafmbHJOlREyrh/NSLmSeOFBEREVFnLlRQ4iIiJjCIiOB27yK5R8heW16b7L5J7cue470zgIisM7HdJM0i9aQMG1I0jo1oQpEWrVBNMgKrC3bpqPXirh+9O4euFl1Og8YwGe0xYvpN6zjYxm6kZGQdN2LCPYt1nb189dqkbtGbNq3Iou5dOnCiaDdBBNRZZU5EkiGOYoD6uctol7uOsLnWdh6+sUpUbvTZhlYKrZ4RydnLwM3HLA4Yyca7IHm2eNFilWbrk7GTUADFEDAA4E8XpJ+kn1zsHj9D7i6lyewoHYOwFWc7WNJU6xuKjKUSnmQMdkhf5BJus4Lap33SPXsI2IQ9faFbMl3QSij5FpvRp/pleinq0jVeU45jY00B8wW2dte6S6Tr2U/2/vivPxqKpTeRVVgKBCIj4+0CKQiQaye69T3qI7GA5LrzW5KWEh0xSFN7ty4gQETgoApEKhJogRP9qqIEIBSAY5jlADD3zHGb5A75shzKWHde2ZsxxV8hlNi25+BvdE5lQErmXUL2UFQwnKAdh8hAe4fGBblRnSB6E9HAxm/FfiJGAkKYKHmrGg+EpkwH2/eUn7i7ET9jGERUHuoA9zeQAA5zCF4VdDapHA0bpnp8NDkEUe79bUEiYBUMYfbN+LyrwfMTd+wD+sB/u9vjKcV/aLNKkOnJ2Kdkk1PH3CP5eQeEP49vHzK4cKFN49g8fIB7dg7du2fD7j/Ef8xwLoonGvoum7pk1D04zGIoHcpa9x5OcFiF8g8v2Yn90pQMcfIfICh3+wfHTnJjW/Qt49aO2BvTb2jeDA6+11BrzEyWp671DOWCREpgRYwsHDVxsD+WmZd+5QYRjIglKq9dIiss3S8106djyMH2MP8AmOfsZ06OmZI7lwZI4lE6ZllDJnEgmEgmIJhKYSCc4lEQESicwh28h7hml1A+UmueXXJK17T07x51vxg1ImmSv641PrmvxsOSMq8c6eLMpO3vY4gFnbpK/Vnczb8DiybCKMZGEKyZpqr4TYxgMsf/AETSBS8PuZjoCiB1uSdWQMft8GK21fEKEKH6hHuQXRxEBIXt5h2McRECVwGWK3olbfHr8dObdC+oIMtH7q1/bzNu5PcLHzNGPDJuDF9wVfA7mBUTKJkiEAyZwKoobzKkEbX1RLJVl1ouUPvf/wAqJ1C9SHxEoCi41bVhJ2Ef73YSmKJg+4gIfuyPnkrr1heqVKR1SIC/pMVUGO4OPtDmxfHKUEnsvVZCcqUimkIdjmM0Yx8MCgm7gHvplAwiUxCRRcBmS3EbiPvTnBvik8duPFMfXTYd2fpIppIEMSKr0MmsiWWtdnkfEUIetQLdb6uUkVxACJgRBuRd4u2bq405Ih6NHXhguknW7NW47hJqraMvd5FR1cdxNbRP1ncU5EpH9yLqy0vIJWOCawEUcxztWMXExjZRc4u3rZ28H6kA7+2z6Qbqt0SWWQoZtC7ggSqETQma/sdStvFAP5D5rQVphmLlEhCgQqhk3LnxVE4B5JEKup1Ih6UfrHrOCNx1DrFuCgEEXK+3q4VumBlPbH3DESUOAkADKnKCZh9sA8SmUFMh9+BPW36kFETH4KbBKv7AGBIu3a8ZMHHdMDJiqNTKPtAAqCCwJiYRKUPaDz7l4hYvW6V/6XxqfAmY+tEqg+7YN0szNSmAygJEFCOpKapwOUEjqK/UJ+2YTplSU/SfA1O1T0fnVmnFky2BbjdTm6gl7uH+2XcsZMniBjmVbwlVdqlN3ECJpkE5hUKoCooEKRRTL6meig5Xvxaq3rmFoWuN1SAZy2gqte7BItT+QgcgAu1iWC3YA8kxI98TlMXzFM3kQvhdvWv8s5EjhtQeH+g62RTyKjIz9mvthfpEEoAQ6bVu8iWBFymAwj75HqRgECikAh5DiDcfV/8AVknju06wXjxSmbghiIg11UpNSDQREexkHspPmbmMUBDx92OOHcO49+/jgbdaf6I6lolaK3zndZHyhRH65nVdPRrBFQP3A1fStueqp9w+4qslPER/eAfOc2qPRwdNKoe0ps2/8hNuK+BRXRcW6MpTT3fHsPshWIhFyRDzDyBNVwsr2/SKvYQHIZGy/Ud9Y7aCbltJcxrVV2ToolUZ6+rVNpZUwHv8oO4aCRk0TAA/BiPimDsAgPkHlmAV46h3O3ZKqzi98vuRVoWXEorqSu2rmsZbwAATBTtLk8ypAUARKfuVEAAEwJgWf8b6droV6aTItb+PFEUQapFJ57Y3BahSAnsnVOdwtJXCKFU50incCq4UUOQiYmRMkkBwz9H1V9Njw5UclkYrp10KQjk1RMzk16JdpogE+TFZtZJzaJFRYCodiFaFFT2/0E/QoBTVN1j2fsu4+5+bth3m0+97nvfmO2z857vuiUyvuficg68/cMUoqeXfzEpRN3EAzg2BccWLqn9Lbj5w9tnMWgydEaaRrS8nC0V/UdcBSC7WuTD6gE6xq1vIV+Ee2wRlQFm9nIJi+hIxUzgyz0yyCiA1cnVF6le5OqXydl+RG2o2KrLNrGJVTXNBgwIvH0Wjs3Th0xhBlBbNXU2/O4dLupGWdIoi6dKHOk2bE/QbA6bvt4ssFXKxYbjaJ2tU5qoxqVel56UkYSss1V1nKraBinblVhEIKuHLhY6bBBAp1FlDn7icRHieAxjGAy5013MnU6JtenJBYCHDp2/XO11REQTFPRSqihzicoD2IBREfMofBf1B+7KYz4D+f8A/9fn7/wAv59++W/HJ28JcZPTw2+csngxdV3p51imigUSJnLM3fW8FR2LZsTyJ5rEfWRIUky/qMCYiJR7GDAqDHBwO4cGAQMB1lTAbt9wE5h7/AMA7gPfsH2z8cYwGfThQKaYiQMIAUZNiBu4gAdhdJd+4/ft2/ePwHce/8c+ZjAsUuv713NNaZ4mLdN/jmeu7W29s3SFf17uywtXZH1Q09U5iox7ORgCuY9wUsnsN81MQqcaip9JX26gupNT6sEI5autz9V11nKyjhysq4XWOKiy66h1VlTmHuY6iqgmOc5h+RMYwiI/Ijn5YDGMYD+v+Xf8Ar/1ztPWOjdz7pk0YbUWqthbLk11TIJtKRUJ2yKCsTx80jDFMnREzl8ydwUOXx8yAI9zFAZKfQz6dvBCDa1/n91V+QOhKJpmKcOnmnePl3u9ekJrYr5mVRILjsOlsVZSbLT2CoKHh62vGA6nXiaD2QRTjBaIyMnu2ep46InE5r+U+PsHP3BBmVVqZloXSrOpwJkEjeaIJTEwnVmT9FZUogQPNQxOyZzlKmJRKEEiA6E3VxstfcWaN4J7yTjW7FWRMnJwTSGlVG6QGMYraFln7OWdODAXum0bs1HKoCX2kj+RQHVRNQsvW5iUr9gjH8LOwj93FTERKNVmMlFyTBdRq9YP2blMjhs7aOElEXCCxCqpKkMQ5SiHxcwaL6yHFHdXTpnepi7/NmrNEV013ZyUbsZrFsLWeapUgvFnhYtrFyUmzl3s69TRQg0490sq7UWFP2imQVAKhjl7vYvJ/lHyB5DkhS11Lc+27xsZCDL7YfhTe0zzyUbMzgj+y95JBdIq/ticgLe4AKKB2UMGOeMYwLRL0dGyapZelxa9dxT1E9p1pyT2Ie1RwG/btkblD1WYgXhyCYTe08aoOEyHACkE7RQoB3Ae8fL1eHTvs2kuYMXzkp9fXW0/ydZMI25y7Bt3Y1jdFZjUmDxpLnTIUrZS6QDNrNRqywm+tfR86UVPcTKlmCXpxOqjFdNbmoSK2rJHZcb+R7WK13tN8ooYG1JmEnpj0rY6hPICfSwMi6Xjp4xwN7dflpB2BRUZJCW0q5EcduO/O7j3YdOblrlf2zpTakE1dEFu7SctlkXCIPIK2VSdYnOZlKMTKIyMJNx63kkoBDlMoidRNQKL3GSV+sD6bblH07JKe2xpRlP8AI7ied67dN7fXok7y/azjjqGVbMdl1mNKsuZo1RMVD84w6CkM5FIyz5GIOf2QjUiAlMYpgEDFEQMUQEDFEo9jFEBDuBgHuAlEBEB7/HwIAH9IUDHIUTFIBjlKJz9/AgCIB5H8SmN4l79zeJTD2+xRH4GeX0X+W3QV6P2rW9tt3JlHd3MDZkHHKbM2NU9T3mWjaCzcJg5V1xQnEtAxajWHjnBSfjUugH19jflTXOUjFFuzbwMsYFsmr6rno4pEE5du7PWMBhL4JahsXmPj27GDzWTL4m7/AAPl3+B7gHx3x92Z6xbpeVRoqfX9S5G7SfplW8WjahxNPbrKEIBkCpPp+xGL7axh8DKKN0jJCURMkb4Aau7H9f8AT/l8YE/naPrbo0qjlLS/BmQWRHzI1fbN2k2ZrJ9wASKrR1Xg5BJUSiBimSJJJgcABQqxO4pBr32R6yzqPWYopa+1Rxy1mmBVQI4Srdjtz4RUKBSHVNYJ87ITIGDzTBNkmQwmEFgVL4gWLlobj7uLk5suC1Ho2iTOwb7YVTFZw8QmmVNs1SDzeSsxJOlG8bCQseiBnMjLyjpqwZt0zqLrlAA78S2XQ5DV+wLlrmWmKrYZWkWOVrElN0exR1uqEm9h3ajJ06rlniVFYudiTroqfSybBVVq7TAFUFDEEphDdTtz1K/WS28DhN1yzkdftHSaiK7LVdLpVKQMgomZEyIKtYRy9TKKZzAKiToixjG8zKmOQhia09oc8+au6TujbV5V78vKbwTGcNJ3aFucRxxMAFOBYtOUSjUSnAAE5EWqZDiAGMUTB3DEvGB7b6QfyjpZ9JvXci+cG8l3j5ys7dLmAAKBlnDg6iyhgAADuc5h7AAd+wZ6mMYDNkfR6k3EP1R+B79t7vup8ltZoh7JikN4PZtFkqJjGKbsl7LhT3uweQoCoBBA4lENbmbS+iVSH2w+rHwNrMcUDOD8g6jNHEUvcKm1qpXloeKnD+6QpWsOr2VP+lI4lUHv49sCwL9XU+aM+kVPIODJFUkd76kaMiqCIGO5K6mHYlRAO4Cr9O2XMAG7FBIqg9+/iGVVOWMfrTuSUPAcduL3FVm7RUsmxNkS+3Jlj5l95rXKJErwUU8EA7nArmYsjtACmApTFSExRN27FrnMBjGMCfd6Ip42AnPlgIk+rMbSjwgf/ufTJheEVR+39z3VEfsP977h9s19+supBoHqV6nuRm4JhfeMFSMRwCZymchWLhcYgQE4mEigIGUEoAUgGT8x8zGAxQJ7vpKOYOleIOy+ft65CbHhdb6wgeNlcvslKTLkQM5Vq18asTMoaLS9x7Nzrws+izjIqMQcP3zpdJsikYypc1U9cLqzyXVr5Tx20I2jt6FqXVcBIa/05DvEUTXFzVXEwvLOZm5PkFlUDSku9OD0kW1Mo1hyKHapOXX6lcDS9jGMBjGMBjGMBjGMBjGMBjGMBjJHXRL9Pdt7qopWPbGyJmyaJ4vQzR5HwOyk4RF5L7DuKSxURi6VGyZm6EjDxHZUZ6cMcrJFwKTBoq4dlcpoSUoT0U/DlAS/mHllyFkSgIeX4XC0KLEwAAeXYXMXJgUTG79+/fxAQ7AIgIiFbnjLM+N9GB072iiZ5DfXKOVKU4GMkeY1+zIoUBERTMLWllUKQwD2ESKFU8ilEqhQ8im53H+jk6X7U5DvLrySkygUgHSVvkM2IcxDFMY3dpW0lClVKBiHKCncAMIpmTMBTAFXrjLW2C9JH0dYsCGkNf7ssKoKAY34ju61N0TkBTy9r2YwjI5SnJ2TUOVYFRDuZI6JxAwd1RHpxOiBrD2XFh4zVR6il4j32RtK4qILGUKYiZlTObXGicTGIuKZAUKkc5j9kzAggVAKij/v/X8Pn/H/ANM9hFo6cdvYbOFu/ft7SKinft9wDwIbuIfv/h2HLeR7wk9OxxxVRfTuruAVJVbGICf5tttSmlPJj2T+nO0slpmDLmTMQBcNVEFBVUAVXCR1BE+ffZc0PT2awIr+A7a6dNcBoIEOlVo/VRjp9/kfbShIhUx+3fsf2gOICIkP+oDBgVCTKq2iSP7cdXJ5+fuAeDKHkXR+49/EPFBuobuYSm7B2+ew/wABzu+ncPuWWw3LZpReMm/7cu7KB2xa9qDYEqRchgASqJqtK+qkJDAICBvPxMA9wHtlq9PddPoP65IIl5IaFFdqB1G7amazlZlcyoJiJQbHgaUs3Ior4gmCh3KKfcwAqqQvcwY9Tnqx+jTSVzRsPa9yzZPcExz0vSLoY4TAXsCvvO5iHRU8gKUv6CnVL+nyIUvzgV79X6J3VkuSKbmv8BOSTxoqJQB4tQHzBsTy8O4KKvztgKcgKAKiXb3idjlFPzTUAuWNF9Md1mL0ii5JxY/KaCgFFT88bAotacNwOQTlBVk8nBeHN2AQMCCK3tmECK+BvgJZuwfWg9P+vprf2f8AH7kpsNUDim3K6aUimpKCURAVllJCwyR0W5g7CkKaThwcR7KtkO3lmIFm9blXiHWCm8D5l2mAmFA9m28xjznAAHxBZOKq0mVLzMICYSKq+2UogAKCfumGnyC9It1c5YxSvoHRNe7/AHNLbaaqlKPbv2EYqHkTCHcSl7lKP/iH7F7m7qrfo0epTIqkLZdscY62iJgA6ja126eUIQfDuIJJVGPA5g7qdygqBe5UwA4goYU8tJ71t24F0zlrfBjXUYr3OJVZfbNilSCHYAT80WlYihAQMAmMALCAgJSgIAUTG6Mm/Wnc6nJz/gHGXjRFJnEwl/EDbDlVUyiICXsdOzxxDmIAiUTGSEoiBTCTt3KYOxa36Jjk07KgraOa2k4Uoj/rDWM13dplwUAMYBBJdWUj0B7gBPExgHt5G7k7kAD5QUX0R1OKKJtl87rKoBROK6dG1FFpeYAYBSImrPWdUSAJe5VTmSOICACQv6+xNTtq9YT1V5oqha7HceKcYw9yHZayUmfbDuYfEAnJl4U5fkAHyAT+JC/rA3mY+JF79Tn1mr0LsR5Ukp4OzeQlomuNf1wG/wCoBAGolgHRkSgUvh2ARESmN3Ex/E5Qlm0r0YHT+hzkNd9/ckbqUBKJiR7um1HzAAP3KIpQc2JSmMYvl4+J/AgFA5TCY5uI8zegT0B+m3x2tPITkqXdDmt19qLKFiXe3nv5tvdndeQRNbq8XFMY362VfLiRI6pG/wBEwb+T1+KaKZhNCpsvWr6rtvkEJOf55chXLxs5bO0jNLgEUh7zRUqyHvMohpHsl0gMHZRsu3VbLpGOg4SURVUTNjJyZ5vctuZUjCynKLf+x91uq4Z2eBTus2LthDqPhAXi0dFNUmkU0cOAKUijhFmRYyQAj5+0AEwOktnS1Enth3WZ1hVJGi67k7LLvKTT5abUskpXKys8VPERMjOrIt1JR40Zikm4dmSD3FQN2OoUAUPwXGMBjGMBncWgLzrXWm4aJfNu6mb7019VZpOYsGqH1leVGMuxGaSqjKIl5uPYyD1CGUkAaqyzRugCkiwTcR/1DcrkVidO4wJjP/vlXL2tsIit6r4icY9c0evRrKFr1OZqW97FwcRHNUmbCNjCs3UGi0aNUUilRQSbAkmQCJEIBS/q4lNesu6lDxNYsJqbjHCnOYRSVcVW3S4ok79wL4ntzMqpgD9PkYA7/fx75ETzzSTMsomiQPI6qhEiF/8AMdQwEKX4+fkwgHx8/PxgXYnEnlBsDcHTG1Zy62SeFYbGtvGJ5uCyqRDEI+CaT6NWlZw5mMc5Wcg3YpKNEhSbrrr/AKA8VDn8u5qwLY3qPesXsJxJCPMu7VRo9WcAilRoWqU9Rq2UMoCREFYWFQOgomkcAKoicqhTkKcpwMUpsnz8qdiNeEvpvF3Eq6LXp6L4I0HV8MmY4IuhvWwqHD1pu1aJG7GVdJyE08eGQKAnBBq4UEBKmcQqTu4/xwO+N5coeRnJqbJY+QW7tm7imEzmVQdbAuE1YyNVDB2MoyaP3SrJkdQP0nM0boioHwcRDOh8YwGMYwGMYwPIh/A5FAApvAxTgU5QOmbxMBuxyD8HKPbsJR+BARAe4Dkujhn6u3lBxf1lSNL2jinx4u+uKBBRFWqzShpzGoXkNBxTVNqQpGESE5APXawkM6cqFjo76pyqqoqoVVU6xoiuMCwIgvW6VkPEbNwJnDfBROWC3THp9h7B5gVSQpankBTeXiYUiiYO3kUnYc9ux+tzpgtFvyjwMs5HwgPsfmPccUo17ikIlBYYyoJrCUi4AQRJ29xMRU8UjkBM9fZjAmpbB9axy7mPcT1vxJ0VSSAYwIuZ+03G5LmJ2N4GXQIlX0QP38BMRM4lAoGIBhEwKkwnv/q4ertcUVUYC0aT1uKgCBVqjqdg6XSAyYE/ZGtklZCh27CoUTEMJVB8gHt2LkYXGBsQ5FdWXqNcrPfQ3fy+3VaIhf8ASatsLfIVeslIBxU9ksHWlIpgdD3P1mRVSUTE4CYS+QmEdfLt8+fqmWfPHT1Y5jHOq7cLOVTHOIiY5lFjnOYxhERMYREREREREc9XGAxjGAxjGAy586KSUJP9Ifgq2ZmB1CynHCvMFRACF90i4ybSRTECHVIBgcC6THsYweQG+w9yhTB5bJelP3+junpDamqi75N1O6Au2wtQybUpSkOxjm8+tbqymoBCkARVg7Q2MBuwmMJTCc51PI5gq9eXWtZPTnKfkZquYbqNZLX+7dm1Vy3VIZNRIYi4S7RIpyG+QEUCJmEB7h89wEQ7DmO+SRvVN8P5XjJ1UNi7AaxijbX/ACmhYrddVfpoCRmeecJhA7AjCnFRXzeNbJFqSjnz9oRTm25iJFTEphjc4DGMYDGMYE2n0zPQe1byPTh+d/LWQ19sLX0Q9E2n9BR9nr9pPLzbNRUhrTt+Ii3r0YpgxOmcYSlS5EJB+uT8Tl2yLJFs3dyWOQ/pfekRyAmHthbaLmdJTUiqou7W0dbn9OijKrCY6hkaw7SmK00MZU5lRFpEoB5G8AKCRSJlqjdYbs3FpKbTsentpbA1fPJKgqSWoVunaq99wAKAHUWhXzMyoiUhSG93zAxA8DAJO4ZszoXX36wWumzRhA87dxvI9kIeyxtCtctqXYvj2KovYoGSfKE7lKIkM7Ehu5gOUwHUAwTKbl6LPgzLOnKtK5Nci6c2UEwtmskzo9sO2AwCIAdwaNgxceJuwAPtpd0/IogJxBUvVK/ojuOpjCLfnbulEn/lW1LRnB+3kce3mSxti9/AUy9/Dt5FOft4nKmnHAifVI9ZuKTAg8ka9JeIF7HltT69dnASFEpTGEsKkBhAviBgMAkVEoKLEUVE6hvvOfVW9Zx15eW+qCj5AAd22ldeN/HsH3KCUSAAI/cR7CIj9/j4wJFSXokeNZTkMrzl3eoUDlE5A1dRCAcgCAnKAlmzGKJg+Cn+fEe4+Jg+M53C+ir4WMxKM3yr5CzRQFXuCEHR4kTAbxFP5Ig8ADJG79xAvY6YlL4lMUVDRZ5z1PfWbmwMH+lI0hxMmQgmg9Za9YCApmA5VSgMAsUinwBTdi+2qURBYhwHtnTU/wCoV6ytgOv9Rzv2xHJLgYp20KxpMQiBDiURTILSrEXKXuXv/thN4mOTy9ofAAm1QHo3umBHFRGbvvJ+wrEOIq+d9q8W2WKJQD2/YZ0oyxAAwGMAld+XYSh3ESiJu76/6Tzo41sUDTWvdp2UqYD5FsO5bE0KuIgQAFUYc0QYB8iiYATMn/tDB9vDtXSWfq89T24+7+P86uSjj3g/X9FsydhfnumPcn4IvHe0fukQfNPwN8G/V+s3l0JZubPMa5FMnbOVHISypnDsYs1uG/SID8AXsIOp1QO3Ypft8fAfHwHYLSMegp0D9EMAlLxonS8NGtkjKKSG4NvyRmQpABEDHXc2y5N0DABylDzE4CCxzeIgdQQH7NV316bziMRWDqV26cmtVGSiAinHM9eTkmkqmQxEVG7/APD52SOYCeRBWbOjCfx7KHMYodqlCdvt5tHuBZbnarCCxhMqWbsMtKlUMYwHMJivna5R8jh5j3D5MAGH9XznE8C3PtHqHuhlqFNZtE8iNeyREhECN9W6sn5tuubsoJASNBVZNr2OZLxA6hiEIJkxVEgHKOYiXv1hXS1qJDoUqp8hb+sRYSFCKoERW2B0gIcfeBxN2BusHc/tlKmLADCChzCICmBD1deMCcv1HvWCO938e7bp7g/qPYWjL9eAVgZbcdym4F9K1+nPWy6EuNLYRBPdi7U+TOVo1mV1VDxKKqztiJH6TZUsHF68dyTx1ISDpw+fvnKzx68drKOHTt24UMq4cuF1jHVWXXVOdVVZQ5lFFDGOcxjGER9bGAxjGAxjO9OMmgbryl3/AKj49a8aKvbhtu9QFLiSpJip9MMu+TRdyKpQDxBvFsfqX7g5xKmVJscVDkIBjFCwO9MPruu8BekJyc6hu2AJDstiubfsVBy9TIiopr3UEO8hoBFuocUiuU7BajSyEekJwMd4r7JB7qB3r4uRO6rTyN3ttzfF2dKu7TtrYNovcwssqZY5F7DLOXyLQFTgQx02LZVuxRMYhTCi2T7lAe+ThfU18l6NwT4I8XOjRx+myoLkoVNd7XLHOQK8a64piSKMExlzJGK4F3f7S1ez0gi8ApnbBp7i4OReGMlAVwGMYwGfUg4z8amYiH+sYxwy0pHxn4hJukGMawF+7RaA8kHrlRFszZNRW9526cLJIIIEUVVVImQxg+XjAmb9Z/rmUuocW6n0guBTuLldY641RVtJ8gt2MTs38JYlalExMZK6+1S5bnVReQjeVjXRJ66pnKi/VIVhAC4Zg4kl4ZGMYDGMYDGMYDNonTr6PnN7qdTEonxv10mSkV9cjSxbYvLh1WtbRD1QDGJHDP8A0Ts0jKnIRQxY6KbPXIAmoJyplTUMTpfhdxv1ZuOw2HYXI7bcLpvjRqIjKX2lOEkY51si2mclcrxGuNTUwzksnYbpbzMnLNq+FunCQDRN3LSr0pWhGy+/2S9Vpt3QutK9x86c/FPSvGXSdBZIQ1OUtDFe93B2zZpIIhMT7cq0bXVZ2ZOko8m3KraRcLulhMR8UChgZ+an9EnNuoVNbd/ONjEzyzUVDMdZ6rVl49g6MACm3UeWWxxqj4hP1EWXSRagIj5JJiUA849XWN6G+/ukVZajK2e1RO39EbJfvIqi7agYx1CnSnWTcXjiq2+BcLPBhJwGQGdsVUX7phLtkHSzNQp2rlujv+6NnqkuZ++ebGoeM3M9pra/0Tflsa0CDuFRpTOi2ij2yZTWRrKpG8AJYmchZCX+mjZJB+yI9bpuiPm8gX6ZVs62gesV27rWsdNep6gn14pfZe0N5UqUoMct9OpMM4+lfXSVpm2iZyHXbMwYrpRDh2kKAHO/I0MqcFjJHCsBxjGAxjGAyad6K3bCcBy+5U6dXdIol2No2DtjJsor4KPJDX1tTQMRBMQ/aHSj7Y9WP49hKimcwgIBkLHN1/p5OSyXF3q38TrZIuyM63sC1PtJWdZTzOmWN2vGOKswOZMg+Jzp2J1CHTOp+hAwfUCJRS8gCUN62Hj2rL6p4b8oI9kusal3C9aasr0iQi3aR1yjmFrrRV1SiIFOtI1ubTSKoAFATH8DeRjFGvKy5G6+fD+R5p9LbkvrOsxwyl+p1cS3Hr1mmkVV07s2sFD2Q8az8vkjiZg0JiIT8CnUOL0EkyCY4dqbtRNRI50lUzpqJnOmomoUxDpnIIlOQ5TAAlOUweJiGABKICAgAgIYHjjGMBjGc41rrW+bivdX1hrCqzN4v9zk04arVWvs1H0vNSSpFFgbtGyYCY3tt0V3K6phKk2aoLOVzpoIqHKHB/8At/QfxD+A/vD5xll/0yfSrcZahwqssPzzp0LsXkpvmq/UOZqIknah+PaUjHGPBx9Cl2Dtu1d2iHWcIv5qYKRaPfP0hj0QcRyKaykDDqPdP3dPTY5SXnjbuSLcAMS7XlteXMjc6cJsrXbx24Tr1xg1hAUzpu0ERbSrMpjKRM03fxixjGbgooGB/wAf8v8A0zzOmoQCmOmchVA8kzGIJQUKHx3IIh+ooCPyJRH5+45v+6afTY03DavlOo31Rl5XV/Cijomf6koDxwhD3bmJfGTdV81pevYpwuhKPaoicjYkvOkI2YvlVhZNXSjZrNKsdaPO3mRK8092PNgt9d0nS+sa2yCpaZ0nrqFj4aqax15Hq+MTDEFi1aqTtgdJESeWi0SJVJCcljKrnFBom0aNgwsxjGAxjGAxjGBkTxF1BIb+5ScetKxbX615s7cOv6cVqJROC6E1Zo5q8TEoAPcBZGcd+4CAfcewd8sUfV8bzjtG9MzUnGCuOAaLbs2fUq8iyIuKDkKJp2MQnnPYqXYF2oSKVZZOkRAqRgcEER7E9s8YH0pfFZ5yE6qdK2G9jVHdN4yU6xbbmnhkvcao2FZItXpbVYe3j7i8pLrvm4gYDJqxhVQAQKYM5x6tHmcbkf1JFdIV6SI6ofEunNNeJJt1PJuvsKwHLYr06N4mMkqszMvEQgqAAKJHjF2ygAKRgwIteMYwGMYwGMYwGMYwPIyhzFKUxzmKTv4FMYRKXv27+ICPYvfsHfsAd+wfwzPDgnwdsfL+6TsxYrIw1Hxr1GxJcOQ3IC1FM1qWu6SzUKq8bt3S3gjL3KaRKdlWq40Os9ePlkVTofTkMJuR8AeAVh5fWKx32+2RtpbiHpZFGycjORVmSMhXKdXEhFUtcrfu+BbNsOzCQsbXa5HnVcgu5K+dkI2SKRxz/qB896duSErXFLiBS3Gj+CWm3635IopBIjadu2huQ7JzuLckkiIuLBaZsgKuY1g9VUbQTR37RUCu+wNg5N1J+pSTknAa74j8aomQ1NwD41N/y9pnWiSpmsle3zUTkf7Y2cDcSFlbZZ3h3Emm1dCulEpuCFJ4rFIRtqFxjAYx/wAP+P8A6f49h7f4/vFgMkydGL1IfITpvK1jRu7UZfffD1u5+kSqjh4Q2wNUtXaggo+1zOvxODqGZHODhWkSipYw6RFE4Z1DLqnOtGbxgXhPDTntxI6hmrSbK4x7WrGzK+oik2s1aMqi3t1ReO0AVPCXanPhCUhnYpmMHi7amZO0wMZm5cpAYwR/OtZ6efpl7L1ftvl+W5wHAm31GElbhctgwUazDUU+5SIquULFrlFeORLNTUgom0bq01RnLyb5yi1RjJN0o3TLWy6E5H744t3+N2jx52xddQ36JUTO0sdKm3EU5UKmqRYGsg2KY8fMMDqJkMtGyzR9HuAL4rtlCdyjnz1C+tLzn6mVE1JrjklfIxaoarjB+ogqXEkqsRsC3C6cCS+3aLYKgxkbC2jTtoxkkgihFx4IOXzNig8knSghqok2zVnJSDRhIJyzFo+dtmcoi3ctUZNqg4USbyCLZ4mk7bJPESEcpoOkknKJVQTXTIqUxQ9H57/b+v8AD/n3/wCPzjP3aO3LB02fM1lWztm4RdtXKQiVVBy3VKsgskb7lVRVIRQpg+QMADgS0ekb6XTa3PHjVe+RvIi2TnHqBvlFXNxSjTxpHE7ZrAq5QcsNj3WFdETcM9bum7ZWNiWJDtpmwISh7C0M3YMY40vpm2t0fOeGnubtW4C2vTsopu6/zyUZrx1FlVf0i9QK6x/G71y0pogxdVdsyTUfyrhQUXkIVNVlLNGcgmZrkyvoLepyqm5GdG4c9QSbhqPtdmyiKpqvf7grKGp2yDNypR0ZW76k3Sax1VuB0yt0WE0ik3r86YBScljJAUwfTPZ6lVqxyEXZ1oaBVuNeYTDemXN1Cx0nN1U86xMzeuISQcpGctUnaQpg8QbOEUnyRASXExB7gFWB1EiUPotaXddNDjHc4+08qdzUiPe9QPkVEgVOej4yZSTcseO+unyCiqtWqSrNRQ1xTbOglppmoRlLrKpv3CCEZfN2/W76Y/Nfgvym2LsPkqMjtOmbsv1itdS5JRbd24rN7dzL1eQNGzRzgoNXtrBuoRBesv1fAjZBM8Ou8YEKdLSRgMYxgMYxgMmC+jq4pF2Rzd2nyssbAgU/jTrJ+wiJR6QhY9O+bCKeNTMC64FRTXiau3mZBRcqoKM/fbHUAqbgDhENhYWWsUvF1+Bj3cxOTcgziYmKj0FHT6Rk5BdNqyYtG6RRUXcunCyaKKRCiY6hylAPkMnL8idyxXp9ejDS+DVEkGEf1CeaUE7u+6Vo5cPzBq2CubBBrLPH6qJknDJ/GV8iVPrSbhMFwdrSsgmUqaKCiYaGvUNc6I7nd1Mdw3CnyxpbVupTJaS1q4TUMZi8iaQ7eN5ucZkEQTFOcsqso7KuQnddsVoHuLIpIKDo6zyOc6pzqKHMoooYx1FDmE5znOImOc5jCJjGMYRMYxhETCIiIiI544DGMYHkU5ygcCmMUFC+BwKYQA5AMU4FOACAGL5kIfxHuHkQpu3coCHjjGAxjGAxjGAxjGAxjGAxjGAxjGBu1o/qIOrJq/XlP1VrDkbHa5oVDgY6tVWuU3VmsYeNiIiKbJNWbdszJVVGqfYiZjre2gmRddZdwsQyxinL60t6iXrJzHy65wbER+RN/wDD4OiRnYfIDh/9Pqrb4KIfpD7AURIPcoiGaU8YG3J914urtIAUF+du70/bMYxRaTMezHyEwnHy+kjUvIoiYexTdygHYAACgAZwCb6zPVTsCQt5HntyY9k3ugcjLZk5GAoVb2/Min4cu2E6fZMAKmYRIQoqFKAAqcDazMYGXdn5+84LoK42nltyHmhc+Xv/AFm2rqIK+XueQGBOYTDsb3VPIoAAG8h7gPYO3R0vubcFgIqnPbX2VNpr9vfTl71aJIi3ZIEQ90ryUWKp2RAEg8wN2SAEw/QHbOtcYHmoooqcyipzqKG+THUMY5zD9u5jGERH4+Pkc8MYwGMYAPLsAAIiIgAAHyIiI/AAAfcR+AAPnv8Az74DGe09ZPI145j5Fm6YP2SyrV6yeoKtXbRygcyardy2XImsgukoUU1UVSFUIcBKcpRD49XAYxjAYxjAf9fvjGMBjGMBjGMBjGMBmf8A0ueHdk5287eO3HKBZqLx9q2BCyl5dlTMojEa7rT1Gcukk6EoD7SJIRm5bAfsIgu5RApTm8SGwAyRP0wecej+kTxZ2dy0qjitba6g3I1jOas0PRAUI8iNA63h3p2tj2Tsg6IHOhI2GwINxgKmRVs/nmEOkdc7CNVGQOG2f1hHPOLkbPpTpt6rn01KtqWPi9g7hYxzsiqRbMWM/C6BVpL2RBM68FBmXl3CBy+bd2+bF8UlE1SDBxzsXbm2Ngb12Zd9wbUskhb9ibEsMjabbY5NUVXknMSaxlnCphERBFBPuVBq2S8UGjVJFs3IRFFMheusBjGMBjGMBjGMBjGP5B8/YfuPf+f9fv7fw+4M5LV6Zb7vJJQ1Mq1itkusciaMZW4WRm36iigiCZCNI1s5XEx/E3gUE+5hKIB9h7SgujL0LdSbnoBOb3VG2BGcdOHwJFdazgrfdIfXU5uk6CokcS4rzKqEmyo6Z/BNo4jkRkrGf3ixoJtClf5Jji+t/wCnT6b8E115xkjKzOpwSZGHu8d9OlsD16kkVJAXLrYM6nDFmTLgmKygGsC/ZT3DeykKgAIQMNddFzqr7WiQnKLwQ5DSkYKZ1SryFNPWlDpkEAMZNpaHMM9U7iPYgEbmFUQEEwMJTdsTeQPEjk7xTmW8ByO0Ts7TMk9OonHkvtTlIRnKKJFAyxYqVXQGJlBRKYPd/D3rkUxEQP4mKYAs8OPXqvOlLvrY9f1q8sG29MvrPKMoSGsm3KMxiKepJSLlNoxQkJyvWGxpwyK66qZBfSqTOPb+Xk5dIEAxg2i9Vbi3pLmHwH5Ga63HEV6Tgm+qLfdqpbJBBouvSLVVq+9sNcuUDKmKdRgsweMkVFl2axCvI5Vy1UE6DgwCFKDjP1XTKiuskU4KFSVUSBQPgDgmcxAOAfuA4B5B/Ltn5YDGMYDGMYDJnfo5edsVqHk/tnhNeJUGMByUhGtv1mo6WIm0LtWhN1/rIZP3VS+Lq0VBd2dAqSRzuHNebomMTuUDQxM7F1Dte96L2hQNyawnnVY2FrO1wt0p8+yN2cRk9APkZBg5KHcAUT91EE10TD4Lt1FUVA8TjgWyvqKOlk86mHCR9/ZqyTW5G8e3ErsrT6IEL7lrQKwFO4a5FQSGUKraYxsirDCBykLYoyKIsPsLL5UbzEPK16Wk4GdjXsPNwsg8ipeJkmyrOQjJOPcKNHzB60XKRds7aOUlUHCCxSqJKkMQ5QMUQy5K6N/Vp091WeM8Ne4CVhoHftIjouH3/qMrkqMtVLQZuCY2GIYLn+pfUa0LIuHkBLoe+gif6iHeKJSLFVI2r7rf+mg1r1AZWycmeJ72t6Z5ZSP+v26GkEQj9Z7rdpogmZ5Pfh7c56xd3JSE961NmrptMKlA840O6OeSwKuTGZo8uOnjzO4NW5zUOTnH3YetVk1lCMLG9gnchR59EiqiRHdfusWm6rcq3WMkoZIG8h7/AIlN5oEEogGF3/L938/8f4CH8hH7/wCQMYxgMYxgMYxgMYxgMYzOHiLwR2fythdq7LLIstV8d9D1KUt25OQd0jn5qHUiM2ZlYqqxxkhb/mi/Wd6doxg6fEvBklCOfxB2DWPRO4EMHsZ5HACnOUpgUKBjAU4AJSnKAiAHApgKYAMHYQAxSmAB+QAQ7Z44DGMYDGMYDGMYDJmXpsOMmuuJWmuQvW+5ZR54vWuiKhZa1oBpJFK3WstoWbizsU9BJLJqHdPXRzp0mvGbpGWO/kZNdEToIHItHA6a/A/ZHUa5daw4za8RWbo2SUTlb7ZwTMdnS9dQ6yLi1WN6oIe2iKDETNY8FB/1iUdM25CqnUKmbdX6ibqEa6k1NYdKHhvIpR3EjhZHx1Rs6sGsQkZsPaVdQOzequTtg9uRZVp0d2K5zqOSObM5k3pjAqQCEDQVza5Z7E5xcodv8ntnO1lbLtG1PpdCPOsZZvXYBM4t69Wo8BESosISJTbM0k0/EhjkVWHuosc5sVsYwGMYwGMYwGMYwGMYwGMYwGMZsY4KcIWW/VbNvbkLYJXSvB/Sn0kpureDqNOUks5VOqeK1NqxJ4ZsW6bUuSjRdjGwUIZ6rEJD+IzX4e2UaKrhn50IuOFMpWzXvVP5UThNecRuD0iF1bSz4opye2t0R7dRSla4oDRQoKT0uhJHTkn6bEFQbGbN0VhKKp0xwX6qvUr2z1Q+VNp33sBZ/E1BoZav6i10q8FxH6+ojdyqqwjESEMLc0q+Mc0hOPUw7u5BY4lN7KaJS/C54c75TlM/qWqNYV7+xvhxotFav8etAw65SRsLGJ+aLi9XZdBNEbXs+3GFWRsNikgcKtfqhiIwUWCBvqNeGAxjGAxjGAzkNRtEzSLVWrlXXajCfqc/EWSEeoqHSVaSsI/byUe4IomZNQhkXTdI/chym/T8DnHsYF3d03OYlO598I9Ccl6w5bOR2DQYxveIohimPAbCh2hIa+1x4iUTESOzsDZ8CafkYp2KzVQDnIoBsrF/UZdMGQ6dXOq0TVOiVUuOvJB9M7Q1C+RbmKxgH7979TddeKrFSTbEc1mZdnXjkE+wmrsjFmABOmsJc8/SjdWVHinyDf8AB/dtsQitB8kJlJ5r+WnX5W0Pr3dvsptGvm6dqJs4uG2CxRQiJJysqg2Rmo+EWVECuF1U+X+qG63Gk+ar1hwb42QFS2JrbT98NYrlyCfRqT51I7DhE5CGUhNPSvmVVtVGaLp41n7KkIt7cuKaDBJWIYt5B+ENfGMYDOZ0HYt91ZY0rhra42Ki2pCPmIlCwVWWewsujGz8W6hZlmR8wWRcFbyMW+ds3JCnADoqnAOxylMHDMYFh16WDrhDsKIrvTS5T2twveoBkqjxi2NYpIFlbXAMyAobUMw+eqfUKz8KgCi9LXVUXPJxSa0KJwcsWCbmTZ1IelVxW6m1e1Yy5DVd46mtNX2Eu1Ws1eFq3sTmEZyTV5a9dvXDlMybyq3lg1+gkmCxiAg8IykW6ySjdQi9RN0/eMfILlxy30vpvjIEsx2zJXKHm4W2xSjlr/Z6jXn7eVc397JNDpqRrSrEbBKfVgsiYFkEUyKkOoBi3E3DzmbonkJLbT0FQt1Ru4Ny8SnVU1nvmVboJMVJO4lrbA0lZ2DdFQ6LyLfzScmydumQqNmc4yfxqhiqIlA4VU/W55/7X5m8tbLQpyoSmltJcZJSU07pHju5jQgUtaQVTcnhXKkvCpdkSWeWUZAs+WKXxRaFZs0BMRJRdzpkyfl6uXpHNgatep1oWoGI4IrHVrlZFQTM5wWIqdvGVLbbhq2IYSmSMLes2x94ETKl+CyDo/YrlUIBuAxjGAxjGAxjM5um5wwt3P3mfo3jDVEXAI3u3sFLjKIomWJX6BDrEkrlNriH6UiNINB0VJRTyKVyqgIpq/7IwTaOhhTIbpBdD7kh1LdssEY6/buhH13pLB+RJJ49gIhF3W9PwKBFwKooNmtDxxNqtg8PdaqpioT2mxXI19OzNi23buw7ttK+Sis1dNhWibuFolVxUMo+m7A/XkpBYPcUVUKmLhwcqJDKqCmiUifmbx75MQ9Vvz+o/wBRpfpS8cJpoTVPGeJrrjbDOAWIMZ+bYGDbQ1Go6gtVPYU/KEIKj6RanIb2pZ82AopmbG96FvgMYxgMYxgMYxgMzk6cfBrYXUV5d6r4sa9VPHOLrIqvrXZfaBVGnUOFAju1WdwUwCQwR7ExUmiZymKtIumSBimBUQzBvM7Onb1Ct7dM7kVHck+PydUfWxCuTNQloO7RKsvXJ+szwtDyMc8Rau2D9uoKzJo4bPWD1s4QWRD5USMomcLDbqYenn2DvDhfxn4N8B9n610Ro/Tkk9sOyq7eGM8k83BcxbMEIu6WiZrjKRWk5FkulJPwav25yJvHyaia/Zoh7ej+p+ih5VvFSFunL/RsEiY5AOev1S62JQiYnMBjAm8JAlOcqYEMUnuFAxhMQTFAoGNwyV9aZzjdRySEVxl47xcmVMSqyDiQuskiooIdvdKwM9aAkAG8jAmLs4d/HuJgA3njhbPV+9WCwe6WFT4800pvMEhhtXuXqqJRFTx8jztjkyLHADE8jCkUhhTKIJl7mAQ2v030RsMmugOwOeEm8bAYv1JKbqFrHLnJ8eZUFZu0SpCGN8iU6iCgF8QAyZ/c7p+xyq9Pj0WeknoSZ5K8zN0cgN2pQSqKVJ1cNjrdMmNt3EyZvwulRERWYcz0zKQdEBaak1HzZnDRKbxy7flAqKSsei/+po6y2wEVWyvKxxUUFBP4hQqJR6oukUwnHwI9YQYPR8PIoFMdwdQPAgeXYygH1F7/AOU/I/lRZi3DkbuvZG5rGmKooSN+tMnOgyFc51Fvw9k5XFhHAqc4iqDBo2BQPAp/IqZCkDj++NkVvbe27xsGm6tpulKhYZg61V1ZQiSH5ZpVdapJMYWEaOpd5ISso7bRzZt+KzUk8VeTMqZ5Jrgkd0KROo8YwGMYwGMYwGMZymkLUxtcay42IxsMpREJuNWt0bU3zCMs0hXk3SZ5VnBSMo0fR7CTctAURaO3jJ03brHKqogqBfAQ2p9LTg/Qtu2CX5b8vrCXVfA3jdItbBs65y6Z2iu1rTHFPJwWjtZlXFI1muVoctUkpFlEfVrRMQZw6fAzSUK5TlM8F/V+Uya5UWfV/KHWEZqviHabHF1vQ91rjd08ntKVti2bwUG12a2RUcfmCAeJN2r2VmYtuR7W1F3Cgt30Ygb2YenOXnnKcq2+ttR65pDXRvEbQEcvB6C0FDvAft66i6KUJe43OaBJFS37KtixTPLLaXifvOFDg1Q8GiKJA164F6nsvV/HLnBoJ9SNhQNG3xoLbtdQdFSUVbT1ZsUO+RFWPmoOWYKmM3dIgf34uaiXbd+wcACrVyisQe1U914+itZekxvKKkqbO/nPi1ueRnHWm56Rkmi9yq60eqRw+19dmRfp3TmQhGrpuaMtDdmEbYY8PcOdrKt3zJPtPokeoY3D0tELNp/aEVYN7cWZiJsEtW9eGmTJT+udhfh6jiIdUeUkTroRlYscmi3Y2uAFIzFMHRrBGpIySLpOS1PdQbqD8h+pLyFsfIPkJZVn0i+MrH0uksHTr8na0qJHCq0dVKlHLHFJs1bgp5yEgKZX82+FV/IKGVOmRIMG8YxgM/oAJhAAARERAAAA7iIj8AAAH3ER+wB+/wCADBSmOYClATGMYClKUBEREwgAFKUPkREewAAfIiPYPv2yRnoHjZxi6WGiqfzO6g9VR2by82FEtrhxL4GTyZWxoGPWSB3WdwciotUDPYCJOYzOYg6fKtkpJygdqd/Ht3IlbnDjfBTXGsulpSa51Jea1PCa3NJM1nvA7ijPtiJzNys5kRM033sSJXAXcBrmpH8FoFWRSbnm5I5Po0V3H0YE028n+TO4OYG8b7yF3ranlv2PsKXWlJeQcnU+mYtxOcGEJENjnOWPhYlsJWkawREE0ESCYfJU6qh/15Q8n9x8wdz2ze28rQ4tF4tTkvcRAG8VAQ7XyTiaxWoxPs1ha7CNRBpFxbJNJu2RL3AoqHUObHzAYxjAYxjAYxjAYxjAYxjAYxjAYxjAYxjAYxjAYxjAYxjAYxmRnFLinu3mlvKkceuP9Pd3DYd5lG7FoimAoxUIwOsmm+sdmlDh9LCV2IROLmSlHhyIoplBMnuOFUkVAxz/AM/8ew9v8/t3/l98ZZtyPpLeH8V04JrTLePCwc42tJkbJHcj2spOMivdqt25pFpW20Cq6UjC69dOUS11Ns4jfxT6VwMsddJ1/q5a0y7Uu0a5uNpoF2hn9duFKsEvVrPAyaB2shDzsE+WjZSOdt1AKdNdq8bqpHAQHuJRMUTFEBwOLj3/AOQ/f/sIf7vj9/2HN/8AoviDqrp08ZaV1E+dtWRt229kpmk+DnDmeIVuS3SCAKkY7v3XEugI6NratuzIS0PWlCIpWN+yboyAPmiqkYp7/Sd4M6mpmrbh1YufcaZvxB49vRHVutJFIrWU5Rbpam8q3TK8i8FMH1aj5NIp5p0kRRBVZIUzKg2aPQNq553829v8/uRVw5A7dkPBzLqli6ZTmKhk61rmiRxjI1yk1aOAQbMIqHYFRb+LdJL6hUhllO4iQpAxy2hsm37j2PedrX+UPNXXYlpm7jaJQ5Sp/VzU/ILyL46SJOyTZsRZwKTRoiUiDRqmi2QIRFIhQ4JjGAxjGAxjGAxjGAxjGAxjGAxjGAxjGAxjGAxjGAxjGAxjGAz3Y2QcxMiwlWQoA8jHrWQZi5Zs5BsDpkum5QFwwkEHTB8gCqRPdZvWzhm5T8kXKCqJ1EzeljAyI5DcsOQ3Kmzja98bTst8eIkTbxES8dFYVOsxzZMqDGHqlRi02lcrUPHNU0mjJhERrVJFukQvY5/I5sd/+v3/AJ4zIfi/xU3vzH21XtKce6BMX69WFwkT6ePSEkXBR5lAK6nrLLqAVlBwMckCjh9JPlUk00UlPbBVUCpGDrvU2qtg7w2RTNS6qrErcthX+fj63VK3CtVnchJy0iuVFBJJJEhzlST7is5XEvttm6Sq6pgTTMITR+tb1tJPSfDXWXSS0HsYmwdtVjSVE1VzB3rESH1zNvIwNajYmya4rEwkqoEnJvF2qrO0zCKp00kSqMG6hzKHWV1K792Xx46Q2tbZxT4e2+E3Nzvu0G5q3JfmZXVDmidNRkm3BGxac47SqKhV2skcBNHWm+MlUnpwSMjHOSEERWjyuXLh44Xdu11nTt0sq5cuXKp13Dlwucyqy66ypjKLLLKGMoqqoYx1DmMc5hMIiIfjjGMBjGMBjGMBjGMDI3ivyy5AcK9yVnfHG7Y07rbYtYcEOjIRS4jHzUcKhDu4Czw6wmjrDXpEpATfRMmg4bKABFkypOkUF0rB7p3esA4ubfh4Wk89qu945bOApGjnY9TjJO1acnViJpAEg6bNfrLVTlHKgqidooznGCJgL2kSJn/Z1qn9f1/mOMC8p1jyK4Y82qSJ9Y7U0VyLpUwkdFxFR03VLq2WIoTwWbSFdeHcukVAARSWQeR6ahDgZI5QMUxQrzfUubz6TFWv0/xd4UcRtFH5Bxssh/bZyHo0fK1uK1/JRjwFhotJjKpOxVVlrKY5DJWl86hXkPHIqGjCN3b866jOJPXrXaKi+JJ1OyT9Ykk/lOQr0xIwr4g/HyR3GuWzgv2D+6oH2D+GfJevXkk8dyMi7cv5B+5Xevnz1dV08evHSp13Tt26XOou4cuVlFFl11jnVWVOdRQ5jmMIh62MYwGMYwGd78aONO6uXu6qNx+4+0aY2FtDYEonHQkFEtzqEbIFEDyM5NPPEW8NXYNmCkhNzUgdFjHMkVFV1S/oKbojNt/SQ6u23eknuCf2LrXWer9lwN/ax0HsaEuEGmha5CsslzLmjKpsFkATtWAy5iPztUwexD6QaMVZGNdEbgXA2x88/SRc0OMGoInb3H+5QnKksLUI6S2vrurQ72Gv9fnW0Sg4s7mjRjhRwnfK43kAeBHJNjR9mUZIkUNCrrKe0ETR01csnLhm9brs3jRdVq7aOkTt3LZw3UMku3cIKlIqiuioQyaqShSqJqFMVQgGAQC6o6ZPVM4y9UzR6O2dDzgRtohRQYbP0/YHjMt+1pOKkExUJdiip5PoKQEDqQVmZJGi5VIiySZ0nzV4ybx8vUC+mxZ8rHkvy94D1SBrnIVw5O921pxgVrBQG4jvHRPqrlXzGMhGwt9bCqo6m0DFQZWluVV0PtzhTGkggh9PDgjtXqG8mKZoPWzU7KLcr/juzr46L7Vf1preKEHVouM8+UAW7ZBhHJLlYpKiH1kgo3b9ypmUUS2ZdZXn5pl/XKZ0xen8mzrnBvjI6Sj52xQqINXnIvbcOgnHTexLPIE8F56OQkGzk8Ou+FUXa5zSJARIKRDZAc2Nva56M/E2Q6XvFOyxctzM3BDsHfUL5C1gyazyARetwWJx9qE+mJzN2cekqo1nvo1PIqK7oxhKtIILEi0CImERERERERERHuIiPfuIiPyIj3HuI/PyOB/MYxgMYxgMYxgM9yPj3ss/ZRcY0cP5GRdt2LBk0TOs6ePHaxEGzVuimAnVWXWUIkkmUomOc5SgAiIBnp5LQ9L700KXuzZ1+6ifJmJRT42cPEHthr5Z9umFetOy4CLUn1pJz9Wn7DyL1/HokmFxATIDMHZIGEFWygpBkmK8R6crpOA1Akay6pvUPrRzqmEqS1i0dqZ2yFMAETGFaNcwrR+QSkApSu7S/FQRRGMADwp3797KvnknJO3D6RkHS75+9dqnXdPHjtU67l04XUEyiqy6xzqKqHMJ1FDGMIiIj32IdVvnha+ovze3LyNm3LktXkp93WdVwaqiooVvWFddOGVTjm6Cnj9OdyyAZR6T2kzi9fuBWA6oGUPrkwGMYwGMYwGMYwGMYwGMYwGMYwNxHRt6R21+qxyDJU4or+r6H18uzl93bOI0VUSh4f4cFrUAIJim9t08gQyUcyIYxmqapXq5SIgmJuX9WXbu1tnbia8QdN8edpaK4n8XZGU17pHRH5ItDCRm3EO9GIlts3JgWLTXsV2vTxsEitLuU3J0Wrlu0ZCikIolle+nR6w3SX448B9c8cr/ALUrHGbeEC9nZDan9oUTKx0fsW0yEq8XRtUfdGUa+i5BA8MLFskyknbBaLKgdqkgcRUUU2s7w9SF0UNUu/xx1yEr+3bPHlM3aqat1tP3aabqpGOUGycw5g45JqmmoUvmdKQFEoHAyYqGIoUgVp+kukP1LuRAM1tUcMN6zse/HxbTUnTHtUgTj5mJ2PNWv8FjUh8inARVck7eBwH+4PbdBx49H71M9qmYPtwT+l+O8I69lRclktDy5WVsiIea6akHUWDtuk7KXukkUZY6J3AlBRVJEp1i7pd5etW45wabtpx64nbQvrwvYjSX2TZIKkxBj/rEVxjoj8wyi6HYEwKmoswWMJzmESgmUqui7kh6uHqjboJJxetFtU8c67IIvG5UqBVl5uytU3SSjcp29ptT6RWRVbpH80jpsQUK6EXAKABUU0gwK6uXT44kdNS3QPHHXvKixcmuVEU9F1u1rA1WFr+q9RsQaHFvUHckWVlZqX2A9dLoOnMYQGaVfjGpgmSIyMigwb6Y8+rPTszaJuYslilHs1YLBJvpqbmJNwq8kZSVk3KjyQkXzpYxlXLt47XVcOF1DmOoqoc5xETZ8rAYxjAYxjA80lVEFE1kVDorInIqkqkcyaiSiZgOmomoQQMQ5DABiHKIGKYAEBAQAc8Pv98YwGMYwGewzZupB21YsW6zx69cINGbRumZZd06cqkRbt0ESAY6qyypyJpJkKYxzmApQERz18zj4Bb+0Vxa3Wtv7cWs5Tb9k1pW5Ge0TQzEjjUZ1ulI6JahP7KF27RduKrVVRUmxi41s6XlZFqybKHZp93SYSYaqNS9Ov0vHlrflgy9WHnxTyt4KKcg1eWXj3qCZZKCR2siVUy8S8RYPiOlTCVNZzZHKCKKqSUac6kfXpX9SbZfTl5x0XlOzlp6er8nNLw++q4R6dRXZGvbO+Kram8gC/uFeTLNyctkhXSv7ZKdYNxBUEnDkiuGPIjkXuflbty4bz39fp3Y+y7vJLSM3YJ10KopkOcwtoqJZJgRhCQUYiINYmEimzSNjmpCItWyZQHv0ngXqVeunHzmTxob3OPkartLjjvbWi71w7kRauazYaFZIlUso3mCOTCi0BuzUctpZB0ZNeJeNnCS4oOGphJTPdS/VnErS/NHduueEm15DcfHuvWh0hVLY8ZlK0ZuVFDqStXg50HCn5ygqw9E8PG3ArZknOItvqESvUQJJPf31f1OubumuJGyeEGud6Wqt8eNqSSb+y1Vm4OD9m0VTcJz1frc6Kn4jW61cPeR/N0PFKIITYNEkVRTbuZNF/gPgMYxgMYxgeaKSq6qSCCaiy6yhEkUUiGUVVVUMBE000yAYyihzmKQpCAY5zGKUoCIhkvTjBP1j09vAib5J3eNj3XVG5u0gYnRWtpbxPKaD0nJpiqhfrPHn7rRkhMGWQl27MxUlZBVGLZLCdugodHQ3wN2pxg40OLhyg3LAo7m3HrN7EtON/HaQYvSU+cv75q/eN9q7TmDtgYLUTXjhm1XSqceutNWafcM2iqcXHAaVJi7yM5Jbq5ZbbtO8t/3yX2Jsu4uQcS8/LGSIVNFIPFpGRbBsRJjEw8el2Qj4qOboMmaBQTRSKHcRDrK43CzbAtdjvNzmpCx2y2zUjYbFOyrhV5Iy0xLOlXj987crGMoqsu4VOcwmMPYBAodilAM43jGAxjGAxjGAxjGAxjGAxjGAxjGAxjGAxjGAxjGAxjGAxjGAxjGAxjGB2dpjbFi0XtKk7dqMZU5e0a/m0rDXmd4rEZcqv8AjDVFYke9ka1NJLxkmeMcqpyceV4kom2lGjJ4UgqNiZ6+2dvbM3tf7JtPb12n9g7At0g4lJ+z2WQWkJJ+6cKGUMAKKiJG7RHy9toyakRZs0AIg1QSRIQgdc4wGMYwGMYwGMYwGMYwGMYwGMYwGMYwGMYwGMYwGMYwGMYwGMYwGcqqN6u+v5JaZoVxtVIl3DQ0e4lajYZetSS7A7hs8OyWfQzxk6VaGdsmbozY6pkTOGjZcSCqgkYnFcYFwb0AOp5F9SzgrT5yzz6b/kTpNCN1jvyOceKUi9nY5iX8AvhEhOJ3MddoZNF+q+TKCRZ9GbYmADtQE+nnrT+nyp3IvqHUPmuNpren+KFor8tdudtsXcsYk9XPrJozeLWGKbqCii8l9nQRAhVVSnK4NOx53RiqvJEFRjXel25J780Z1R9aUnUVRsWwqTvli617uypQpAUQjqSUp5JDYrsypk2rINfyaKUso7WVSOeMVk49EVVHxUFbQ7l5xm17zR4xbl4y7JBVSkbpoctU3r9gsJHUYu9QK4hZ+OXSN3+phpZFhLNhKb21zNQROJklTgIVJfV+6ljPm5sio6g0VBl1nwf4wRwa942atixFkwXh4pEkevsKwsG4JNXFns/tKuxcKpKOEGzpXuoRZ88Jmm/MnOZHFLaPCTkttnjJt+JdRVz1baX0Kdws3VbtbDBmOLiuWyHMqQv1MLZoVVnLxzhPuUyLn2T+KySyZMY8BjGMBjGMBjGMBjGMBjGMBjGMBjGMBjGMBjGMBjGMBjGMBjGMBjGZx9Nvhytz75r6F4nktSFKabYtakfMWZX2DuIuAiIx9Pzysag4MRJ3LniYx2lFNT9wWenRKcBIBxAO3umT0vNrdRrYFgUZz0NqHjnqdunPb+5FXdUsdSNc1xEgOnDZN87FFnJWp607GjoUi4KkKqk8clBsJAW2Lcxup9xt4gadsfAHo2Rjuo67lW60DyA5nSCfsbl5APECmaSTGuzhEUX9fpDtYq5kTsFG5HTQUAZEBuKbkJ6+zugxwb2BwfonAmvNti6d07SJlvZ3LrUdsUqc/sG0gzIzk5/aSqbZw02A+lfArhU1hbvDNFUmwMlEEmqSYauA9Gb02wcgr/a/ygOgAGEWqlqpficTCBg7rJ0xNYAIHcoAUxTD/wCIxjfqwKxxZZVwqquuqouusodVZZY5lFVVVDCdRRVQ4mOooc4iY5ziJjGETGERERz88tIIn0ePSuYiAyU3yLmgApSiC+yGjMBOBgMJ+7CBbiXyKAkMXuIeJhEhiHABDuur+lA6NdYUB071FtKzmTBM5/zPum4OGvZESn7nbM1o5ECHEnkqHj+sonIY3sGFPAqdM8yJKKeQpkOp4FMc4EIY3gQogAnOAAPYgCYoCY3YAEewiHftlvtDdELoOatETP8AjLxvTdM1QUF1fNhP3zhqJSgUSKFnLuVEC9yGMYF0TD5eXceweIRweupz36aXA6Ds/ETpscYOKshvXZ1FfVnbm6qtSKjaYTWVGsiCAqVuAkTJSrSXus0ii2dHcFcHaV1BFu4P78ooiVoEETGMYDGMYDGMYDGMYDGMYDGMYDGMYDGMYGZHA3mVyU4K8k6HvTixPSMdsthItoX8st2zmVh9jxEs6QReUGy1xsYDWCJnzgkgVmmUHrd99I/i120m2auE7kLh3zGqHJ6lwcXOLVehcmIHX1EtW++NqNyhLHedKzlzh0pNvDWZpGuFHLYigGFRuZygk5akVSZSqDOUTcNE6sbQV1469LHSFK5HLkqG/eo3uSpktGjKgcYq1a04hUawsvGH2ndFEl12cpuqcjnazun1pMrk9TSISSkzMXCiBXOvfjdz35RcWeU0bzE1fs+fR3UnaHNks83LP3ci12AWTefVT8FeGiq/hPwc6Ux0HzJ0JgSAUlmZmzhs2VSCfx6if070Ry4iLfzX4Y1dnD8oIlo4ntra3jiA1jt7RUc0MZ1LRDVMAQabPaNkAMQxEyJ21JEGbkSygN3CtaXJRsjDSL+Il2LuLlYt45j5ONkG6zN9Hvmax27tm8arkIu2dNl0joroLEIqkqQyahSmAQy5y6SHVd0f1WuOMdtKgumFb2zVW0fFby04o9KtN69tS6RwBw2TV8XMjT546C7qszxExScolVYuTJSTJ43TiverS6P2qaXXVupzpNxV9fTcvZoOp7910ZxGQbG8zk8oq3hthU5ic7b6q4KnSMlcYiPTWWlmaYWUqBXLSacOAgQ4xjAYxjAYxjA55q/Wty3JsWkaq17DOrDd9h2eGqNWhmaaqq8hNTj1FgyRKVEih/D3VyqLHKQ3tokOoJRKUQGbn1iuV2uekz0t9M9FjjXcIZ/ve00iPDlRN1h63WeVdnM+xNXRpLuWZ1BQsF8nDHjiN/f+oZ1pgKRzgQU0RiA8OeXN24T7Qm926tga4+2yjr21VHWVwsLX69XUlptBWTP+1GrxyhDsnN0r0OSVaVtaTIswjXkoMmo1crNEExxvtlttN9s09dLtYpu2260Sj2bsdmskm8mZ2emJFc7l9Jy0q/WcPX7524OdZdy5WUVUOYTHMI9sDj2MYwGMYwGMYwGMYwGMYwGMYwGMYwGMYwGMYwGMYwGMYwGMYwGMYwGMYwGMYwGMYwGMYwGMYwGMYwGMYwGMYwGMYwGMYwGMYwGMYwGMYwGMYwGMYwGMYwGMYwGMYwGMYwGMYwGMYwGMYwGMYwGMYwGMYwGMYwGMYwGMYwGMYwGMYwGMYwGMYwGMYwGMYwGeyyZu5J40j49q4ev37pBkxZNUTrunjx0sRBs1bIJAZRZdwsciSCKZTKKqHIQhRMYAz1skyenI4K662Dt67dRXlk8hqpw44MNRu81OW0G6UDatoMUAka3BJg+MDaTJCFIWVdx3gqDx6rEMzGAywIOAz/Qo8P6dHpLn2NJN2SPVA6htWNXa8dyVD8d0Xq6UZldSRGaYqncNHETHOEwkXSQ+Lu0u26CJykjTnT3Jela6uSvL7j6+4Y71uTqY5Hcd4sHdSmLG+FeY2Vps7oUGC5Xbk/vSczQV1UIOTKHuuhhVoZ6uY4g4WGCV1d+oxcuprzQ2Lv6WcP2uvGbxapaVqTtQ3s1TWsS5VTh0QbAVJNOSmA7zEysCJFFXrnwUACoJkLjdwe5e7O4JcpdQco9Svjt7Rq60s5R1GCsdFlaaw4ODS1VCW9vuJ4uywKz2KdAJVPaByRwUgqIEDAsHPVndK4nJHjmx54ajgQX3NxpijNdnso9n5vrtpBRcVHL05W6XvOZLXb9cZZJRQVR/LrmXSHwK0REtZpl6VoDc+pubPGDXm5qiEfbdScg9ZNJkI54CT1o6hbRGKMp+syyRREhlmLg8lX5huIgZN01dIm7CUe1PH1feFZeAHUL5Fcbotm7aUiBto2jV4vCCAr6zuqQWGpFSV8EwdJxjN2pAqOUyFTUdRLkClASiGBrRxjGAxjGAxjGAxjGAxjGAxjGAxjGAxjGAxjGAxjGAxjGAxjGAzkdQt9poFngrrR7FM1K3VeTaTVdstekXUTNwkuwVKuzkIySZKIumjtusQp0lUVCnKIdhHt378cx/3/4/f/P9+Btyh+vH1d4NBs2Z87d3rJtUvZTNJS8dLLGJ4gQPeXko10sucADv7qxznE3c5jdx756sh11+rlJh4uOeG9k/0+PdnYWzA3buA9+7Nih89w7d/v27h9vjNS+MDY1NdXrqhWJBVrMc8+ULtqv5e62/tbtTdA4D5D4mSbPkSCUvcRIAh2KIFEnYxS9scbTzB5X3ZRdW2clN6z53H+3CR2pdVyLdjHMAKJjNAkcCiofxKYolKBhAA7D2DHPGByOXuNusAqGnrTY5syo+Sppeck5IVTdjl8lBeOlhOPiocO5u49jnD7GHvxzGMBjGMBjGMBjGMBjGMBjGMBjGMBjGMBjGMBjGMDPvprdQjc3TT5T0XkdqKUdi0jXzWJ2ZRxcHThtl65dPED2KozCHkCRjuG5Bdwr84GPETbdjIpAcEVEVu7Orf1d+QXVj3u4v2xHDul6ZqT1610noiOlnDytUCEV8ERlZM4AghYb7OIIJrWOzqs0RMcSxkUgwiGzZoGpjGAxjGAxjGAxjGA/r/r/z+cYxgMYxgMYxgMYxgMYxgMYxgMYxgMYxgMYxgMYxgMYxgMYxgMYxgMYxgMYxgMYxgMYxgMYxgMYxgMYxgMYxgMYxgMYxgMYxgMYxgMYxgMYxgMYxgMYxgMYxgMYxgMYxgMYxgMYxgMYxgMYxgMYxgMYxgMYxgMYxgMYxgMYxgMYxgMYxgMYxgMYxgMYxgMYxgM2M8neoZad1cc+P3D7VlQHRHGfRNeTWd66r9nkJM+1dsyjdP837Z2XIJoRSNimpF2LglfZPGKyNYi11GTRZZVd07ca5sYDGMYE7X0x/WK0rw84EcvaFyx2ahBUzjlPRu0dWwC7xF1arFHbBTcspai0OEVVQXk37m4RzVdo0TOKKDmwuXTtdowROdOL71ZepTeOqdy5sfJO21GEocK3hmVH1zUYxmwGShaDCPJBzDIWeeboJurHYFVJFy5evHKqjVoZYGMWmk1R81tZmMBjGMBjGMBjGMBjGMBjGMBjGMBjGMBjGMBjGMBjGMBjGMBjGMBjGMBjGMBjGMBjGMBjGMBjGMBjGMBjGMBjGMBjGMBjGMBjGMBjGMBjGMBjGMBjGMBjGMBjGMBjGMBjGMBjGMBjGMBjGMBjGMBjGMBjGMBjGMBjGMBjGMBjGMBjGMBjGMBjGMBjGMBjGMBjGMBjGMBjGMBjGMBjGMBjGMBjGMBjGMBjGMBjGMBjGMBjGMBjGMBjGMBjGMBjGMBjGMBjGMBjGMBjGMBjGMBjGMBjGMBjGMBjGMBjGMBjGMBjGMD//2Q==)\n",
    "\n",
    "If x is input through the keyboard, write a program to calculate the sum of the first seven terms of this series.\n"
   ]
  },
  {
   "cell_type": "code",
   "execution_count": 7,
   "id": "56a81426",
   "metadata": {},
   "outputs": [
    {
     "name": "stdout",
     "output_type": "stream",
     "text": [
      "(1/1)*((x-1)/x)^1 +(1/2)*((x-1)/x)^2 +(1/3)*((x-1)/x)^3 +(1/4)*((x-1)/x)^4 +(1/5)*((x-1)/x)^5 \n",
      "1.8301230000000004\n"
     ]
    }
   ],
   "source": [
    "# Code here\n",
    "x = 10\n",
    "n = 5\n",
    "\n",
    "sum = 0\n",
    "s = ''\n",
    "for i in range(1,n+1):\n",
    "    sum = sum + (1/i)*((x-1)/x)**i\n",
    "    s = s + '(1/{})*((x-1)/x)^{} +'.format(i,i)\n",
    "print(s[:-1])\n",
    "print(sum)"
   ]
  },
  {
   "cell_type": "markdown",
   "id": "4faf88cf",
   "metadata": {},
   "source": [
    "### `Problem 7` - Find the sum of the series upto n terms.\n",
    "Write a program to calculate the sum of series up to n term. For example, if n =5 the series will become 2 + 22 + 222 + 2222 + 22222 = 24690. Take the user input and then calculate. And the output style should match which is given in the example.\n",
    "\n",
    "**Example 1:**\n",
    "\n",
    "`Input:`\n",
    "```bash\n",
    "5\n",
    "```\n",
    "\n",
    "`Output:`\n",
    "\n",
    "```bash\n",
    "2+22+222+2222+22222\n",
    "Sum of above series is: 24690\n",
    "```"
   ]
  },
  {
   "cell_type": "code",
   "execution_count": 8,
   "id": "90474b28",
   "metadata": {},
   "outputs": [
    {
     "name": "stdout",
     "output_type": "stream",
     "text": [
      "enter the number of terms 5\n",
      "2+22+222+2222+22222\n",
      "24690\n"
     ]
    }
   ],
   "source": [
    "# Code here\n",
    "n = int(input('enter the number of terms '))\n",
    "\n",
    "start = 2\n",
    "sum = 0\n",
    "\n",
    "for i in range(0,n):\n",
    "    if i < n-1:\n",
    "        print(start,end='+')\n",
    "    else:\n",
    "        print(start)\n",
    "\n",
    "    sum = sum + start\n",
    "    start = start*10 + 2\n",
    "\n",
    "print(sum)"
   ]
  },
  {
   "cell_type": "markdown",
   "id": "69f27cc6",
   "metadata": {},
   "source": [
    "### `Problem 8`: Write a program to print all the unique combinations of 1,2,3 and 4\n",
    "\n",
    "`Output`:\n",
    "```\n",
    "1 2 3 4\n",
    "1 2 4 3\n",
    "1 3 2 4\n",
    "1 3 4 2\n",
    "1 4 2 3\n",
    "1 4 3 2\n",
    "2 1 3 4\n",
    "2 1 4 3\n",
    "2 3 1 4\n",
    "2 3 4 1\n",
    "2 4 1 3\n",
    ".\n",
    ".\n",
    "and so on\n",
    "```"
   ]
  },
  {
   "cell_type": "code",
   "execution_count": 3,
   "id": "9b6b8576",
   "metadata": {},
   "outputs": [
    {
     "name": "stdout",
     "output_type": "stream",
     "text": [
      "1 1 1 1\n",
      "1 1 1 2\n",
      "1 1 1 3\n",
      "1 1 1 4\n",
      "1 1 2 1\n",
      "1 1 2 2\n",
      "1 1 2 3\n",
      "1 1 2 4\n",
      "1 1 3 1\n",
      "1 1 3 2\n",
      "1 1 3 3\n",
      "1 1 3 4\n",
      "1 1 4 1\n",
      "1 1 4 2\n",
      "1 1 4 3\n",
      "1 1 4 4\n",
      "1 2 1 1\n",
      "1 2 1 2\n",
      "1 2 1 3\n",
      "1 2 1 4\n",
      "1 2 2 1\n",
      "1 2 2 2\n",
      "1 2 2 3\n",
      "1 2 2 4\n",
      "1 2 3 1\n",
      "1 2 3 2\n",
      "1 2 3 3\n",
      "1 2 3 4\n",
      "1 2 4 1\n",
      "1 2 4 2\n",
      "1 2 4 3\n",
      "1 2 4 4\n",
      "1 3 1 1\n",
      "1 3 1 2\n",
      "1 3 1 3\n",
      "1 3 1 4\n",
      "1 3 2 1\n",
      "1 3 2 2\n",
      "1 3 2 3\n",
      "1 3 2 4\n",
      "1 3 3 1\n",
      "1 3 3 2\n",
      "1 3 3 3\n",
      "1 3 3 4\n",
      "1 3 4 1\n",
      "1 3 4 2\n",
      "1 3 4 3\n",
      "1 3 4 4\n",
      "1 4 1 1\n",
      "1 4 1 2\n",
      "1 4 1 3\n",
      "1 4 1 4\n",
      "1 4 2 1\n",
      "1 4 2 2\n",
      "1 4 2 3\n",
      "1 4 2 4\n",
      "1 4 3 1\n",
      "1 4 3 2\n",
      "1 4 3 3\n",
      "1 4 3 4\n",
      "1 4 4 1\n",
      "1 4 4 2\n",
      "1 4 4 3\n",
      "1 4 4 4\n",
      "2 1 1 1\n",
      "2 1 1 2\n",
      "2 1 1 3\n",
      "2 1 1 4\n",
      "2 1 2 1\n",
      "2 1 2 2\n",
      "2 1 2 3\n",
      "2 1 2 4\n",
      "2 1 3 1\n",
      "2 1 3 2\n",
      "2 1 3 3\n",
      "2 1 3 4\n",
      "2 1 4 1\n",
      "2 1 4 2\n",
      "2 1 4 3\n",
      "2 1 4 4\n",
      "2 2 1 1\n",
      "2 2 1 2\n",
      "2 2 1 3\n",
      "2 2 1 4\n",
      "2 2 2 1\n",
      "2 2 2 2\n",
      "2 2 2 3\n",
      "2 2 2 4\n",
      "2 2 3 1\n",
      "2 2 3 2\n",
      "2 2 3 3\n",
      "2 2 3 4\n",
      "2 2 4 1\n",
      "2 2 4 2\n",
      "2 2 4 3\n",
      "2 2 4 4\n",
      "2 3 1 1\n",
      "2 3 1 2\n",
      "2 3 1 3\n",
      "2 3 1 4\n",
      "2 3 2 1\n",
      "2 3 2 2\n",
      "2 3 2 3\n",
      "2 3 2 4\n",
      "2 3 3 1\n",
      "2 3 3 2\n",
      "2 3 3 3\n",
      "2 3 3 4\n",
      "2 3 4 1\n",
      "2 3 4 2\n",
      "2 3 4 3\n",
      "2 3 4 4\n",
      "2 4 1 1\n",
      "2 4 1 2\n",
      "2 4 1 3\n",
      "2 4 1 4\n",
      "2 4 2 1\n",
      "2 4 2 2\n",
      "2 4 2 3\n",
      "2 4 2 4\n",
      "2 4 3 1\n",
      "2 4 3 2\n",
      "2 4 3 3\n",
      "2 4 3 4\n",
      "2 4 4 1\n",
      "2 4 4 2\n",
      "2 4 4 3\n",
      "2 4 4 4\n",
      "3 1 1 1\n",
      "3 1 1 2\n",
      "3 1 1 3\n",
      "3 1 1 4\n",
      "3 1 2 1\n",
      "3 1 2 2\n",
      "3 1 2 3\n",
      "3 1 2 4\n",
      "3 1 3 1\n",
      "3 1 3 2\n",
      "3 1 3 3\n",
      "3 1 3 4\n",
      "3 1 4 1\n",
      "3 1 4 2\n",
      "3 1 4 3\n",
      "3 1 4 4\n",
      "3 2 1 1\n",
      "3 2 1 2\n",
      "3 2 1 3\n",
      "3 2 1 4\n",
      "3 2 2 1\n",
      "3 2 2 2\n",
      "3 2 2 3\n",
      "3 2 2 4\n",
      "3 2 3 1\n",
      "3 2 3 2\n",
      "3 2 3 3\n",
      "3 2 3 4\n",
      "3 2 4 1\n",
      "3 2 4 2\n",
      "3 2 4 3\n",
      "3 2 4 4\n",
      "3 3 1 1\n",
      "3 3 1 2\n",
      "3 3 1 3\n",
      "3 3 1 4\n",
      "3 3 2 1\n",
      "3 3 2 2\n",
      "3 3 2 3\n",
      "3 3 2 4\n",
      "3 3 3 1\n",
      "3 3 3 2\n",
      "3 3 3 3\n",
      "3 3 3 4\n",
      "3 3 4 1\n",
      "3 3 4 2\n",
      "3 3 4 3\n",
      "3 3 4 4\n",
      "3 4 1 1\n",
      "3 4 1 2\n",
      "3 4 1 3\n",
      "3 4 1 4\n",
      "3 4 2 1\n",
      "3 4 2 2\n",
      "3 4 2 3\n",
      "3 4 2 4\n",
      "3 4 3 1\n",
      "3 4 3 2\n",
      "3 4 3 3\n",
      "3 4 3 4\n",
      "3 4 4 1\n",
      "3 4 4 2\n",
      "3 4 4 3\n",
      "3 4 4 4\n",
      "4 1 1 1\n",
      "4 1 1 2\n",
      "4 1 1 3\n",
      "4 1 1 4\n",
      "4 1 2 1\n",
      "4 1 2 2\n",
      "4 1 2 3\n",
      "4 1 2 4\n",
      "4 1 3 1\n",
      "4 1 3 2\n",
      "4 1 3 3\n",
      "4 1 3 4\n",
      "4 1 4 1\n",
      "4 1 4 2\n",
      "4 1 4 3\n",
      "4 1 4 4\n",
      "4 2 1 1\n",
      "4 2 1 2\n",
      "4 2 1 3\n",
      "4 2 1 4\n",
      "4 2 2 1\n",
      "4 2 2 2\n",
      "4 2 2 3\n",
      "4 2 2 4\n",
      "4 2 3 1\n",
      "4 2 3 2\n",
      "4 2 3 3\n",
      "4 2 3 4\n",
      "4 2 4 1\n",
      "4 2 4 2\n",
      "4 2 4 3\n",
      "4 2 4 4\n",
      "4 3 1 1\n",
      "4 3 1 2\n",
      "4 3 1 3\n",
      "4 3 1 4\n",
      "4 3 2 1\n",
      "4 3 2 2\n",
      "4 3 2 3\n",
      "4 3 2 4\n",
      "4 3 3 1\n",
      "4 3 3 2\n",
      "4 3 3 3\n",
      "4 3 3 4\n",
      "4 3 4 1\n",
      "4 3 4 2\n",
      "4 3 4 3\n",
      "4 3 4 4\n",
      "4 4 1 1\n",
      "4 4 1 2\n",
      "4 4 1 3\n",
      "4 4 1 4\n",
      "4 4 2 1\n",
      "4 4 2 2\n",
      "4 4 2 3\n",
      "4 4 2 4\n",
      "4 4 3 1\n",
      "4 4 3 2\n",
      "4 4 3 3\n",
      "4 4 3 4\n",
      "4 4 4 1\n",
      "4 4 4 2\n",
      "4 4 4 3\n",
      "4 4 4 4\n"
     ]
    }
   ],
   "source": [
    "# Code here\n",
    "for i in range(1,5):\n",
    "    for j in range(1,5):\n",
    "        for k in range(1,5):\n",
    "            for m in range(1,5):\n",
    "                print(i,j,k,m)"
   ]
  },
  {
   "cell_type": "markdown",
   "id": "9ab89e86",
   "metadata": {},
   "source": [
    "### `Problem 9`: Write a program that will take a decimal number as input and prints out the binary equivalent of the number"
   ]
  },
  {
   "cell_type": "code",
   "execution_count": 10,
   "id": "eaf836f9",
   "metadata": {},
   "outputs": [
    {
     "name": "stdout",
     "output_type": "stream",
     "text": [
      "enter the number17\n",
      "10001"
     ]
    }
   ],
   "source": [
    "# Code here\n",
    "\n",
    "n = int(input('enter the number '))\n",
    "binary = []\n",
    "while n > 0:\n",
    "\n",
    "    binary.append(n%2)\n",
    "    n = n//2\n",
    "\n",
    "for i in binary[::-1]:\n",
    "    print(i,end='')\n"
   ]
  },
  {
   "cell_type": "markdown",
   "id": "3fa8d0ad",
   "metadata": {},
   "source": [
    "### `Problem 10`: Write a program that will take 2 numbers as input and prints the LCM and HCF of those 2 numbers"
   ]
  },
  {
   "cell_type": "code",
   "execution_count": 11,
   "id": "9c9af364",
   "metadata": {},
   "outputs": [
    {
     "name": "stdout",
     "output_type": "stream",
     "text": [
      "enter 1st number23\n",
      "enter 2nd number46\n",
      "46\n"
     ]
    }
   ],
   "source": [
    "# Code here\n",
    "x = int(input('enter 1st number '))\n",
    "y = int(input('enter 2nd number '))\n",
    "\n",
    "if x>y:\n",
    "    greater = x\n",
    "else:\n",
    "    greater = y\n",
    "\n",
    "while True:\n",
    "    if (greater % x == 0) and (greater % y == 0):\n",
    "        lcm = greater\n",
    "        break\n",
    "\n",
    "    greater = greater + 1\n",
    "\n",
    "print(lcm)"
   ]
  },
  {
   "cell_type": "code",
   "execution_count": 12,
   "id": "eed60a38",
   "metadata": {},
   "outputs": [
    {
     "name": "stdout",
     "output_type": "stream",
     "text": [
      "enter 1st number30\n",
      "enter 2nd number40\n",
      "10\n"
     ]
    }
   ],
   "source": [
    "# Code here\n",
    "x = int(input('enter 1st number '))\n",
    "y = int(input('enter 2nd number '))\n",
    "\n",
    "if x<y:\n",
    "    smaller = x\n",
    "else:\n",
    "    smaller = y\n",
    "\n",
    "for i in range(1,smaller+1):\n",
    "    if (x % i == 0) and (y % i == 0):\n",
    "        hcf = i\n",
    "\n",
    "print(hcf)"
   ]
  },
  {
   "cell_type": "markdown",
   "id": "1c7bbc76",
   "metadata": {},
   "source": [
    "### **Problem 11:** Create Short Form from initial character\n",
    "Given a string create short form ofthe string from Initial character. Short form should be capitalised.\n",
    "\n",
    "Example:\n",
    "\n",
    "`Input:`\n",
    "```\n",
    "Data science mentorship program\n",
    "```\n",
    "\n",
    "`Output:`\n",
    "```\n",
    "DSMP\n",
    "```"
   ]
  },
  {
   "cell_type": "code",
   "execution_count": 13,
   "id": "cdcac240",
   "metadata": {},
   "outputs": [
    {
     "name": "stdout",
     "output_type": "stream",
     "text": [
      "DSMP\n"
     ]
    }
   ],
   "source": [
    "# Code here\n",
    "\n",
    "inp = 'Data science Mentorship Program'\n",
    "\n",
    "res = ''\n",
    "\n",
    "for i in inp.split():\n",
    "    res = res + i[0].upper()\n",
    "\n",
    "print(res)"
   ]
  },
  {
   "cell_type": "markdown",
   "id": "ad675113",
   "metadata": {},
   "source": [
    "### `Problem 12`: Append second string in the middle of first string\n",
    "\n",
    "`Input:`\n",
    "```\n",
    "campusx\n",
    "data\n",
    "```\n",
    "`Output`:\n",
    "\n",
    "```\n",
    "camdatapusx\n",
    "```"
   ]
  },
  {
   "cell_type": "code",
   "execution_count": 14,
   "id": "dd4e5dc6",
   "metadata": {},
   "outputs": [
    {
     "name": "stdout",
     "output_type": "stream",
     "text": [
      "enter the 1st stringwill\n",
      "enter the 2nd stringdo\n",
      "widoll\n"
     ]
    }
   ],
   "source": [
    "# Code here\n",
    "\n",
    "s1 = input('enter the 1st string ')\n",
    "s2 = input('enter the 2nd string ')\n",
    "\n",
    "print(s1[0:int(len(s1)/2)] + s2 + s1[int(len(s1)/2):])"
   ]
  },
  {
   "cell_type": "markdown",
   "id": "c505ff28",
   "metadata": {},
   "source": [
    "### ``Problem 13``:Given string contains a combination of the lower and upper case letters. Write a program to arrange the characters of a string so that all lowercase letters should come first.\n",
    "\n",
    "Given:\n",
    "\n",
    "`str1 = PyNaTive`\n",
    "\n",
    "Expected Output:\n",
    "\n",
    "`yaivePNT`"
   ]
  },
  {
   "cell_type": "code",
   "execution_count": 15,
   "id": "3d61bad2",
   "metadata": {},
   "outputs": [
    {
     "name": "stdout",
     "output_type": "stream",
     "text": [
      "yaivePNT\n"
     ]
    }
   ],
   "source": [
    "# Code here\n",
    "\n",
    "s = 'PyNaTive'\n",
    "\n",
    "upper = ''\n",
    "lower = ''\n",
    "\n",
    "for i in s:\n",
    "    if i.islower():\n",
    "        lower = lower + i\n",
    "    else:\n",
    "        upper = upper + i\n",
    "\n",
    "print(lower + upper)"
   ]
  },
  {
   "cell_type": "markdown",
   "id": "dffb8ad3",
   "metadata": {},
   "source": [
    "### `Problem 14:`Take a alphanumeric string input and print the sum and average of the digits that appear in the string, ignoring all other characters.\n",
    "\n",
    "Input:\n",
    "\n",
    "`hel123O4every093`\n",
    "\n",
    "Output:\n",
    "\n",
    "```\n",
    "Sum: 22\n",
    "Avg: 2.75\n",
    "```"
   ]
  },
  {
   "cell_type": "code",
   "execution_count": 16,
   "id": "51ccaacc",
   "metadata": {},
   "outputs": [
    {
     "name": "stdout",
     "output_type": "stream",
     "text": [
      "22\n",
      "3.142857142857143\n",
      "7\n"
     ]
    }
   ],
   "source": [
    "# Code here\n",
    "s = 'hel123O4every093'\n",
    "\n",
    "sum = 0\n",
    "count = 0\n",
    "\n",
    "for i in s:\n",
    "    if i.isdigit():\n",
    "        sum = sum + int(i)\n",
    "        count += 1\n",
    "\n",
    "print(sum)\n",
    "print(sum/count)\n",
    "print(count)"
   ]
  },
  {
   "cell_type": "markdown",
   "id": "3c6d705e",
   "metadata": {},
   "source": [
    "### `Problem 15:` Removal of all characters from a string except integers\n",
    "`Given:`\n",
    "\n",
    "```\n",
    "str1 = 'I am 25 years and 10 months old'\n",
    "```\n",
    "`Expected Output:`\n",
    "```\n",
    "2510\n",
    "```"
   ]
  },
  {
   "cell_type": "code",
   "execution_count": 17,
   "id": "290271b9",
   "metadata": {},
   "outputs": [
    {
     "name": "stdout",
     "output_type": "stream",
     "text": [
      "2510\n"
     ]
    }
   ],
   "source": [
    "# Code here\n",
    "s = 'I am 25 years and 10 months old'\n",
    "\n",
    "res = ''\n",
    "\n",
    "for i in s:\n",
    "    if i.isdigit():\n",
    "        res = res + i\n",
    "\n",
    "print(res)"
   ]
  },
  {
   "cell_type": "markdown",
   "id": "b55d6a14",
   "metadata": {},
   "source": [
    "### `Problem 16`: Check whether the string is Symmetrical.\n",
    "\n",
    "**Statement:** Given a string. the task is to check if the string is symmetrical or not. A string is said to be symmetrical if both the halves of the string are the same.\n",
    "\n",
    "**Example 1:**\n",
    "\n",
    "`Input`\n",
    "\n",
    "```bash\n",
    "khokho\n",
    "```\n",
    "\n",
    "`Output`\n",
    "\n",
    "```bash\n",
    "The entered string is symmetrical\n",
    "```"
   ]
  },
  {
   "cell_type": "code",
   "execution_count": 19,
   "id": "ce6f2637",
   "metadata": {},
   "outputs": [
    {
     "name": "stdout",
     "output_type": "stream",
     "text": [
      "enter the string madam\n",
      "not symmetrical\n"
     ]
    }
   ],
   "source": [
    "# Code here\n",
    "s = input('enter the string ')\n",
    "\n",
    "if len(s)%2 == 0:\n",
    "    s1 = s[0:len(s)//2]\n",
    "    s2 = s[len(s)//2:]\n",
    "else:\n",
    "    s1 = s[0:len(s)//2]\n",
    "    s2 = s[len(s)//2 + 1:]\n",
    "\n",
    "if s1 == s2:\n",
    "    print('symmetrical')\n",
    "else:\n",
    "    print('not symmetrical')\n"
   ]
  },
  {
   "cell_type": "markdown",
   "id": "d841e59a",
   "metadata": {},
   "source": [
    "### `Problem 17`: Reverse words in a given String\n",
    "\n",
    "**Statement:** We are given a string and we need to reverse words of a given string.\n",
    "\n",
    "**Example 1:**\n",
    "\n",
    "`Input:`\n",
    "\n",
    "```bash\n",
    "geeks quiz practice code\n",
    "```\n",
    "\n",
    "`Output:`\n",
    "\n",
    "```bash\n",
    "code practice quiz geeks\n",
    "```\n",
    "\n",
    "**Example 2:**\n",
    "\n",
    "`Input:`\n",
    "\n",
    "```bash\n",
    "my name is laxmi\n",
    "```\n",
    "\n",
    "`Output:`\n",
    "\n",
    "```bash\n",
    "laxmi is name my\n",
    "```"
   ]
  },
  {
   "cell_type": "code",
   "execution_count": 20,
   "id": "a5fd0cfb",
   "metadata": {},
   "outputs": [
    {
     "name": "stdout",
     "output_type": "stream",
     "text": [
      "geeks quiz practice code\n"
     ]
    }
   ],
   "source": [
    "# Code here\n",
    "s = 'code practice quiz geeks'\n",
    "\n",
    "L = []\n",
    "\n",
    "for i in s.split():\n",
    "    L.append(i)\n",
    "\n",
    "L = L[::-1]\n",
    "print(\" \".join(L))"
   ]
  },
  {
   "cell_type": "markdown",
   "id": "102bf845",
   "metadata": {},
   "source": [
    "### `Problem 18`: Find uncommon words from two Strings.\n",
    "\n",
    "**Statement:** Given two sentences as strings **A** and **B**. The task is to return a list of all uncommon words. A word is uncommon if it appears exactly once in any one of the sentences, and does not appear in the other sentence. Note: A sentence is a string of space-separated words. Each word consists only of lowercase letters.\n",
    "\n",
    "**Example 1:**\n",
    "\n",
    "`Input:`\n",
    "\n",
    "```bash\n",
    "A = \"apple banana mango\"\n",
    "B = \"banana fruits mango\"\n",
    "```\n",
    "\n",
    "`Output:`\n",
    "\n",
    "```bash\n",
    "['apple', 'fruits']\n",
    "```"
   ]
  },
  {
   "cell_type": "code",
   "execution_count": 21,
   "id": "b3ca18c2",
   "metadata": {},
   "outputs": [
    {
     "name": "stdout",
     "output_type": "stream",
     "text": [
      "['apple', 'fruits']\n"
     ]
    }
   ],
   "source": [
    "# Code here\n",
    "A = \"apple banana mango\"\n",
    "B = \"banana fruits mango\"\n",
    "\n",
    "L = []\n",
    "\n",
    "for i in A.split():\n",
    "    if i not in B and i not in L:\n",
    "        L.append(i)\n",
    "\n",
    "for j in B.split():\n",
    "    if j not in A and j not in L:\n",
    "        L.append(j)\n",
    "\n",
    "print(L)"
   ]
  },
  {
   "cell_type": "markdown",
   "id": "4fb8c875",
   "metadata": {},
   "source": [
    "### `Problem 19`: Word location in String.\n",
    "\n",
    "**Statement:** Find a location of a word in a given sentence.\n",
    "\n",
    "**Example 1:**\n",
    "\n",
    "`Input:`\n",
    "\n",
    "```bash\n",
    "Sentence: We can learn data science through campusx mentorship program.\n",
    "\n",
    "word: campusx\n",
    "```\n",
    "\n",
    "`Output:`\n",
    "\n",
    "```bash\n",
    "Location of the word is 7.\n",
    "```\n",
    "\n",
    "Note- Don't use index/find functions"
   ]
  },
  {
   "cell_type": "code",
   "execution_count": 22,
   "id": "95d3cbb1",
   "metadata": {},
   "outputs": [
    {
     "name": "stdout",
     "output_type": "stream",
     "text": [
      "7\n"
     ]
    }
   ],
   "source": [
    "# Code here\n",
    "s = 'We can learn data science through campusx mentorship program.'\n",
    "word = 'campusx'\n",
    "\n",
    "pos = 0\n",
    "\n",
    "for i in s.split():\n",
    "    pos += 1\n",
    "    if i == word:\n",
    "        break\n",
    "\n",
    "print(pos)\n",
    "\n"
   ]
  },
  {
   "cell_type": "markdown",
   "id": "daeb7591",
   "metadata": {},
   "source": [
    "### `Problem 20`: Write a program that can remove all the duplicate characters from a string. User will provide the input."
   ]
  },
  {
   "cell_type": "code",
   "execution_count": 23,
   "id": "b779fa33",
   "metadata": {},
   "outputs": [
    {
     "name": "stdout",
     "output_type": "stream",
     "text": [
      "abcdef\n"
     ]
    }
   ],
   "source": [
    "# Code here\n",
    "s = 'aaaabbbbbccccdddeeeeffff'\n",
    "\n",
    "res = ''\n",
    "\n",
    "for i in s:\n",
    "    if i not in res:\n",
    "        res = res + i\n",
    "\n",
    "print(res)"
   ]
  },
  {
   "cell_type": "markdown",
   "id": "88bd993b",
   "metadata": {},
   "source": [
    "# Interview Questions & Answers"
   ]
  },
  {
   "cell_type": "markdown",
   "id": "0ab6e3c3",
   "metadata": {},
   "source": [
    "# Python interview questions & answers for [lecture 1](https://www.youtube.com/watch?v=1z5-O7-5AXk&t=40s), [lecture 2](https://www.youtube.com/watch?v=JCkIrdrZEE8) and [lecture 3](https://www.youtube.com/watch?v=6HAu0Y9BjA4):"
   ]
  },
  {
   "cell_type": "markdown",
   "id": "b82de188",
   "metadata": {},
   "source": [
    "| Question No. | Question |\n",
    "| :--: | :-- |\n",
    "| 1 | What is Python? What are the benefits of using Python? |\n",
    "| 2 | What is a dynamically typed language? |\n",
    "| 3 | What is an Interpreted language? |\n",
    "| 4 | What is PEP 8 and why is it important? |\n",
    "| 5 | What are the common built-in data types in Python? |\n",
    "| 6 | Explain the ternary operator in Python. |\n",
    "| 7 | What Does the ‘is’ Operator Do? |\n",
    "| 8 | Disadvantages of Python. |\n",
    "| 9 | How strings are stored in Python? |\n",
    "| 10 | What is Zen of Python? |\n",
    "| 11 | Identity operator (is) vs ==? |\n",
    "| 12 | What does _ variables represent in Python? |\n",
    "| 13 | Modules vs packages vs Library |\n",
    "| 14 | Why 0.3 – 0.2 is not equal to 0.1 in Python? |\n",
    "| 15 | Python Docstrings |"
   ]
  },
  {
   "cell_type": "markdown",
   "id": "249575c3",
   "metadata": {},
   "source": [
    "### **`1. What is Python? What are the benefits of using Python?`**\n",
    "\n",
    "Python is a high-level, interpreted, general-purpose programming language. Being a general-purpose language, it can be used to build almost any type of application with the right tools/libraries. Additionally, python supports objects, modules, threads, exception-handling, and automatic memory management which help in modelling real-world problems and building applications to solve these problems.\n",
    "\n",
    "**Benefits of using Python:**\n",
    "- Python is a general-purpose programming language that has a simple, easy-to-learn syntax that emphasizes readability and therefore reduces the cost of program maintenance. Moreover, the language is capable of scripting, is completely open-source, and supports third-party packages encouraging modularity and code reuse.\n",
    "- Its high-level data structures, combined with dynamic typing and dynamic binding, attract a huge community of developers for Rapid Application Development and deployment."
   ]
  },
  {
   "cell_type": "markdown",
   "id": "d26366f9",
   "metadata": {},
   "source": [
    "### **`2. What is a dynamically typed language?`**\n",
    "\n",
    "Before we understand a dynamically typed language, we should learn about what typing is. **Typing** refers to type-checking in programming languages. In a **strongly-typed** language, such as Python, **\"1\" + 2** will result in a type error since these languages don't allow for \"type-coercion\" (implicit conversion of data types). On the other hand, a **weakly-typed** language, such as Javascript, will simply output **\"12\"** as result.\n",
    "\n",
    "Type-checking can be done at two stages:\n",
    "- **Static -** Data Types are checked before execution.\n",
    "- **Dynamic -** Data Types are checked during execution.\n",
    "Python is an interpreted language, executes each statement line by line and thus type-checking is done on the fly, during execution. Hence, Python is a Dynamically Typed Language.\n",
    "\n",
    "Read more - https://www.techtarget.com/whatis/definition/strongly-typed#:~:text=In%20computer%20programming%2C%20a%20programming,\n",
    "types%20of%20objects%20and%20variables."
   ]
  },
  {
   "cell_type": "markdown",
   "id": "ecc1e1f4",
   "metadata": {},
   "source": [
    "### **`3. What is an Interpreted language?`**\n",
    "\n",
    "An Interpreted language executes its statements line by line. Languages such as Python, Javascript, R, PHP, and Ruby are prime examples of Interpreted languages. Programs written in an interpreted language runs directly from the source code, with no intermediary compilation step."
   ]
  },
  {
   "cell_type": "markdown",
   "id": "607fdfed",
   "metadata": {},
   "source": [
    "### **`4. What is PEP 8 and why is it important?`**\n",
    "\n",
    "PEP stands for **Python Enhancement Proposal**. A PEP is an official design document providing information to the Python community, or describing a new feature for Python or its processes. **PEP 8** is especially important since it documents the style guidelines for Python Code. Apparently contributing to the Python open-source community requires you to follow these style guidelines sincerely and strictly.\n",
    "\n",
    "Read more - https://realpython.com/python-pep8/#:~:text=PEP%208%2C%20sometimes%20spelled%20PEP8,\n",
    "and%20consistency%20of%20Python%20code."
   ]
  },
  {
   "cell_type": "markdown",
   "id": "b7c7ad80",
   "metadata": {},
   "source": [
    "### **`5. What are the common built-in data types in Python?`**\n",
    "\n",
    "There are several built-in data types in Python. Although, Python doesn't require data types to be defined explicitly during variable declarations type errors are likely to occur if the knowledge of data types and their compatibility with each other are neglected. Python provides `type()` and `isinstance()` functions to check the type of these variables. These data types can be grouped into the following categories-\n",
    "\n",
    "1. **None Type:** **None** keywork represents the null values in Python. Boolean equality operation can be performed using these NoneType objects.\n",
    "\n",
    "2. **Numeric Type:** There are three distinct numeric types - `integers`, `floating-point numbers` and `complex numbers`. Additionally, `booleans` are a sub-type of integers.\n",
    "\n",
    "3. **Sequence Types:** According to Python Docs, there are three basic Sequence Types - `lists`, `tuples`, and `range` objects. Sequence types have the `in` and `not in` operators defined for their traversing their elements. These operators share the same priority as the comparison operations.\n",
    "\n",
    "4. **Mapping Types:** A mapping object can map hashable values to random objects in Python. Mappings objects are mutable and there is currently only one standard mapping type, the `dictionary`.\n",
    "\n",
    "5. **Set Types:** Currently, Python has two built-in set types - `set` and `frozenset`. `set` type is mutable and supports methods like *add()* and *remove()*. `frozenset` type is immutable and can't be modified after creation.\n",
    "\n",
    "6. **Callable Types:** Callable types are the types to which function call can be applied. They can be **user-defined functions, instance methods, generator functions**, and some other **built-in functions, methods** and **classes**.\n",
    "Refer to the documentation at [docs.python.org](https://docs.python.org/3/reference/datamodel.html) for a detailed view of the callable types.\n"
   ]
  },
  {
   "cell_type": "markdown",
   "id": "bd3f26e4",
   "metadata": {},
   "source": [
    "### `Q.6. Operator Precedence.`\n",
    "https://www.programiz.com/python-programming/precedence-associativity"
   ]
  },
  {
   "cell_type": "markdown",
   "id": "edc00afa",
   "metadata": {},
   "source": [
    "### `Q.7. Explain the ternary operator in Python.`"
   ]
  },
  {
   "cell_type": "markdown",
   "id": "21a375bc",
   "metadata": {},
   "source": [
    "Unlike C++, we don’t have ?: in Python, but we have this:\n",
    "\n",
    "\n",
    "> [on true] if [expression] else [on false]\n",
    "\n",
    "\n",
    "\n",
    "If the expression is True, the statement under [on true] is executed. Else, that under [on false] is executed.\n",
    "\n",
    "Below is how you would use it:\n",
    "\n",
    "\n",
    "```\n",
    "a,b=2,3\n",
    "min=a if a<b else b\n",
    "print(min)\n",
    "```\n",
    "\n",
    "Above will print 2.\n"
   ]
  },
  {
   "cell_type": "code",
   "execution_count": 1,
   "id": "e2765d5f",
   "metadata": {},
   "outputs": [
    {
     "name": "stdout",
     "output_type": "stream",
     "text": [
      "Bye\n"
     ]
    }
   ],
   "source": [
    "# Run this cell to see result.\n",
    "a,b=14,12\n",
    "print(\"Hi\") if a<b else print(\"Bye\")"
   ]
  },
  {
   "cell_type": "markdown",
   "id": "60246e0f",
   "metadata": {},
   "source": [
    "### `Q 8. What Does the ‘is’ Operator Do?`\n",
    "\n",
    "Identity operators<br>\n",
    "In Python, is and is not are used to check if two values are located on the same part of the memory. Two variables that are equal does not imply that they are identical."
   ]
  },
  {
   "cell_type": "code",
   "execution_count": 2,
   "id": "f02fd21c",
   "metadata": {},
   "outputs": [
    {
     "data": {
      "text/plain": [
       "2893354828016"
      ]
     },
     "execution_count": 2,
     "metadata": {},
     "output_type": "execute_result"
    }
   ],
   "source": [
    "a = 1\n",
    "id(a)"
   ]
  },
  {
   "cell_type": "code",
   "execution_count": 3,
   "id": "ed5d5b9b",
   "metadata": {},
   "outputs": [
    {
     "data": {
      "text/plain": [
       "2893354828048"
      ]
     },
     "execution_count": 3,
     "metadata": {},
     "output_type": "execute_result"
    }
   ],
   "source": [
    "a = 2\n",
    "id(a)"
   ]
  },
  {
   "cell_type": "code",
   "execution_count": 4,
   "id": "e496c7a0",
   "metadata": {},
   "outputs": [
    {
     "data": {
      "text/plain": [
       "True"
      ]
     },
     "execution_count": 4,
     "metadata": {},
     "output_type": "execute_result"
    }
   ],
   "source": [
    "a = 1\n",
    "b = 1\n",
    "\n",
    "a is b"
   ]
  },
  {
   "cell_type": "code",
   "execution_count": 5,
   "id": "d3a670ad",
   "metadata": {},
   "outputs": [
    {
     "data": {
      "text/plain": [
       "2893354828016"
      ]
     },
     "execution_count": 5,
     "metadata": {},
     "output_type": "execute_result"
    }
   ],
   "source": [
    "id(a)"
   ]
  },
  {
   "cell_type": "code",
   "execution_count": 7,
   "id": "9f1a704c",
   "metadata": {},
   "outputs": [
    {
     "data": {
      "text/plain": [
       "2893354828016"
      ]
     },
     "execution_count": 7,
     "metadata": {},
     "output_type": "execute_result"
    }
   ],
   "source": [
    "id(b)"
   ]
  },
  {
   "cell_type": "code",
   "execution_count": 8,
   "id": "ac5d13af",
   "metadata": {},
   "outputs": [
    {
     "data": {
      "text/plain": [
       "False"
      ]
     },
     "execution_count": 8,
     "metadata": {},
     "output_type": "execute_result"
    }
   ],
   "source": [
    "a = 257\n",
    "b = 257\n",
    "\n",
    "a is b"
   ]
  },
  {
   "cell_type": "code",
   "execution_count": 9,
   "id": "437d669c",
   "metadata": {},
   "outputs": [
    {
     "data": {
      "text/plain": [
       "2893435203952"
      ]
     },
     "execution_count": 9,
     "metadata": {},
     "output_type": "execute_result"
    }
   ],
   "source": [
    "id(a)"
   ]
  },
  {
   "cell_type": "code",
   "execution_count": 10,
   "id": "afc4cc91",
   "metadata": {},
   "outputs": [
    {
     "data": {
      "text/plain": [
       "True"
      ]
     },
     "execution_count": 10,
     "metadata": {},
     "output_type": "execute_result"
    }
   ],
   "source": [
    "a == b"
   ]
  },
  {
   "cell_type": "code",
   "execution_count": 11,
   "id": "68201e6f",
   "metadata": {},
   "outputs": [
    {
     "data": {
      "text/plain": [
       "2893435205488"
      ]
     },
     "execution_count": 11,
     "metadata": {},
     "output_type": "execute_result"
    }
   ],
   "source": [
    "id(b)"
   ]
  },
  {
   "cell_type": "code",
   "execution_count": 12,
   "id": "38175c5f",
   "metadata": {},
   "outputs": [
    {
     "data": {
      "text/plain": [
       "False"
      ]
     },
     "execution_count": 12,
     "metadata": {},
     "output_type": "execute_result"
    }
   ],
   "source": [
    "# -5 to 256\n",
    "\n",
    "a = -14\n",
    "b = -14\n",
    "\n",
    "a is b"
   ]
  },
  {
   "cell_type": "markdown",
   "id": "aefa46e4",
   "metadata": {},
   "source": [
    "### `Q 9: Disadvantages of Python.`\n",
    "\n",
    "https://www.geeksforgeeks.org/disadvantages-of-python"
   ]
  },
  {
   "cell_type": "markdown",
   "id": "983964f6",
   "metadata": {},
   "source": [
    "### `Q10 How strings are stored in Python?`\n",
    "- https://stackoverflow.com/questions/19224059/how-strings-are-stored-in-python-memory-model\n",
    "- https://www.quora.com/How-are-strings-stored-internally-in-Python-3\n",
    "- https://betterprogramming.pub/an-interviewers-favorite-question-how-are-python-strings-stored-in-internal-memory-ac0eaef9d9c2"
   ]
  },
  {
   "cell_type": "markdown",
   "id": "3ca03eb5",
   "metadata": {},
   "source": [
    "### `Q10 What is Zen of Python?`\n",
    "\n",
    "The Zen of Python is a collection of 19 \"guiding principles\" for writing computer programs that influence the design of the Python programming language.\n",
    "https://en.wikipedia.org/wiki/Zen_of_Python\n",
    "\n",
    "* Beautiful is better than ugly.\n",
    "* Explicit is better than implicit.\n",
    "* Simple is better than complex.\n",
    "* Complex is better than complicated.\n",
    "* Flat is better than nested.\n",
    "* Sparse is better than dense.\n",
    "* Readability counts.\n",
    "* Special cases aren't special enough to break the rules.\n",
    "* Although practicality beats purity.\n",
    "* Errors should never pass silently.\n",
    "* Unless explicitly silenced.\n",
    "* In the face of ambiguity, refuse the temptation to guess.\n",
    "* There should be one-- and preferably only one --obvious way to do it.\n",
    "* Although that way may not be obvious at first unless you're Dutch.\n",
    "* Now is better than never.\n",
    "* Although never is often better than *right* now.\n",
    "* If the implementation is hard to explain, it's a bad idea.\n",
    "* If the implementation is easy to explain, it may be a good idea.\n",
    "* Namespaces are one honking great idea -- let's do more of those!\n",
    "\n",
    "Explained in detail here - https://inventwithpython.com/blog/2018/08/17/the-zen-of-python-explained/"
   ]
  },
  {
   "cell_type": "markdown",
   "id": "9ac6be77",
   "metadata": {},
   "source": [
    "### `Q11 Identity operator (is) vs ==?`\n",
    "\n",
    "->> Here’s the main difference between python “==” vs “is:”\n",
    "\n",
    "Identity operators: The “is” and “is not” keywords are called identity operators that compare objects based on their identity.\n",
    "Equality operator: The “==” and “!=” are called equality operators that compare the objects based on their values.\n"
   ]
  },
  {
   "cell_type": "code",
   "execution_count": 13,
   "id": "0d2f01ab",
   "metadata": {},
   "outputs": [
    {
     "name": "stdout",
     "output_type": "stream",
     "text": [
      "id of p 2893436102336\n",
      "Id of s 2893436102336\n",
      "id of q 2893436102848\n",
      "Comapare- s == q True\n",
      "Identity- s is q False\n",
      "Identity- s is p True\n",
      "Comapare- s == p True\n"
     ]
    }
   ],
   "source": [
    "# Case 4:\n",
    "# Here variable s is assigned a list,\n",
    "# and q assigned a list values same as s but on slicing of list a new list is generated\n",
    "s=[1,2,3]\n",
    "p=s\n",
    "# cloning\n",
    "q=s[:]\n",
    "print(\"id of p\", id(p))\n",
    "print(\"Id of s\", id(s))\n",
    "print(\"id of q\", id(q))\n",
    "print(\"Comapare- s == q\", s==q)\n",
    "print(\"Identity- s is q\", s is q)\n",
    "print(\"Identity- s is p\", s is p)\n",
    "print(\"Comapare- s == p\", s==p)"
   ]
  },
  {
   "cell_type": "code",
   "execution_count": 14,
   "id": "d05f4351",
   "metadata": {},
   "outputs": [
    {
     "name": "stdout",
     "output_type": "stream",
     "text": [
      "[1, 2, 3, 4]\n",
      "[1, 2, 3]\n"
     ]
    }
   ],
   "source": [
    "a = [1,2,3]\n",
    "b = a[:]\n",
    "\n",
    "a.append(4)\n",
    "print(a)\n",
    "print(b)"
   ]
  },
  {
   "cell_type": "markdown",
   "id": "9646db86",
   "metadata": {},
   "source": [
    "### `Q12 What does _ variables represent in Python?`\n",
    "\n",
    "[GssksForGeeks Article](https://www.geeksforgeeks.org/underscore-_-python)\n",
    "\n",
    "Underscore _ is considered as \"I don't Care\" or \"Throwaway\" variable in Python\n",
    "\n",
    "\n",
    "* The underscore _ is used for ignoring the specific values. If you don’t need the specific values or the values are not used, just assign the values to underscore.\n",
    "\n",
    "** Ignore a value when unpacking\n",
    "\n",
    "** Ignore the index"
   ]
  },
  {
   "cell_type": "code",
   "execution_count": 15,
   "id": "d0a78179",
   "metadata": {},
   "outputs": [
    {
     "name": "stdout",
     "output_type": "stream",
     "text": [
      "x- 1\n",
      "y- 3\n"
     ]
    }
   ],
   "source": [
    "# Ignore a value when unpacking\n",
    "x, _, y = (1, 2, 3)\n",
    "\n",
    "print(\"x-\",x)\n",
    "print(\"y-\", y)"
   ]
  },
  {
   "cell_type": "code",
   "execution_count": 16,
   "id": "b91b8f51",
   "metadata": {},
   "outputs": [
    {
     "name": "stdout",
     "output_type": "stream",
     "text": [
      "hello\n",
      "hello\n",
      "hello\n",
      "hello\n",
      "hello\n"
     ]
    }
   ],
   "source": [
    "#Ignore the index\n",
    "\n",
    "# Say we want to print hello 5 times, we don't need index value\n",
    "\n",
    "for _ in range(5):\n",
    "    print('hello')"
   ]
  },
  {
   "cell_type": "markdown",
   "id": "c79c896a",
   "metadata": {},
   "source": [
    "### `Q13 Modules vs packages vs Library`"
   ]
  },
  {
   "cell_type": "markdown",
   "id": "db6204d0",
   "metadata": {},
   "source": [
    "Python uses some terms that you may not be familiar with if you’re coming from a different language. Among these are modules, packages, and libraries.\n",
    "\n",
    "* A **module** is a Python file that’s intended to be imported into scripts or other modules. It often defines members like classes, functions, and variables intended to be used in other files that import it.\n",
    "\n",
    "* A **package** is a collection of related modules that work together to provide certain functionality. These modules are contained within a folder and can be imported just like any other modules. This folder will often contain a special `__init__` file that tells Python it’s a package, potentially containing more modules nested within subfolders\n",
    "\n",
    "* A **library** is an umbrella term that loosely means “a bundle of code.” These can have tens or even hundreds of individual modules that can provide a wide range of functionality. Matplotlib is a plotting library. The Python Standard Library contains hundreds of modules for performing common tasks, like sending emails or reading JSON data. What’s special about the Standard Library is that it comes bundled with your installation of Python, so you can use its modules without having to download them from anywhere.\n",
    "\n",
    "These are not strict definitions. Many people feel these terms are somewhat open to interpretation. Script and module are terms that you may hear used interchangeably.\n",
    "\n",
    "https://stackoverflow.com/questions/19198166/whats-the-difference-between-a-module-and-a-library-in-python\n",
    "\n",
    "https://www.geeksforgeeks.org/what-is-the-difference-between-pythons-module-package-and-library/"
   ]
  },
  {
   "cell_type": "markdown",
   "id": "df93858e",
   "metadata": {},
   "source": [
    "### `Q14 Why 0.3 – 0.2 is not equal to 0.1 in Python?`"
   ]
  },
  {
   "cell_type": "markdown",
   "id": "f2de5c4e",
   "metadata": {},
   "source": [
    "The reason behind it is called “*precision*”, and it’s due to the fact that computers do not compute in Decimal, but in Binary. Computers do not use a base 10 system, they use a base 2 system (also called Binary code).\n",
    "\n",
    "https://www.geeksforgeeks.org/why-0-3-0-2-is-not-equal-to-0-1-in-python/"
   ]
  },
  {
   "cell_type": "code",
   "execution_count": 17,
   "id": "77e96cb2",
   "metadata": {},
   "outputs": [
    {
     "name": "stdout",
     "output_type": "stream",
     "text": [
      "0.09999999999999998\n",
      "False\n"
     ]
    }
   ],
   "source": [
    "# code\n",
    "print(0.3 - 0.2)\n",
    "print(0.3 - 0.2 == 0.1)"
   ]
  },
  {
   "cell_type": "markdown",
   "id": "4781bb9c",
   "metadata": {},
   "source": [
    "### `Q 15 - Python Docstrings`\n",
    "\n",
    "https://www.geeksforgeeks.org/python-docstrings"
   ]
  },
  {
   "cell_type": "code",
   "execution_count": 18,
   "id": "385e64ba",
   "metadata": {},
   "outputs": [
    {
     "name": "stdout",
     "output_type": "stream",
     "text": [
      "hello\n"
     ]
    }
   ],
   "source": [
    "print('hello')"
   ]
  },
  {
   "cell_type": "code",
   "execution_count": 19,
   "id": "5256ac51",
   "metadata": {},
   "outputs": [
    {
     "data": {
      "text/plain": [
       "int"
      ]
     },
     "execution_count": 19,
     "metadata": {},
     "output_type": "execute_result"
    }
   ],
   "source": [
    "type(3)"
   ]
  },
  {
   "cell_type": "code",
   "execution_count": 20,
   "id": "3443e998",
   "metadata": {},
   "outputs": [
    {
     "name": "stdout",
     "output_type": "stream",
     "text": [
      "Forward raw_input to frontends\n",
      "\n",
      "        Raises\n",
      "        ------\n",
      "        StdinNotImplementedError if active frontend doesn't support stdin.\n",
      "        \n"
     ]
    }
   ],
   "source": [
    "print(input.__doc__)"
   ]
  },
  {
   "cell_type": "code",
   "execution_count": 21,
   "id": "557b142b",
   "metadata": {},
   "outputs": [
    {
     "name": "stdout",
     "output_type": "stream",
     "text": [
      "type(object) -> the object's type\n",
      "type(name, bases, dict, **kwds) -> a new type\n"
     ]
    }
   ],
   "source": [
    "print(type.__doc__)"
   ]
  },
  {
   "cell_type": "code",
   "execution_count": 22,
   "id": "a8ec82bd",
   "metadata": {},
   "outputs": [
    {
     "name": "stdout",
     "output_type": "stream",
     "text": [
      "2893436113584\n",
      "2893429436464\n"
     ]
    }
   ],
   "source": [
    "s = 'have'\n",
    "print(id(s))\n",
    "s = s.capitalize()\n",
    "print(id(s))"
   ]
  },
  {
   "cell_type": "code",
   "execution_count": 23,
   "id": "477c62ef",
   "metadata": {},
   "outputs": [
    {
     "name": "stdout",
     "output_type": "stream",
     "text": [
      "hello\n",
      "world\n"
     ]
    }
   ],
   "source": [
    "a,b = print('hello'),print('world')"
   ]
  },
  {
   "cell_type": "code",
   "execution_count": 24,
   "id": "32395ff9",
   "metadata": {},
   "outputs": [
    {
     "name": "stdout",
     "output_type": "stream",
     "text": [
      "3 3 3 3 "
     ]
    }
   ],
   "source": [
    "for i in range(1, 5):\n",
    "    i = 3\n",
    "    print(i, end=' ')\n"
   ]
  },
  {
   "cell_type": "code",
   "execution_count": null,
   "id": "10dd25d7",
   "metadata": {},
   "outputs": [],
   "source": []
  }
 ],
 "metadata": {
  "kernelspec": {
   "display_name": "Python 3 (ipykernel)",
   "language": "python",
   "name": "python3"
  },
  "language_info": {
   "codemirror_mode": {
    "name": "ipython",
    "version": 3
   },
   "file_extension": ".py",
   "mimetype": "text/x-python",
   "name": "python",
   "nbconvert_exporter": "python",
   "pygments_lexer": "ipython3",
   "version": "3.10.9"
  }
 },
 "nbformat": 4,
 "nbformat_minor": 5
}
